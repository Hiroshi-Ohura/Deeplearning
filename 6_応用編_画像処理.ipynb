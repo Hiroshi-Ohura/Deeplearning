{
 "cells": [
  {
   "cell_type": "code",
   "execution_count": 1,
   "metadata": {
    "collapsed": true
   },
   "outputs": [],
   "source": [
    "%matplotlib inline\n",
    "%load_ext autoreload\n",
    "%autoreload 2"
   ]
  },
  {
   "cell_type": "code",
   "execution_count": 2,
   "metadata": {
    "collapsed": true
   },
   "outputs": [],
   "source": [
    "import numpy as np\n",
    "import pandas as pd\n",
    "np.random.seed(151)"
   ]
  },
  {
   "cell_type": "code",
   "execution_count": 3,
   "metadata": {
    "collapsed": true
   },
   "outputs": [],
   "source": [
    "from sklearn.metrics import classification_report"
   ]
  },
  {
   "cell_type": "markdown",
   "metadata": {},
   "source": [
    "# Deep Learningドリル - 応用編（画像処理）-"
   ]
  },
  {
   "cell_type": "markdown",
   "metadata": {},
   "source": [
    "みなさんはここまでの演習でDeep Learningの基礎について学習してきました。ここまで理解していればもうDeep Learningで基本的なモデルを設計して実務で使うことができるでしょう。\n",
    "\n",
    "ここでは基礎から一歩踏み出して、もっと応用的な問題に挑戦してみましょう。この章では、Deep Learningを使った画像処理について学びます。画像処理には欠かせないCNNについても実際に体験していただきます。"
   ]
  },
  {
   "cell_type": "markdown",
   "metadata": {},
   "source": [
    "## 例題"
   ]
  },
  {
   "cell_type": "markdown",
   "metadata": {},
   "source": [
    "あなたの務める会社では、自動運転システムを開発することになりました。あなたは開発プロジェクトの中で、標識認識部分のR&Dを担当しています。\n",
    "\n",
    "標識の画像から種類を認識するデモシステムを作成してみましょう。"
   ]
  },
  {
   "cell_type": "markdown",
   "metadata": {},
   "source": [
    "## データの準備"
   ]
  },
  {
   "cell_type": "markdown",
   "metadata": {},
   "source": [
    "今回はフリーで公開されている標識画像データセットを使います。ただし、このデータの再配布について条件が明示されていないため、以下のURLから個別にダウンロードしてください。"
   ]
  },
  {
   "cell_type": "markdown",
   "metadata": {},
   "source": [
    "* http://benchmark.ini.rub.de/Dataset/GTSRB_Final_Training_Images.zip\n",
    "* http://benchmark.ini.rub.de/Dataset/GTSRB_Final_Test_Images.zip\n",
    "* http://benchmark.ini.rub.de/Dataset/GTSRB_Final_Test_GT.zip"
   ]
  },
  {
   "cell_type": "markdown",
   "metadata": {},
   "source": [
    "ダウンロードしたら、このファイル\"6\\_応用編\\_画像処理.ipynb\"と同じディレクトリにダウンロードしたZipファイルを置いて下さい。"
   ]
  },
  {
   "cell_type": "markdown",
   "metadata": {},
   "source": [
    "以下の行を実行して、ダウンロードした3つのファイルが表示されれば成功です。"
   ]
  },
  {
   "cell_type": "code",
   "execution_count": 4,
   "metadata": {},
   "outputs": [
    {
     "name": "stdout",
     "output_type": "stream",
     "text": [
      " ドライブ C のボリューム ラベルは Windows です\n",
      " ボリューム シリアル番号は 5028-F110 です\n",
      "\n",
      " C:\\Users\\Hiroshi.Hiromax\\Downloads\\Homework-master-ab83c0f2dc938cf3204ec3fcbaff174909161ba8 のディレクトリ\n",
      "\n",
      "2017/11/12  15:56            99,620 GTSRB_Final_Test_GT.zip\n",
      "2017/11/12  16:02        88,978,620 GTSRB_Final_Test_Images.zip\n",
      "2017/11/12  16:19       276,294,756 GTSRB_Final_Training_Images.zip\n",
      "               3 個のファイル         365,372,996 バイト\n",
      "               0 個のディレクトリ  363,126,509,568 バイトの空き領域\n"
     ]
    }
   ],
   "source": [
    "ls *.zip"
   ]
  },
  {
   "cell_type": "markdown",
   "metadata": {},
   "source": [
    "解凍します。"
   ]
  },
  {
   "cell_type": "code",
   "execution_count": 5,
   "metadata": {
    "collapsed": true
   },
   "outputs": [],
   "source": [
    "import zipfile"
   ]
  },
  {
   "cell_type": "code",
   "execution_count": 6,
   "metadata": {
    "collapsed": true
   },
   "outputs": [],
   "source": [
    "with zipfile.ZipFile(\"GTSRB_Final_Training_Images.zip\", \"r\") as fp:\n",
    "    fp.extractall()"
   ]
  },
  {
   "cell_type": "code",
   "execution_count": 7,
   "metadata": {
    "collapsed": true
   },
   "outputs": [],
   "source": [
    "with zipfile.ZipFile(\"GTSRB_Final_Test_Images.zip\", \"r\") as fp:\n",
    "    fp.extractall()"
   ]
  },
  {
   "cell_type": "code",
   "execution_count": 8,
   "metadata": {
    "collapsed": true
   },
   "outputs": [],
   "source": [
    "with zipfile.ZipFile(\"GTSRB_Final_Test_GT.zip\", \"r\") as fp:\n",
    "    fp.extractall()"
   ]
  },
  {
   "cell_type": "markdown",
   "metadata": {},
   "source": [
    "これで解凍されました。"
   ]
  },
  {
   "cell_type": "code",
   "execution_count": 9,
   "metadata": {},
   "outputs": [
    {
     "name": "stdout",
     "output_type": "stream",
     "text": [
      " ドライブ C のボリューム ラベルは Windows です\n",
      " ボリューム シリアル番号は 5028-F110 です\n",
      "\n",
      " C:\\Users\\Hiroshi.Hiromax\\Downloads\\Homework-master-ab83c0f2dc938cf3204ec3fcbaff174909161ba8\\GTSRB のディレクトリ\n",
      "\n",
      "2017/11/12  16:45    <DIR>          .\n",
      "2017/11/12  16:45    <DIR>          ..\n",
      "2017/11/12  16:41    <DIR>          Final_Test\n",
      "2017/11/12  16:28    <DIR>          Final_Training\n",
      "2017/11/19  19:23             2,568 Readme-Images.txt\n",
      "2017/11/19  19:28             2,508 Readme-Images-Final-test.txt\n",
      "               2 個のファイル               5,076 バイト\n",
      "               4 個のディレクトリ  363,114,487,808 バイトの空き領域\n"
     ]
    }
   ],
   "source": [
    "ls GTSRB"
   ]
  },
  {
   "cell_type": "markdown",
   "metadata": {},
   "source": [
    "Final_Trainingの中に学習データが含まれています。"
   ]
  },
  {
   "cell_type": "code",
   "execution_count": 10,
   "metadata": {
    "collapsed": true
   },
   "outputs": [],
   "source": [
    "from PIL import Image"
   ]
  },
  {
   "cell_type": "markdown",
   "metadata": {},
   "source": [
    "中を覗いてみましょう。"
   ]
  },
  {
   "cell_type": "code",
   "execution_count": 11,
   "metadata": {},
   "outputs": [
    {
     "data": {
      "image/png": "[encoded data removed]",
      "text/plain": [
       "<PIL.PpmImagePlugin.PpmImageFile image mode=RGB size=29x30 at 0x28649E8A0F0>"
      ]
     },
     "execution_count": 11,
     "metadata": {},
     "output_type": "execute_result"
    }
   ],
   "source": [
    "Image.open(\"GTSRB/Final_Training/Images/00000/00000_00000.ppm\")"
   ]
  },
  {
   "cell_type": "code",
   "execution_count": 12,
   "metadata": {},
   "outputs": [
    {
     "data": {
      "image/png": "[encoded data removed]",
      "text/plain": [
       "<PIL.PpmImagePlugin.PpmImageFile image mode=RGB size=144x148 at 0x2864F215048>"
      ]
     },
     "execution_count": 12,
     "metadata": {},
     "output_type": "execute_result"
    }
   ],
   "source": [
    "Image.open(\"GTSRB/Final_Training/Images/00000/00000_00029.ppm\")"
   ]
  },
  {
   "cell_type": "code",
   "execution_count": 13,
   "metadata": {},
   "outputs": [
    {
     "data": {
      "image/png": "[encoded data removed]",
      "text/plain": [
       "<PIL.PpmImagePlugin.PpmImageFile image mode=RGB size=28x27 at 0x2864F215160>"
      ]
     },
     "execution_count": 13,
     "metadata": {},
     "output_type": "execute_result"
    }
   ],
   "source": [
    "Image.open(\"GTSRB/Final_Training/Images/00042/00007_00001.ppm\")"
   ]
  },
  {
   "cell_type": "code",
   "execution_count": 14,
   "metadata": {},
   "outputs": [
    {
     "data": {
      "image/png": "[encoded data removed]",
      "text/plain": [
       "<PIL.PpmImagePlugin.PpmImageFile image mode=RGB size=68x69 at 0x2864F2150F0>"
      ]
     },
     "execution_count": 14,
     "metadata": {},
     "output_type": "execute_result"
    }
   ],
   "source": [
    "Image.open(\"GTSRB/Final_Training/Images/00042/00007_00029.ppm\")"
   ]
  },
  {
   "cell_type": "code",
   "execution_count": 23,
   "metadata": {},
   "outputs": [
    {
     "data": {
      "image/png": "[encoded data removed]",
      "text/plain": [
       "<PIL.PpmImagePlugin.PpmImageFile image mode=RGB size=42x41 at 0x2864F22B358>"
      ]
     },
     "execution_count": 23,
     "metadata": {},
     "output_type": "execute_result"
    }
   ],
   "source": [
    "Image.open(\"GTSRB/Final_Training/Images/00042/00006_00020.ppm\")"
   ]
  },
  {
   "cell_type": "markdown",
   "metadata": {},
   "source": [
    "ディレクトリ部分の数字(000000や000042など)がクラス番号です。ファイル名の前半の数字が写真を撮影したトラックの番号、後半が写真の番号です。トラックは道をカメラをつけて走っていますので、後半の数字が大きくなればなるほど近づいていくわけですね。"
   ]
  },
  {
   "cell_type": "markdown",
   "metadata": {},
   "source": [
    "## 画像のロード"
   ]
  },
  {
   "cell_type": "markdown",
   "metadata": {},
   "source": [
    "それではさっそく初めましょう。まずは画像をnumpy配列にロードします。"
   ]
  },
  {
   "cell_type": "code",
   "execution_count": 25,
   "metadata": {
    "collapsed": true
   },
   "outputs": [],
   "source": [
    "import os"
   ]
  },
  {
   "cell_type": "code",
   "execution_count": 26,
   "metadata": {
    "collapsed": true
   },
   "outputs": [],
   "source": [
    "class Datum(object):\n",
    "    def __init__(self, vector, label, filename):\n",
    "        self.vector = vector\n",
    "        self.label = label\n",
    "        self.filename = filename"
   ]
  },
  {
   "cell_type": "code",
   "execution_count": 27,
   "metadata": {
    "collapsed": true
   },
   "outputs": [],
   "source": [
    "train = []\n",
    "for dirpath, _, filenames in os.walk(\"GTSRB/Final_Training/Images\"):\n",
    "    for filename in filenames:\n",
    "        if filename.endswith(\".ppm\"):\n",
    "            path = os.path.join(dirpath, filename)\n",
    "            dirname = os.path.basename(dirpath)\n",
    "            img = Image.open(path)\n",
    "            vector = np.asarray(img)\n",
    "            train.append(Datum(vector, int(dirname), filename))"
   ]
  },
  {
   "cell_type": "code",
   "execution_count": 28,
   "metadata": {
    "collapsed": true
   },
   "outputs": [],
   "source": [
    "from glob import glob\n",
    "import csv"
   ]
  },
  {
   "cell_type": "code",
   "execution_count": 29,
   "metadata": {},
   "outputs": [],
   "source": [
    "ground_truth = dict()\n",
    "with open(\"GT-final_test.csv\") as fp:\n",
    "    reader = csv.reader(fp, delimiter=\";\")\n",
    "    for row in reader:\n",
    "        filename = row[0]\n",
    "        class_id = row[7]\n",
    "        ground_truth[filename] = class_id\n",
    "\n",
    "test = []\n",
    "for path in glob(\"GTSRB/Final_Test/Images/*.ppm\"):\n",
    "    filename = os.path.basename(path)\n",
    "    label = ground_truth[filename]\n",
    "    img = Image.open(path)\n",
    "    vector = np.asarray(img)\n",
    "    test.append(Datum(vector, int(label), path))"
   ]
  },
  {
   "cell_type": "markdown",
   "metadata": {},
   "source": [
    "データ数を確認しましょう。"
   ]
  },
  {
   "cell_type": "code",
   "execution_count": 30,
   "metadata": {},
   "outputs": [
    {
     "data": {
      "text/plain": [
       "39209"
      ]
     },
     "execution_count": 30,
     "metadata": {},
     "output_type": "execute_result"
    }
   ],
   "source": [
    "len(train)"
   ]
  },
  {
   "cell_type": "code",
   "execution_count": 31,
   "metadata": {},
   "outputs": [
    {
     "data": {
      "text/plain": [
       "12630"
      ]
     },
     "execution_count": 31,
     "metadata": {},
     "output_type": "execute_result"
    }
   ],
   "source": [
    "len(test)"
   ]
  },
  {
   "cell_type": "markdown",
   "metadata": {},
   "source": [
    "データのフォーマットを確認しておきましょう。"
   ]
  },
  {
   "cell_type": "markdown",
   "metadata": {},
   "source": [
    "画像はDatum.vectorに保存されています。"
   ]
  },
  {
   "cell_type": "code",
   "execution_count": 32,
   "metadata": {},
   "outputs": [
    {
     "data": {
      "text/plain": [
       "(30, 29, 3)"
      ]
     },
     "execution_count": 32,
     "metadata": {},
     "output_type": "execute_result"
    }
   ],
   "source": [
    "train[0].vector.shape"
   ]
  },
  {
   "cell_type": "markdown",
   "metadata": {},
   "source": [
    "実際の画像と見比べるとわかりますが、shapeは(行, 列, 色)の順に並んでいます。"
   ]
  },
  {
   "cell_type": "markdown",
   "metadata": {},
   "source": [
    "正解ラベルはDatum.labelに格納されています。"
   ]
  },
  {
   "cell_type": "code",
   "execution_count": 23,
   "metadata": {},
   "outputs": [
    {
     "data": {
      "text/plain": [
       "0"
      ]
     },
     "execution_count": 23,
     "metadata": {},
     "output_type": "execute_result"
    }
   ],
   "source": [
    "train[0].label"
   ]
  },
  {
   "cell_type": "markdown",
   "metadata": {},
   "source": [
    "画像サイズは1枚ずつ異なります。Deep Learningのモデルは異る長さのデータを受けとれないため、サイズを統一する必要がありますね。ここでは32x32に変換しましょう。"
   ]
  },
  {
   "cell_type": "code",
   "execution_count": 24,
   "metadata": {
    "collapsed": true
   },
   "outputs": [],
   "source": [
    "import scipy.misc"
   ]
  },
  {
   "cell_type": "code",
   "execution_count": 25,
   "metadata": {
    "collapsed": true
   },
   "outputs": [],
   "source": [
    "for d in train:\n",
    "    d.vector = scipy.misc.imresize(d.vector, (32, 32))"
   ]
  },
  {
   "cell_type": "code",
   "execution_count": 26,
   "metadata": {
    "collapsed": true
   },
   "outputs": [],
   "source": [
    "for d in test:\n",
    "    d.vector = scipy.misc.imresize(d.vector, (32, 32))"
   ]
  },
  {
   "cell_type": "markdown",
   "metadata": {},
   "source": [
    "データを確認しましょう。"
   ]
  },
  {
   "cell_type": "code",
   "execution_count": 27,
   "metadata": {},
   "outputs": [
    {
     "data": {
      "text/plain": [
       "(32, 32, 3)"
      ]
     },
     "execution_count": 27,
     "metadata": {},
     "output_type": "execute_result"
    }
   ],
   "source": [
    "train[0].vector.shape"
   ]
  },
  {
   "cell_type": "markdown",
   "metadata": {},
   "source": [
    "## 前処理"
   ]
  },
  {
   "cell_type": "markdown",
   "metadata": {},
   "source": [
    "処理を簡単にするため、データをすべて一つのデータにしてしまいましょう。"
   ]
  },
  {
   "cell_type": "code",
   "execution_count": 28,
   "metadata": {
    "collapsed": true
   },
   "outputs": [],
   "source": [
    "train_x = np.empty((len(train), 32, 32, 3), dtype=np.float32)\n",
    "train_y = np.empty((len(train),), dtype=np.int32)\n",
    "\n",
    "for i, d in enumerate(train):\n",
    "    train_x[i, :, : ,:] = d.vector\n",
    "    train_y[i] = d.label"
   ]
  },
  {
   "cell_type": "code",
   "execution_count": 29,
   "metadata": {
    "collapsed": true
   },
   "outputs": [],
   "source": [
    "test_x = np.empty((len(test), 32, 32, 3), dtype=np.float32)\n",
    "test_y = np.empty((len(test),), dtype=np.int32)\n",
    "\n",
    "for i, d in enumerate(test):\n",
    "    test_x[i, :, : ,:] = d.vector\n",
    "    test_y[i] = d.label"
   ]
  },
  {
   "cell_type": "code",
   "execution_count": 30,
   "metadata": {},
   "outputs": [
    {
     "data": {
      "text/plain": [
       "((39209, 32, 32, 3), (39209,))"
      ]
     },
     "execution_count": 30,
     "metadata": {},
     "output_type": "execute_result"
    }
   ],
   "source": [
    "train_x.shape, train_y.shape"
   ]
  },
  {
   "cell_type": "markdown",
   "metadata": {},
   "source": [
    "学習データから開発データをとりわけておきましょう。"
   ]
  },
  {
   "cell_type": "code",
   "execution_count": 31,
   "metadata": {
    "collapsed": true
   },
   "outputs": [],
   "source": [
    "from sklearn.model_selection import train_test_split"
   ]
  },
  {
   "cell_type": "code",
   "execution_count": 32,
   "metadata": {
    "collapsed": true
   },
   "outputs": [],
   "source": [
    "train_x, dev_x, train_y, dev_y = train_test_split(train_x, train_y, test_size=0.1, random_state=11)"
   ]
  },
  {
   "cell_type": "code",
   "execution_count": 33,
   "metadata": {},
   "outputs": [
    {
     "data": {
      "text/plain": [
       "((35288, 32, 32, 3), (3921, 32, 32, 3), (35288,), (3921,))"
      ]
     },
     "execution_count": 33,
     "metadata": {},
     "output_type": "execute_result"
    }
   ],
   "source": [
    "train_x.shape, dev_x.shape, train_y.shape, dev_y.shape"
   ]
  },
  {
   "cell_type": "markdown",
   "metadata": {},
   "source": [
    "Scikit-LearnのStandardScalerは2次元までしか対応していませんので、自力で書きます。"
   ]
  },
  {
   "cell_type": "code",
   "execution_count": 34,
   "metadata": {
    "collapsed": true
   },
   "outputs": [],
   "source": [
    "class StandardScaler3d(object):\n",
    "    def __init__(self):\n",
    "        self.mean_ = None\n",
    "        self.var_ = None\n",
    "    \n",
    "    def fit_transform(self, x):\n",
    "        self.mean_ = np.mean(x, axis=0)\n",
    "        self.var_ = np.var(x, axis=0, ddof=1)\n",
    "        return self.transform(x)\n",
    "    \n",
    "    def transform(self, x):\n",
    "        return (x - self.mean_) / self.var_"
   ]
  },
  {
   "cell_type": "code",
   "execution_count": 35,
   "metadata": {
    "collapsed": true
   },
   "outputs": [],
   "source": [
    "scaler = StandardScaler3d()"
   ]
  },
  {
   "cell_type": "code",
   "execution_count": 36,
   "metadata": {
    "collapsed": true
   },
   "outputs": [],
   "source": [
    "train_x = scaler.fit_transform(train_x)"
   ]
  },
  {
   "cell_type": "code",
   "execution_count": 37,
   "metadata": {
    "collapsed": true
   },
   "outputs": [],
   "source": [
    "dev_x = scaler.transform(dev_x)"
   ]
  },
  {
   "cell_type": "code",
   "execution_count": 38,
   "metadata": {
    "collapsed": true
   },
   "outputs": [],
   "source": [
    "test_x = scaler.transform(test_x)"
   ]
  },
  {
   "cell_type": "markdown",
   "metadata": {},
   "source": [
    "さて、chainerでは、(データ, 色, 行, 列)の順にデータを並べる必要があります。並び変えには numpy.transpose を使います。"
   ]
  },
  {
   "cell_type": "code",
   "execution_count": 39,
   "metadata": {
    "collapsed": true
   },
   "outputs": [],
   "source": [
    "train_x = np.transpose(train_x, (0, 3, 1, 2))\n",
    "dev_x = np.transpose(dev_x, (0, 3, 1, 2))\n",
    "test_x = np.transpose(test_x, (0, 3, 1, 2))"
   ]
  },
  {
   "cell_type": "code",
   "execution_count": 40,
   "metadata": {},
   "outputs": [
    {
     "data": {
      "text/plain": [
       "((35288, 3, 32, 32), (3921, 3, 32, 32), (12630, 3, 32, 32))"
      ]
     },
     "execution_count": 40,
     "metadata": {},
     "output_type": "execute_result"
    }
   ],
   "source": [
    "train_x.shape, dev_x.shape, test_x.shape"
   ]
  },
  {
   "cell_type": "markdown",
   "metadata": {},
   "source": [
    "## モデル"
   ]
  },
  {
   "cell_type": "markdown",
   "metadata": {},
   "source": [
    "いよいよChainerでのモデル設計を行います。"
   ]
  },
  {
   "cell_type": "code",
   "execution_count": 41,
   "metadata": {
    "collapsed": true
   },
   "outputs": [],
   "source": [
    "from chainer import Chain, configuration\n",
    "import chainer.links as L\n",
    "import chainer.functions as F\n",
    "from chainer.optimizers import Adam\n",
    "from chainer.datasets import TupleDataset\n",
    "from chainer.iterators import SerialIterator\n",
    "from chainer.training import StandardUpdater, Trainer\n",
    "from chainer.training.extensions import PrintReport, LogReport, Evaluator"
   ]
  },
  {
   "cell_type": "code",
   "execution_count": 1,
   "metadata": {},
   "outputs": [
    {
     "ename": "NameError",
     "evalue": "name 'Chain' is not defined",
     "output_type": "error",
     "traceback": [
      "\u001b[1;31m---------------------------------------------------------------------------\u001b[0m",
      "\u001b[1;31mNameError\u001b[0m                                 Traceback (most recent call last)",
      "\u001b[1;32m<ipython-input-1-2142a003cd71>\u001b[0m in \u001b[0;36m<module>\u001b[1;34m()\u001b[0m\n\u001b[1;32m----> 1\u001b[1;33m \u001b[1;32mclass\u001b[0m \u001b[0mModel\u001b[0m\u001b[1;33m(\u001b[0m\u001b[0mChain\u001b[0m\u001b[1;33m)\u001b[0m\u001b[1;33m:\u001b[0m\u001b[1;33m\u001b[0m\u001b[0m\n\u001b[0m\u001b[0;32m      2\u001b[0m     \u001b[1;32mdef\u001b[0m \u001b[0m__init__\u001b[0m\u001b[1;33m(\u001b[0m\u001b[0mself\u001b[0m\u001b[1;33m)\u001b[0m\u001b[1;33m:\u001b[0m\u001b[1;33m\u001b[0m\u001b[0m\n\u001b[0;32m      3\u001b[0m         \u001b[0msuper\u001b[0m\u001b[1;33m(\u001b[0m\u001b[0mModel\u001b[0m\u001b[1;33m,\u001b[0m \u001b[0mself\u001b[0m\u001b[1;33m)\u001b[0m\u001b[1;33m.\u001b[0m\u001b[0m__init__\u001b[0m\u001b[1;33m(\u001b[0m\u001b[1;33m)\u001b[0m\u001b[1;33m\u001b[0m\u001b[0m\n\u001b[0;32m      4\u001b[0m         \u001b[1;32mwith\u001b[0m \u001b[0mself\u001b[0m\u001b[1;33m.\u001b[0m\u001b[0minit_scope\u001b[0m\u001b[1;33m(\u001b[0m\u001b[1;33m)\u001b[0m\u001b[1;33m:\u001b[0m\u001b[1;33m\u001b[0m\u001b[0m\n\u001b[0;32m      5\u001b[0m             \u001b[0mself\u001b[0m\u001b[1;33m.\u001b[0m\u001b[0mconv1\u001b[0m \u001b[1;33m=\u001b[0m \u001b[0mL\u001b[0m\u001b[1;33m.\u001b[0m\u001b[0mConvolution2D\u001b[0m\u001b[1;33m(\u001b[0m\u001b[1;36m3\u001b[0m\u001b[1;33m,\u001b[0m \u001b[1;36m3\u001b[0m\u001b[1;33m,\u001b[0m \u001b[0mksize\u001b[0m\u001b[1;33m=\u001b[0m\u001b[1;36m5\u001b[0m\u001b[1;33m)\u001b[0m\u001b[1;33m\u001b[0m\u001b[0m\n",
      "\u001b[1;31mNameError\u001b[0m: name 'Chain' is not defined"
     ]
    }
   ],
   "source": [
    "class Model(Chain):\n",
    "    def __init__(self):\n",
    "        super(Model, self).__init__()\n",
    "        with self.init_scope():\n",
    "            self.conv1 = L.Convolution2D(3, 3, ksize=5)\n",
    "            self.batch1 = L.BatchNormalization(3)\n",
    "            self.conv2 = L.Convolution2D(3, 1, ksize=3)\n",
    "            self.batch2 = L.BatchNormalization(1)\n",
    "            self.fc1 = L.Linear(100)\n",
    "            self.fc2 = L.Linear(43)\n",
    "    \n",
    "    def __call__(self, X):\n",
    "        h = self.conv1(X)\n",
    "        h = F.max_pooling_2d(h, ksize=3)\n",
    "        h = F.relu(h)\n",
    "        h = self.batch1(h)\n",
    "        \n",
    "        h = self.conv2(h)\n",
    "        h = F.max_pooling_2d(h, ksize=3)\n",
    "        h = F.relu(h)\n",
    "        h = self.batch2(h)\n",
    "        \n",
    "        h = F.reshape(h, (X.shape[0], np.prod(h.shape[1:])))\n",
    "        \n",
    "        h = self.fc1(h)\n",
    "        h = F.dropout(h, ratio=0.5)\n",
    "        h = F.relu(h)\n",
    "        return self.fc2(h)"
   ]
  },
  {
   "cell_type": "code",
   "execution_count": 2,
   "metadata": {},
   "outputs": [
    {
     "ename": "NameError",
     "evalue": "name 'Model' is not defined",
     "output_type": "error",
     "traceback": [
      "\u001b[1;31m---------------------------------------------------------------------------\u001b[0m",
      "\u001b[1;31mNameError\u001b[0m                                 Traceback (most recent call last)",
      "\u001b[1;32m<ipython-input-2-6415d50e69ee>\u001b[0m in \u001b[0;36m<module>\u001b[1;34m()\u001b[0m\n\u001b[1;32m----> 1\u001b[1;33m \u001b[0mmodel\u001b[0m \u001b[1;33m=\u001b[0m \u001b[0mModel\u001b[0m\u001b[1;33m(\u001b[0m\u001b[1;33m)\u001b[0m\u001b[1;33m\u001b[0m\u001b[0m\n\u001b[0m\u001b[0;32m      2\u001b[0m \u001b[0mclassifier\u001b[0m \u001b[1;33m=\u001b[0m \u001b[0mL\u001b[0m\u001b[1;33m.\u001b[0m\u001b[0mClassifier\u001b[0m\u001b[1;33m(\u001b[0m\u001b[0mmodel\u001b[0m\u001b[1;33m)\u001b[0m\u001b[1;33m\u001b[0m\u001b[0m\n\u001b[0;32m      3\u001b[0m \u001b[0moptimizer\u001b[0m \u001b[1;33m=\u001b[0m \u001b[0mAdam\u001b[0m\u001b[1;33m(\u001b[0m\u001b[1;33m)\u001b[0m\u001b[1;33m\u001b[0m\u001b[0m\n\u001b[0;32m      4\u001b[0m \u001b[0moptimizer\u001b[0m\u001b[1;33m.\u001b[0m\u001b[0msetup\u001b[0m\u001b[1;33m(\u001b[0m\u001b[0mclassifier\u001b[0m\u001b[1;33m)\u001b[0m\u001b[1;33m\u001b[0m\u001b[0m\n\u001b[0;32m      5\u001b[0m \u001b[0mtrain_dataset\u001b[0m \u001b[1;33m=\u001b[0m \u001b[0mTupleDataset\u001b[0m\u001b[1;33m(\u001b[0m\u001b[0mtrain_x\u001b[0m\u001b[1;33m,\u001b[0m \u001b[0mtrain_y\u001b[0m\u001b[1;33m)\u001b[0m\u001b[1;33m\u001b[0m\u001b[0m\n",
      "\u001b[1;31mNameError\u001b[0m: name 'Model' is not defined"
     ]
    }
   ],
   "source": [
    "model = Model()\n",
    "classifier = L.Classifier(model)\n",
    "optimizer = Adam()\n",
    "optimizer.setup(classifier)\n",
    "train_dataset = TupleDataset(train_x, train_y)\n",
    "dev_dataset = TupleDataset(dev_x, dev_y)\n",
    "test_dataset = TupleDataset(test_x, test_y)\n",
    "train_iterator = SerialIterator(train_dataset, batch_size=100, repeat=True)\n",
    "dev_iterator = SerialIterator(dev_dataset, batch_size=100, shuffle=False, repeat=False)\n",
    "test_iterator = SerialIterator(test_dataset, batch_size=100, shuffle=False, repeat=False)\n",
    "updater = StandardUpdater(train_iterator, optimizer, loss_func=classifier)\n",
    "trainer = Trainer(updater, (10000, 'iteration'))\n",
    "trainer.extend(Evaluator(dev_iterator, classifier), trigger=(100, 'iteration'), name=\"dev\")\n",
    "trainer.extend(Evaluator(test_iterator, classifier), trigger=(100, 'iteration'), name=\"test\")\n",
    "trainer.extend(PrintReport(['iteration', \"main/loss\", \"dev/main/loss\", \"test/main/loss\"]))\n",
    "\n",
    "logreport = LogReport(trigger=(100, 'iteration'))\n",
    "trainer.extend(logreport)\n",
    "trainer.run()"
   ]
  },
  {
   "cell_type": "markdown",
   "metadata": {},
   "source": [
    "学習に大変長い時間がかかりましたね。学習時間を短くするため、通常はGPUを使います。"
   ]
  },
  {
   "cell_type": "code",
   "execution_count": null,
   "metadata": {
    "collapsed": true
   },
   "outputs": [],
   "source": [
    "log_df = pd.DataFrame(logreport.log)\n",
    "pd.DataFrame(log_df[[\"main/loss\", \"dev/main/loss\"]].values, columns=[\"main/loss\", \"dev/main/loss\"], index=log_df[\"iteration\"]).plot()"
   ]
  },
  {
   "cell_type": "markdown",
   "metadata": {},
   "source": [
    "性能も見ておきましょう。性能は、log_dfの中に記録されています。"
   ]
  },
  {
   "cell_type": "code",
   "execution_count": null,
   "metadata": {
    "collapsed": true
   },
   "outputs": [],
   "source": [
    "log_df.tail()"
   ]
  },
  {
   "cell_type": "markdown",
   "metadata": {},
   "source": [
    "分類性能を確認しましょう。"
   ]
  },
  {
   "cell_type": "code",
   "execution_count": null,
   "metadata": {
    "collapsed": true
   },
   "outputs": [],
   "source": [
    "with configuration.using_config('train', False):\n",
    "    predicts = model(dev_x)\n",
    "predicts = np.array([predict.data for predict in predicts])\n",
    "predicts_y = np.argmax(predicts, axis=1)\n",
    "\n",
    "print(\"*** Scores for Dev data ***\")\n",
    "print(classification_report(dev_y, predicts_y))\n",
    "\n",
    "with configuration.using_config('train', False):\n",
    "    predicts = model(test_x)\n",
    "predicts = np.array([predict.data for predict in predicts])\n",
    "predicts_y = np.argmax(predicts, axis=1)\n",
    "\n",
    "print(\"*** Scores for Test data ***\")\n",
    "print(classification_report(test_y, predicts_y))"
   ]
  },
  {
   "cell_type": "markdown",
   "metadata": {},
   "source": [
    "完全にランダムであれば1/43ですから、そこそこ性能が出ていることがわかります。"
   ]
  },
  {
   "cell_type": "markdown",
   "metadata": {},
   "source": [
    "## Data Augmentation"
   ]
  },
  {
   "cell_type": "markdown",
   "metadata": {},
   "source": [
    "Data Augmentationは学習データを水増しすることでモデルの性能向上を狙う手法です。Deep Learningで画像処理を行なう場合、モデルが大規模化しやすい傾向にあります。大規模なモデルを学習するには、学習データも大量に必要になります。実務において、有り余る学習データを使える場合は稀ですので通常はこの手法を使ってデータを増やします。"
   ]
  },
  {
   "cell_type": "code",
   "execution_count": null,
   "metadata": {
    "collapsed": true
   },
   "outputs": [],
   "source": [
    "from scipy import ndimage"
   ]
  },
  {
   "cell_type": "markdown",
   "metadata": {},
   "source": [
    "画像の形を変換するのはアフィン変換という手法を使います。\n",
    "簡単に説明すると、画像の変換は画像の行列に対して変換行列を作用させたものとして取り扱うことができるというものです。\n",
    "ですので、画像を変換するために、変換行列を用意しなければいけません。\n",
    "\n",
    "天下り式ですが、回転と拡大を同時に行なう変換行列は以下のように書けます。(sは拡大率, aは回転の角度)\n",
    "興味のあるかたは調べてみてください。\n",
    "\n",
    "\\begin{eqnarray}\n",
    "A &=& \\left[\n",
    "\\begin{array}{ll}\n",
    "s & 0\\\\\n",
    "0 & s\n",
    "\\end{array}\n",
    "\\right]\n",
    "\\left[\n",
    "\\begin{array}{ll}\n",
    "\\cos a & -\\sin a\\\\\n",
    "\\sin a & \\cos a\\\\\n",
    "\\end{array}\n",
    "\\right]\\\\\n",
    "&=& s \\times \\left[\n",
    "\\begin{array}{ll}\n",
    "\\cos a & -\\sin a\\\\\n",
    "\\sin a & \\cos a\\\\\n",
    "\\end{array}\n",
    "\\right]\n",
    "\\end{eqnarray}"
   ]
  },
  {
   "cell_type": "code",
   "execution_count": null,
   "metadata": {
    "collapsed": true
   },
   "outputs": [],
   "source": [
    "class AugmentedDataset(object):\n",
    "    def __init__(self, x, y):\n",
    "        self.x = x\n",
    "        self.y = y\n",
    "        self.angle = None\n",
    "        self.scale = None\n",
    "        self.diff = None\n",
    "    \n",
    "    def __getitem__(self, index):\n",
    "        x = self.x[index].copy()\n",
    "        y = self.y[index].copy()\n",
    "        \n",
    "        if len(x.shape) != 3:\n",
    "            print(x.shape)\n",
    "            raise ValueError\n",
    "        \n",
    "        self.angle = np.random.normal(scale=0.1) # 回転角\n",
    "        self.scale = np.random.normal(loc=1, scale=0.1) # 拡大・縮小\n",
    "        self.diff = np.random.normal(scale=2, size=2) # 移動\n",
    "        \n",
    "        matrix = np.array(\n",
    "            [[np.cos(self.angle), -np.sin(self.angle)], \n",
    "             [np.sin(self.angle), np.cos(self.angle)]], \n",
    "            dtype=np.float32\n",
    "        ) * self.scale\n",
    "        \n",
    "        # 回転中心を画像の中心にする\n",
    "        # 参考: https://stackoverflow.com/questions/20161175/how-can-i-use-scipy-ndimage-interpolation-affine-transform-to-rotate-an-image-ab\n",
    "        center = np.array(x.shape[1:], dtype=np.float32) / 2\n",
    "        mapped = center.dot(matrix)\n",
    "        d = center - mapped\n",
    "        x[0] = ndimage.affine_transform(x[0], matrix.T, offset=d)\n",
    "        x[1] = ndimage.affine_transform(x[1], matrix.T, offset=d)\n",
    "        x[2] = ndimage.affine_transform(x[2], matrix.T, offset=d)\n",
    "        \n",
    "        return x, y\n",
    "        \n",
    "    def __len__(self):\n",
    "        return len(self.x)"
   ]
  },
  {
   "cell_type": "code",
   "execution_count": null,
   "metadata": {
    "collapsed": true
   },
   "outputs": [],
   "source": [
    "train_dataset_aug = AugmentedDataset(train_x, train_y)"
   ]
  },
  {
   "cell_type": "markdown",
   "metadata": {},
   "source": [
    "これで画像を毎回少しずつ揺らしながら返すdatasetができました。試しに実行してみましょう。"
   ]
  },
  {
   "cell_type": "code",
   "execution_count": null,
   "metadata": {
    "collapsed": true
   },
   "outputs": [],
   "source": [
    "img = np.transpose(train_dataset_aug[0][0], (1, 2, 0))\n",
    "m = img.max()\n",
    "\n",
    "print(train_dataset_aug.angle, train_dataset_aug.scale, train_dataset_aug.diff)\n",
    "Image.fromarray((img / m * 255).astype(np.uint8))"
   ]
  },
  {
   "cell_type": "code",
   "execution_count": null,
   "metadata": {
    "collapsed": true
   },
   "outputs": [],
   "source": [
    "model_aug = Model()\n",
    "classifier_aug = L.Classifier(model_aug)\n",
    "optimizer_aug = Adam()\n",
    "optimizer_aug.setup(classifier_aug)\n",
    "train_iterator_aug = SerialIterator(train_dataset_aug, batch_size=100, repeat=True)\n",
    "updater_aug = StandardUpdater(train_iterator_aug, optimizer_aug, loss_func=classifier_aug)\n",
    "trainer_aug = Trainer(updater_aug, (10000, 'iteration'))\n",
    "trainer_aug.extend(Evaluator(dev_iterator, classifier_aug), trigger=(100, 'iteration'), name=\"dev\")\n",
    "trainer_aug.extend(Evaluator(test_iterator, classifier_aug), trigger=(100, 'iteration'), name=\"test\")\n",
    "trainer_aug.extend(PrintReport(['iteration', \"main/loss\", \"dev/main/loss\", \"test/main/loss\"]))\n",
    "\n",
    "logreport_aug = LogReport(trigger=(100, 'iteration'))\n",
    "trainer_aug.extend(logreport_aug)\n",
    "trainer_aug.run()"
   ]
  },
  {
   "cell_type": "code",
   "execution_count": null,
   "metadata": {
    "collapsed": true
   },
   "outputs": [],
   "source": [
    "log_aug_df = pd.DataFrame(logreport_aug.log)\n",
    "pd.DataFrame(log_df[[\"main/loss\", \"dev/main/loss\"]].values, columns=[\"main/loss\", \"dev/main/loss\"], index=log_df[\"iteration\"]).plot()"
   ]
  },
  {
   "cell_type": "code",
   "execution_count": null,
   "metadata": {
    "collapsed": true
   },
   "outputs": [],
   "source": [
    "log_aug_df.tail()"
   ]
  },
  {
   "cell_type": "markdown",
   "metadata": {},
   "source": [
    "いかがですか？Data Augmentationなしの場合に比べて、開発データに対する収束が多少早くなっているのがわかると思います。(学習データに対するロスは、データが揺らされているため比較できません。開発データは同じものを使っているため比較可能です)"
   ]
  },
  {
   "cell_type": "markdown",
   "metadata": {},
   "source": [
    "このように、学習データをランダムに少しだけゆらすことで、データの揺らぎに強いモデルの学習が可能になります。(データの揺らぎに強いデータのことを __ロバストなモデル__ と言います。)"
   ]
  },
  {
   "cell_type": "markdown",
   "metadata": {},
   "source": [
    "最後に、分類性能を確認しておきましょう。"
   ]
  },
  {
   "cell_type": "code",
   "execution_count": null,
   "metadata": {
    "collapsed": true
   },
   "outputs": [],
   "source": [
    "with configuration.using_config('train', False):\n",
    "    predicts = model_aug(dev_x)\n",
    "predicts = np.array([predict.data for predict in predicts])\n",
    "predicts_y = np.argmax(predicts, axis=1)\n",
    "\n",
    "print(\"*** Scores for Dev data ***\")\n",
    "print(classification_report(dev_y, predicts_y))\n",
    "\n",
    "with configuration.using_config('train', False):\n",
    "    predicts = model_aug(test_x)\n",
    "predicts = np.array([predict.data for predict in predicts])\n",
    "predicts_y = np.argmax(predicts, axis=1)\n",
    "\n",
    "print(\"*** Scores for Test data ***\")\n",
    "print(classification_report(test_y, predicts_y))"
   ]
  },
  {
   "cell_type": "markdown",
   "metadata": {},
   "source": [
    "Data Augumentationによって性能が改善したことを確認してください。"
   ]
  }
 ],
 "metadata": {
  "kernelspec": {
   "display_name": "Python 3",
   "language": "python",
   "name": "python3"
  },
  "language_info": {
   "codemirror_mode": {
    "name": "ipython",
    "version": 3
   },
   "file_extension": ".py",
   "mimetype": "text/x-python",
   "name": "python",
   "nbconvert_exporter": "python",
   "pygments_lexer": "ipython3",
   "version": "3.6.1"
  }
 },
 "nbformat": 4,
 "nbformat_minor": 2
}
