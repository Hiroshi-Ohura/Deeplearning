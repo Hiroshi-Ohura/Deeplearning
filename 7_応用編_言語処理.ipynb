{
 "cells": [
  {
   "cell_type": "code",
   "execution_count": 1,
   "metadata": {
    "collapsed": true
   },
   "outputs": [],
   "source": [
    "%matplotlib inline\n",
    "%load_ext autoreload\n",
    "%autoreload 2"
   ]
  },
  {
   "cell_type": "code",
   "execution_count": 2,
   "metadata": {
    "collapsed": true
   },
   "outputs": [],
   "source": [
    "import os\n",
    "import csv\n",
    "import glob\n",
    "import codecs\n",
    "import json\n",
    "import re\n",
    "import random\n",
    "random.seed(151)"
   ]
  },
  {
   "cell_type": "code",
   "execution_count": 3,
   "metadata": {
    "collapsed": true
   },
   "outputs": [],
   "source": [
    "from collections import defaultdict"
   ]
  },
  {
   "cell_type": "code",
   "execution_count": 4,
   "metadata": {
    "collapsed": true
   },
   "outputs": [],
   "source": [
    "import nltk\n",
    "import janome.tokenizer"
   ]
  },
  {
   "cell_type": "code",
   "execution_count": 5,
   "metadata": {
    "collapsed": true
   },
   "outputs": [],
   "source": [
    "import numpy as np\n",
    "import pandas as pd\n",
    "np.random.seed(151)"
   ]
  },
  {
   "cell_type": "code",
   "execution_count": 6,
   "metadata": {
    "collapsed": true
   },
   "outputs": [],
   "source": [
    "from sklearn.metrics import classification_report"
   ]
  },
  {
   "cell_type": "code",
   "execution_count": 7,
   "metadata": {
    "collapsed": true
   },
   "outputs": [],
   "source": [
    "from chainer import Variable, Chain, reporter, configuration\n",
    "import chainer.links as L\n",
    "import chainer.functions as F\n",
    "from chainer.optimizers import Adam\n",
    "from chainer.datasets import TupleDataset\n",
    "from chainer.iterators import SerialIterator\n",
    "from chainer.training import StandardUpdater, Trainer\n",
    "from chainer.training.extensions import PrintReport, LogReport, Evaluator, observe_value, snapshot_object\n",
    "from chainer.training.triggers import MinValueTrigger"
   ]
  },
  {
   "cell_type": "markdown",
   "metadata": {},
   "source": [
    "# Deep Learningドリル - 応用編（言語処理）-"
   ]
  },
  {
   "cell_type": "markdown",
   "metadata": {},
   "source": [
    "前章ではDeep Learningによる画像処理を体験していただきました。\n",
    "\n",
    "この章では、時系列データ、特に言語データにおけるDeep Learningでの取り扱いについて学びましょう。"
   ]
  },
  {
   "cell_type": "markdown",
   "metadata": {},
   "source": [
    "## 例題"
   ]
  },
  {
   "cell_type": "markdown",
   "metadata": {},
   "source": [
    "あなたは、ブログサービスを運営する会社に務めています。あなたの所属する部署では、ユーザーがブログに書いた記事を分野ごとに自動で分類し、ブログ記事ランキングを作ることになりました。\n",
    "\n",
    "あなたはこのプロジェクトのR&D部門で学習アルゴリズムの設計開発を命じられました。プロトタイプを作成してみましょう。"
   ]
  },
  {
   "cell_type": "markdown",
   "metadata": {},
   "source": [
    "【注意】お使いのPythonバージョンなどによって、期待した性能が出ないことがあります(乱数の出方によって局所解に落ちやすいため)。その時は2行目と5行目の乱数seedを適当に変えて試してみてください。"
   ]
  },
  {
   "cell_type": "markdown",
   "metadata": {},
   "source": [
    "## コーパスのダウンロード"
   ]
  },
  {
   "cell_type": "markdown",
   "metadata": {},
   "source": [
    "学習に使うコーパス(文と正解データの集合)をダウンロードしましょう。"
   ]
  },
  {
   "cell_type": "code",
   "execution_count": 8,
   "metadata": {
    "collapsed": true
   },
   "outputs": [],
   "source": [
    "if not os.path.exists(\"nltk_data/corpora/knbc\"):\n",
    "    os.makedirs(\"nltk_data/corpora/knbc\")\n",
    "    nltk.download(\"knbc\", download_dir=\"nltk_data\")"
   ]
  },
  {
   "cell_type": "markdown",
   "metadata": {},
   "source": [
    "## データのロード"
   ]
  },
  {
   "cell_type": "markdown",
   "metadata": {},
   "source": [
    "ダウンロードしたデータは以下のような4つのファイルを含みます。詳しくは付属の仕様書をご覧ください。"
   ]
  },
  {
   "cell_type": "code",
   "execution_count": 9,
   "metadata": {
    "scrolled": true
   },
   "outputs": [
    {
     "name": "stderr",
     "output_type": "stream",
     "text": [
      "パラメーターの形式が誤っています - \"corpora\"\n"
     ]
    }
   ],
   "source": [
    "ls nltk_data/corpora/knbc/corpus2"
   ]
  },
  {
   "cell_type": "markdown",
   "metadata": {},
   "source": [
    "日本語を単語に分かち書きするためにjanomeを使います。"
   ]
  },
  {
   "cell_type": "code",
   "execution_count": 10,
   "metadata": {
    "collapsed": true
   },
   "outputs": [],
   "source": [
    "tokenizer = janome.tokenizer.Tokenizer()"
   ]
  },
  {
   "cell_type": "code",
   "execution_count": 11,
   "metadata": {
    "collapsed": true
   },
   "outputs": [],
   "source": [
    "import unicodedata"
   ]
  },
  {
   "cell_type": "code",
   "execution_count": 12,
   "metadata": {
    "collapsed": true
   },
   "outputs": [],
   "source": [
    "repeat = re.compile(\"([!?。、\\.,])+\")\n",
    "class Document(object):\n",
    "    def __init__(self, category):\n",
    "        self.sentences = []\n",
    "        self.category = category\n",
    "        \n",
    "    def add(self, sentence):\n",
    "        self.sentences.append(sentence)\n",
    "    \n",
    "    @property\n",
    "    def words(self):\n",
    "        words = []\n",
    "        for sentence in self.sentences:\n",
    "            words += sentence.words\n",
    "        return words\n",
    "    \n",
    "    def __iter__(self):\n",
    "        for sentence in self.sentences:\n",
    "            yield sentence\n",
    "    \n",
    "    def __len__(self):\n",
    "        return len(self.sentences)\n",
    "\n",
    "class Sentence(object):\n",
    "    def __init__(self, sentence_id, sentence):\n",
    "        self.sentence_id = sentence_id.strip()\n",
    "        self.sentence = sentence.strip()\n",
    "        \n",
    "        # テキスト正規化\n",
    "        normalized = unicodedata.normalize(\"NFKC\", self.sentence).lower()\n",
    "        normalized = repeat.sub(r\"\\1\", normalized)\n",
    "        \n",
    "        # 形態素解析(分かち書き)\n",
    "        tokens = tokenizer.tokenize(normalized)\n",
    "        \n",
    "        # 形態素解析の結果を単語のリストに変換します。\n",
    "        self.words = list(map(lambda t: t.surface, tokens))\n",
    "        \n",
    "    @property\n",
    "    def document_id(self):\n",
    "        return self.sentence_id.split(\"-\")[0]"
   ]
  },
  {
   "cell_type": "code",
   "execution_count": 13,
   "metadata": {
    "collapsed": true
   },
   "outputs": [],
   "source": [
    "def get_category(path):\n",
    "    name = os.path.basename(path)\n",
    "    category, _ = os.path.splitext(name)\n",
    "    return category"
   ]
  },
  {
   "cell_type": "code",
   "execution_count": 14,
   "metadata": {
    "collapsed": true
   },
   "outputs": [],
   "source": [
    "files = glob.glob(\"nltk_data/corpora/knbc/corpus2/*.tsv\")\n",
    "documents = dict()\n",
    "categories = dict()\n",
    "for filepath in files:\n",
    "    category = get_category(filepath)\n",
    "    \n",
    "    if category==\"Sports\":\n",
    "        # スポーツは文書の数がとても少なく学習できないので除外します。\n",
    "        continue\n",
    "        \n",
    "    categories[category] = len(categories)\n",
    "    with codecs.open(filepath, \"r\", \"euc-jp\") as fp:\n",
    "        reader = csv.reader(fp, delimiter=\"\\t\")\n",
    "        for row in reader:\n",
    "            sentence = Sentence(row[0], row[1])\n",
    "            if sentence.document_id not in documents:\n",
    "                # 先頭行はタイトルなので、オブジェクトだけ作って記事の追加はスキップします。\n",
    "                documents[sentence.document_id] = Document(category)\n",
    "            else:\n",
    "                doc = documents[sentence.document_id]\n",
    "                assert doc.category == category\n",
    "                doc.add(sentence)"
   ]
  },
  {
   "cell_type": "code",
   "execution_count": 15,
   "metadata": {
    "collapsed": true
   },
   "outputs": [],
   "source": [
    "dataset = []\n",
    "for doc in documents.values():\n",
    "    if len(doc) == 0:\n",
    "        # 本文が存在しない文書はスキップします\n",
    "        continue\n",
    "    dataset.append(doc)\n",
    "    #print(doc.words)"
   ]
  },
  {
   "cell_type": "markdown",
   "metadata": {},
   "source": [
    "文書数と文数を確認しておきましょう。"
   ]
  },
  {
   "cell_type": "code",
   "execution_count": 16,
   "metadata": {
    "scrolled": true
   },
   "outputs": [
    {
     "data": {
      "text/plain": [
       "(227, 3437)"
      ]
     },
     "execution_count": 16,
     "metadata": {},
     "output_type": "execute_result"
    }
   ],
   "source": [
    "len(dataset), sum([len(d) for d in dataset])"
   ]
  },
  {
   "cell_type": "markdown",
   "metadata": {},
   "source": [
    "## データの分割"
   ]
  },
  {
   "cell_type": "markdown",
   "metadata": {},
   "source": [
    "学習データ、開発データ、テストデータに分けます。"
   ]
  },
  {
   "cell_type": "code",
   "execution_count": 17,
   "metadata": {},
   "outputs": [
    {
     "name": "stdout",
     "output_type": "stream",
     "text": [
      " ドライブ C のボリューム ラベルは Windows です\n",
      " ボリューム シリアル番号は 5028-F110 です\n",
      "\n",
      " C:\\Users\\Hiroshi.Hiromax\\Downloads\\Homework-master-ab83c0f2dc938cf3204ec3fcbaff174909161ba8\\data のディレクトリ\n",
      "\n",
      "2017/11/11  09:56    <DIR>          .\n",
      "2017/11/11  09:56    <DIR>          ..\n",
      "2017/11/07  17:24             4,105 7_dataset.json\n",
      "2017/11/07  17:24         5,059,737 dev.csv\n",
      "2017/11/07  17:24               114 README\n",
      "2017/11/07  17:24        20,234,624 test.csv\n",
      "2017/11/07  17:24        45,378,950 train.csv\n",
      "               5 個のファイル          70,677,530 バイト\n",
      "               2 個のディレクトリ  363,148,976,128 バイトの空き領域\n"
     ]
    }
   ],
   "source": [
    "ls data"
   ]
  },
  {
   "cell_type": "code",
   "execution_count": 18,
   "metadata": {
    "collapsed": true
   },
   "outputs": [],
   "source": [
    "with open(\"data/7_dataset.json\") as fp:\n",
    "    split_info = json.loads(fp.read())"
   ]
  },
  {
   "cell_type": "code",
   "execution_count": 19,
   "metadata": {
    "collapsed": true
   },
   "outputs": [],
   "source": [
    "id_to_doc = dict()\n",
    "for doc in dataset:\n",
    "    id_to_doc[doc.sentences[0].document_id] = doc\n",
    "\n",
    "train_all = []\n",
    "dev = []\n",
    "test = []\n",
    "\n",
    "for document_id in split_info[\"train_ids\"]:\n",
    "    train_all.append(id_to_doc[document_id])\n",
    "\n",
    "for document_id in split_info[\"dev_ids\"]:\n",
    "    dev.append(id_to_doc[document_id])\n",
    "\n",
    "for document_id in split_info[\"test_ids\"]:\n",
    "    test.append(id_to_doc[document_id])"
   ]
  },
  {
   "cell_type": "code",
   "execution_count": 20,
   "metadata": {},
   "outputs": [
    {
     "data": {
      "text/plain": [
       "(144, 37, 46)"
      ]
     },
     "execution_count": 20,
     "metadata": {},
     "output_type": "execute_result"
    }
   ],
   "source": [
    "len(train_all), len(dev), len(test)"
   ]
  },
  {
   "cell_type": "code",
   "execution_count": 21,
   "metadata": {},
   "outputs": [
    {
     "data": {
      "text/plain": [
       "1080"
      ]
     },
     "execution_count": 21,
     "metadata": {},
     "output_type": "execute_result"
    }
   ],
   "source": [
    "max([len(doc.words) for doc in train_all])"
   ]
  },
  {
   "cell_type": "markdown",
   "metadata": {},
   "source": [
    "## 前処理"
   ]
  },
  {
   "cell_type": "markdown",
   "metadata": {},
   "source": [
    "長すぎる文書は学習速度を低下させてしまうので400単語より長い文書は削除しましょう。"
   ]
  },
  {
   "cell_type": "code",
   "execution_count": 22,
   "metadata": {
    "collapsed": true
   },
   "outputs": [],
   "source": [
    "train = []\n",
    "for doc in train_all:\n",
    "    if len(doc.words) <= 400:\n",
    "        train.append(doc)"
   ]
  },
  {
   "cell_type": "code",
   "execution_count": 23,
   "metadata": {
    "collapsed": true
   },
   "outputs": [],
   "source": [
    "n_doc_train = len(train)\n",
    "n_doc_dev = len(dev)\n",
    "n_doc_test = len(test)"
   ]
  },
  {
   "cell_type": "code",
   "execution_count": 24,
   "metadata": {},
   "outputs": [
    {
     "data": {
      "text/plain": [
       "(120, 37, 46)"
      ]
     },
     "execution_count": 24,
     "metadata": {},
     "output_type": "execute_result"
    }
   ],
   "source": [
    "n_doc_train, n_doc_dev, n_doc_test"
   ]
  },
  {
   "cell_type": "markdown",
   "metadata": {},
   "source": [
    "各単語にIDを振ります。"
   ]
  },
  {
   "cell_type": "code",
   "execution_count": 25,
   "metadata": {
    "collapsed": true
   },
   "outputs": [],
   "source": [
    "# ほとんど出てこない単語は、学習したとしても信ぴょう性が疑われるため、学習対象から除外します。\n",
    "# 今回は1回しか出てこない単語を除外します。\n",
    "vocab_count = defaultdict(lambda: 0)\n",
    "for doc in train:\n",
    "    for word in doc.words:\n",
    "        vocab_count[word] += 1\n",
    "\n",
    "ignore = []\n",
    "for word, count in vocab_count.items():\n",
    "    if count < 2:\n",
    "        ignore.append(word)\n",
    "\n",
    "ignore = set(ignore)\n",
    "\n",
    "# 除外単語に含まれない単語にIDを振ります。\n",
    "vocab = dict()\n",
    "for doc in train:\n",
    "    for word in doc.words:\n",
    "        if word not in ignore and word not in vocab:\n",
    "            # 単語IDは必ず1以上になるようにしておく(ID=0に未知語を割り当てたいため)\n",
    "            vocab[word] = len(vocab) + 1"
   ]
  },
  {
   "cell_type": "markdown",
   "metadata": {},
   "source": [
    "文書ベクトルを作りましょう。まずは文書の最大長を調べておきます。"
   ]
  },
  {
   "cell_type": "code",
   "execution_count": 26,
   "metadata": {
    "collapsed": true
   },
   "outputs": [],
   "source": [
    "n_max_words_train = max([len(doc.words) for doc in train])\n",
    "n_max_words_dev = max([len(doc.words) for doc in dev])\n",
    "n_max_words_test = max([len(doc.words) for doc in test])"
   ]
  },
  {
   "cell_type": "code",
   "execution_count": 27,
   "metadata": {},
   "outputs": [
    {
     "data": {
      "text/plain": [
       "(391, 573, 584)"
      ]
     },
     "execution_count": 27,
     "metadata": {},
     "output_type": "execute_result"
    }
   ],
   "source": [
    "n_max_words_train, n_max_words_dev, n_max_words_test"
   ]
  },
  {
   "cell_type": "markdown",
   "metadata": {},
   "source": [
    "得られた最大長を使って、文書ベクトルを作ります。"
   ]
  },
  {
   "cell_type": "code",
   "execution_count": 28,
   "metadata": {
    "collapsed": true
   },
   "outputs": [],
   "source": [
    "def create_document_array(n_doc, n_max_words, dataset):\n",
    "    ary = -np.ones((n_doc, n_max_words), dtype=np.int32)\n",
    "    for i, doc in enumerate(dataset):\n",
    "        for j, word in enumerate(doc.words):\n",
    "            # 未知語はID=0\n",
    "            ary[i, j] = vocab.get(word, 0)\n",
    "    return ary\n",
    "\n",
    "train_x = create_document_array(n_doc_train, n_max_words_train, train)\n",
    "dev_x = create_document_array(n_doc_dev, n_max_words_dev, dev)\n",
    "test_x = create_document_array(n_doc_test, n_max_words_test, test)"
   ]
  },
  {
   "cell_type": "markdown",
   "metadata": {},
   "source": [
    "正解データを用意しましょう。"
   ]
  },
  {
   "cell_type": "code",
   "execution_count": 29,
   "metadata": {
    "collapsed": true
   },
   "outputs": [],
   "source": [
    "def create_ground_truth_array(n_doc, dataset):\n",
    "    ary = np.zeros((n_doc,), dtype=np.int32)\n",
    "    \n",
    "    for i, doc in enumerate(dataset):\n",
    "        ary[i] = categories[doc.category]\n",
    "    return ary\n",
    "\n",
    "train_y = create_ground_truth_array(n_doc_train, train)\n",
    "dev_y = create_ground_truth_array(n_doc_dev, dev)\n",
    "test_y = create_ground_truth_array(n_doc_test, test)"
   ]
  },
  {
   "cell_type": "code",
   "execution_count": 30,
   "metadata": {},
   "outputs": [
    {
     "data": {
      "text/plain": [
       "array([31, 41, 48], dtype=int64)"
      ]
     },
     "execution_count": 30,
     "metadata": {},
     "output_type": "execute_result"
    }
   ],
   "source": [
    "np.bincount(train_y)"
   ]
  },
  {
   "cell_type": "code",
   "execution_count": 31,
   "metadata": {},
   "outputs": [
    {
     "data": {
      "text/plain": [
       "((120,), 120)"
      ]
     },
     "execution_count": 31,
     "metadata": {},
     "output_type": "execute_result"
    }
   ],
   "source": [
    "train_y.shape, n_doc_train"
   ]
  },
  {
   "cell_type": "markdown",
   "metadata": {},
   "source": [
    "## モデル"
   ]
  },
  {
   "cell_type": "markdown",
   "metadata": {},
   "source": [
    "データの準備ができましたのでモデルを作っていきましょう。今回はLSTM1層、全結合層1層の単純なモデルを使います。"
   ]
  },
  {
   "cell_type": "code",
   "execution_count": 32,
   "metadata": {
    "collapsed": true
   },
   "outputs": [],
   "source": [
    "# embeddingの次元数を変数に入れておきます。(後で使います。)\n",
    "# サイズは、通常 100 〜 500程度を設定しますが、データ量が少なすぎてあっという間に過学習してしまうので少なめにセットします。\n",
    "embedding_size = 10\n",
    "\n",
    "class Model(Chain):\n",
    "    def __init__(self, initialW=None):\n",
    "        super(Model, self).__init__()\n",
    "        self.n_out = 5\n",
    "        with self.init_scope():\n",
    "            self.embed = L.EmbedID(len(vocab) + 1, embedding_size, ignore_label=-1, initialW=initialW)\n",
    "            \n",
    "            self.lstm = L.LSTM(embedding_size, self.n_out)\n",
    "            self.linear = L.Linear(self.n_out, len(categories))\n",
    "    \n",
    "    def __call__(self, x):\n",
    "        \"\"\"\n",
    "        x: shape of (batch_size, sentence_length)\n",
    "        \"\"\"\n",
    "        self.lstm.reset_state()\n",
    "        zeros = Variable(np.zeros((x.shape[0], self.n_out), dtype=np.float32))\n",
    "        \n",
    "        # 単語ごとに文脈ベクトルhを作り、hsという変数に格納しておきます。\n",
    "        total = Variable(np.zeros_like(zeros, dtype=np.float32))\n",
    "        counts = np.zeros(x.shape[0], dtype=np.float32)\n",
    "        for i in range(x.shape[1]):\n",
    "            word_ids = x[:, i]\n",
    "            finished = word_ids == -1\n",
    "            if np.all(finished):\n",
    "                continue\n",
    "\n",
    "            h = self.embed(word_ids)\n",
    "            h = F.dropout(h)\n",
    "            h = self.lstm(h)\n",
    "            total += F.where(np.tile(finished[:, np.newaxis], self.n_out), zeros, h)\n",
    "            counts += np.logical_not(finished).astype(np.float32)\n",
    "            \n",
    "        # 単語ごとの文脈ベクトルの平均を取ります。\n",
    "        h = total / Variable(np.tile(counts[:, np.newaxis], self.n_out))\n",
    "        h = F.dropout(h)\n",
    "        \n",
    "        # 得られた文脈ベクトルの平均値をクラス数次元に変換します。\n",
    "        return self.linear(h)"
   ]
  },
  {
   "cell_type": "markdown",
   "metadata": {},
   "source": [
    "## 実験"
   ]
  },
  {
   "cell_type": "markdown",
   "metadata": {},
   "source": [
    "いよいよ性能測定を行ないましょう。chainerのDatasetとiteratorを作ります。"
   ]
  },
  {
   "cell_type": "code",
   "execution_count": 33,
   "metadata": {
    "collapsed": true
   },
   "outputs": [],
   "source": [
    "train_dataset = TupleDataset(train_x, train_y)\n",
    "dev_dataset = TupleDataset(dev_x, dev_y)\n",
    "test_dataset = TupleDataset(test_x, test_y)\n",
    "train_iterator = SerialIterator(train_dataset, batch_size=50, repeat=True)\n",
    "dev_iterator = SerialIterator(dev_dataset, batch_size=50, shuffle=False, repeat=False)\n",
    "test_iterator = SerialIterator(test_dataset, batch_size=50, shuffle=False, repeat=False)"
   ]
  },
  {
   "cell_type": "code",
   "execution_count": 34,
   "metadata": {
    "collapsed": true
   },
   "outputs": [],
   "source": [
    "files = glob.glob(\"result/normal_model_*\")\n",
    "for file in files:\n",
    "    os.unlink(file)"
   ]
  },
  {
   "cell_type": "code",
   "execution_count": 35,
   "metadata": {},
   "outputs": [
    {
     "name": "stdout",
     "output_type": "stream",
     "text": [
      "iteration   main/loss   dev/main/loss\n",
      "10          1.10686     1.09373        \n",
      "20          1.09398     1.0954         \n",
      "30          1.09774     1.0975         \n",
      "40          1.09357     1.09948        \n",
      "50          1.08759     1.10198        \n",
      "60          1.09127     1.10429        \n",
      "70          1.09048     1.10549        \n",
      "80          1.07811     1.10683        \n",
      "90          1.08447     1.10778        \n",
      "100         1.0765      1.10934        \n",
      "110         1.08238     1.10929        \n",
      "120         1.08174     1.10901        \n",
      "130         1.07456     1.10787        \n",
      "140         1.0783      1.10538        \n",
      "150         1.08007     1.104          \n",
      "160         1.07598     1.10108        \n",
      "170         1.0675      1.09902        \n",
      "180         1.0659      1.0985         \n",
      "190         1.06635     1.09707        \n",
      "200         1.06154     1.09513        \n",
      "210         1.069       1.09335        \n",
      "220         1.05298     1.09286        \n",
      "230         1.05012     1.09392        \n",
      "240         1.05812     1.09211        \n",
      "250         1.04882     1.08503        \n",
      "260         1.04876     1.07879        \n",
      "270         1.04295     1.06859        \n",
      "280         1.03036     1.06549        \n",
      "290         1.02405     1.10429        \n",
      "300         0.992522    1.16416        \n",
      "310         0.967297    1.16625        \n",
      "320         0.968763    1.05816        \n",
      "330         0.933958    1.0841         \n",
      "340         0.928518    1.08064        \n",
      "350         0.899051    1.10631        \n",
      "360         0.912165    1.1156         \n",
      "370         0.90818     1.0787         \n",
      "380         0.89592     1.08683        \n",
      "390         0.931342    1.09172        \n",
      "400         0.855525    1.08747        \n",
      "410         0.841965    1.10562        \n",
      "420         0.857374    1.17831        \n",
      "430         0.838277    1.18724        \n",
      "440         0.825251    1.17265        \n",
      "450         0.852711    1.17222        \n",
      "460         0.833187    1.17155        \n",
      "470         0.851342    1.18843        \n",
      "480         0.834237    1.16587        \n",
      "490         0.819285    1.0591         \n",
      "500         0.791905    1.16679        \n",
      "510         0.78478     1.17572        \n",
      "520         0.782037    1.04899        \n",
      "530         0.797335    0.97279        \n",
      "540         0.811504    0.959798       \n",
      "550         0.792712    0.957639       \n",
      "560         0.790116    1.06667        \n",
      "570         0.792777    0.968866       \n",
      "580         0.796846    0.961255       \n",
      "590         0.789206    0.964701       \n",
      "600         0.758466    0.965837       \n",
      "610         0.764527    0.956487       \n",
      "620         0.76726     0.957503       \n",
      "630         0.758714    0.941975       \n",
      "640         0.767106    1.06247        \n",
      "650         0.749876    0.941121       \n",
      "660         0.74107     0.941716       \n",
      "670         0.731925    0.943615       \n",
      "680         0.738261    0.940423       \n",
      "690         0.734385    0.94213        \n",
      "700         0.720906    0.946352       \n",
      "710         0.720323    0.946415       \n",
      "720         0.707298    0.947288       \n",
      "730         0.702791    0.948385       \n",
      "740         0.729644    0.951908       \n",
      "750         0.730103    0.955589       \n",
      "760         0.708188    0.952251       \n",
      "770         0.716221    0.951906       \n",
      "780         0.705858    1.02795        \n",
      "790         0.709758    1.04583        \n",
      "800         0.67344     1.1903         \n",
      "810         0.700001    0.96394        \n",
      "820         0.67022     0.961826       \n",
      "830         0.683718    0.96404        \n",
      "840         0.677939    1.1175         \n",
      "850         0.702797    0.968689       \n",
      "860         0.71761     0.970114       \n",
      "870         0.70976     1.02253        \n",
      "880         0.68031     1.20883        \n",
      "890         0.680238    1.23975        \n",
      "900         0.686535    1.23711        \n",
      "910         0.686104    1.1934         \n",
      "920         0.660029    0.979428       \n",
      "930         0.650278    0.99742        \n",
      "940         0.659205    1.13944        \n",
      "950         0.644222    1.15633        \n",
      "960         0.643318    1.14573        \n",
      "970         0.652495    1.14683        \n",
      "980         0.635703    1.11728        \n",
      "990         0.64722     1.11805        \n"
     ]
    }
   ],
   "source": [
    "model = Model()\n",
    "classifier = L.Classifier(model)\n",
    "optimizer = Adam()\n",
    "optimizer.setup(classifier)\n",
    "updater = StandardUpdater(train_iterator, optimizer)\n",
    "trainer = Trainer(updater, (1000, 'iteration'))\n",
    "trainer.extend(Evaluator(dev_iterator, classifier), trigger=(10, 'iteration'), name=\"dev\")\n",
    "trainer.extend(Evaluator(test_iterator, classifier), trigger=(10, 'iteration'), name=\"test\")\n",
    "trainer.extend(PrintReport(['iteration', \"main/loss\", \"dev/main/loss\"]))\n",
    "\n",
    "logreport = LogReport(trigger=(10, 'iteration'))\n",
    "trainer.extend(logreport)\n",
    "\n",
    "# この行を入れておくとロスの最小値が更新されるたびにモデルが保存されます。\n",
    "trainer.extend(snapshot_object(model, \"normal_model_{.updater.iteration}.npz\"), trigger=MinValueTrigger(\"dev/main/loss\", trigger=(10, 'iteration')))\n",
    "\n",
    "trainer.run()"
   ]
  },
  {
   "cell_type": "markdown",
   "metadata": {},
   "source": [
    "学習曲線を見ておきましょう。"
   ]
  },
  {
   "cell_type": "code",
   "execution_count": 36,
   "metadata": {},
   "outputs": [
    {
     "data": {
      "text/plain": [
       "<matplotlib.axes._subplots.AxesSubplot at 0x24e0b62f9e8>"
      ]
     },
     "execution_count": 36,
     "metadata": {},
     "output_type": "execute_result"
    },
    {
     "data": {
      "image/png": "[encoded data removed]",
      "text/plain": [
       "<matplotlib.figure.Figure at 0x24e0b62fdd8>"
      ]
     },
     "metadata": {},
     "output_type": "display_data"
    }
   ],
   "source": [
    "log_df = pd.DataFrame(logreport.log)\n",
    "pd.DataFrame(log_df[[\"main/loss\", \"dev/main/loss\"]].values, columns=[\"main/loss\", \"dev/main/loss\"], index=log_df[\"iteration\"]).plot()"
   ]
  },
  {
   "cell_type": "markdown",
   "metadata": {},
   "source": [
    "開発データのlossが反復とともに増加してしまっています。これは過学習してしまったということですね。"
   ]
  },
  {
   "cell_type": "markdown",
   "metadata": {},
   "source": [
    "性能を確認しましょう。開発データでlossが最小になったモデルで評価します。"
   ]
  },
  {
   "cell_type": "code",
   "execution_count": 37,
   "metadata": {
    "collapsed": true
   },
   "outputs": [],
   "source": [
    "from chainer.serializers import load_npz"
   ]
  },
  {
   "cell_type": "code",
   "execution_count": 38,
   "metadata": {},
   "outputs": [
    {
     "ename": "ValueError",
     "evalue": "invalid literal for int() with base 10: 'result\\\\normal_model_10'",
     "output_type": "error",
     "traceback": [
      "\u001b[1;31m---------------------------------------------------------------------------\u001b[0m",
      "\u001b[1;31mValueError\u001b[0m                                Traceback (most recent call last)",
      "\u001b[1;32m<ipython-input-38-d54f3f53d36c>\u001b[0m in \u001b[0;36m<module>\u001b[1;34m()\u001b[0m\n\u001b[0;32m      3\u001b[0m \u001b[1;33m\u001b[0m\u001b[0m\n\u001b[0;32m      4\u001b[0m \u001b[0mfiles\u001b[0m \u001b[1;33m=\u001b[0m \u001b[0mglob\u001b[0m\u001b[1;33m.\u001b[0m\u001b[0mglob\u001b[0m\u001b[1;33m(\u001b[0m\u001b[1;34m\"result/normal_model_*.npz\"\u001b[0m\u001b[1;33m)\u001b[0m\u001b[1;33m\u001b[0m\u001b[0m\n\u001b[1;32m----> 5\u001b[1;33m \u001b[0mbest\u001b[0m \u001b[1;33m=\u001b[0m \u001b[0msorted\u001b[0m\u001b[1;33m(\u001b[0m\u001b[0mfiles\u001b[0m\u001b[1;33m,\u001b[0m \u001b[0mkey\u001b[0m\u001b[1;33m=\u001b[0m\u001b[1;32mlambda\u001b[0m \u001b[0mx\u001b[0m\u001b[1;33m:\u001b[0m \u001b[0mget_iter\u001b[0m\u001b[1;33m(\u001b[0m\u001b[0mx\u001b[0m\u001b[1;33m,\u001b[0m \u001b[1;34m\"result/normal_model_\"\u001b[0m\u001b[1;33m)\u001b[0m\u001b[1;33m)\u001b[0m\u001b[1;33m[\u001b[0m\u001b[1;33m-\u001b[0m\u001b[1;36m1\u001b[0m\u001b[1;33m]\u001b[0m\u001b[1;33m\u001b[0m\u001b[0m\n\u001b[0m\u001b[0;32m      6\u001b[0m \u001b[0mprint\u001b[0m\u001b[1;33m(\u001b[0m\u001b[1;34m\"Best Model = {}\"\u001b[0m\u001b[1;33m.\u001b[0m\u001b[0mformat\u001b[0m\u001b[1;33m(\u001b[0m\u001b[0mbest\u001b[0m\u001b[1;33m)\u001b[0m\u001b[1;33m)\u001b[0m\u001b[1;33m\u001b[0m\u001b[0m\n\u001b[0;32m      7\u001b[0m \u001b[1;33m\u001b[0m\u001b[0m\n",
      "\u001b[1;32m<ipython-input-38-d54f3f53d36c>\u001b[0m in \u001b[0;36m<lambda>\u001b[1;34m(x)\u001b[0m\n\u001b[0;32m      3\u001b[0m \u001b[1;33m\u001b[0m\u001b[0m\n\u001b[0;32m      4\u001b[0m \u001b[0mfiles\u001b[0m \u001b[1;33m=\u001b[0m \u001b[0mglob\u001b[0m\u001b[1;33m.\u001b[0m\u001b[0mglob\u001b[0m\u001b[1;33m(\u001b[0m\u001b[1;34m\"result/normal_model_*.npz\"\u001b[0m\u001b[1;33m)\u001b[0m\u001b[1;33m\u001b[0m\u001b[0m\n\u001b[1;32m----> 5\u001b[1;33m \u001b[0mbest\u001b[0m \u001b[1;33m=\u001b[0m \u001b[0msorted\u001b[0m\u001b[1;33m(\u001b[0m\u001b[0mfiles\u001b[0m\u001b[1;33m,\u001b[0m \u001b[0mkey\u001b[0m\u001b[1;33m=\u001b[0m\u001b[1;32mlambda\u001b[0m \u001b[0mx\u001b[0m\u001b[1;33m:\u001b[0m \u001b[0mget_iter\u001b[0m\u001b[1;33m(\u001b[0m\u001b[0mx\u001b[0m\u001b[1;33m,\u001b[0m \u001b[1;34m\"result/normal_model_\"\u001b[0m\u001b[1;33m)\u001b[0m\u001b[1;33m)\u001b[0m\u001b[1;33m[\u001b[0m\u001b[1;33m-\u001b[0m\u001b[1;36m1\u001b[0m\u001b[1;33m]\u001b[0m\u001b[1;33m\u001b[0m\u001b[0m\n\u001b[0m\u001b[0;32m      6\u001b[0m \u001b[0mprint\u001b[0m\u001b[1;33m(\u001b[0m\u001b[1;34m\"Best Model = {}\"\u001b[0m\u001b[1;33m.\u001b[0m\u001b[0mformat\u001b[0m\u001b[1;33m(\u001b[0m\u001b[0mbest\u001b[0m\u001b[1;33m)\u001b[0m\u001b[1;33m)\u001b[0m\u001b[1;33m\u001b[0m\u001b[0m\n\u001b[0;32m      7\u001b[0m \u001b[1;33m\u001b[0m\u001b[0m\n",
      "\u001b[1;32m<ipython-input-38-d54f3f53d36c>\u001b[0m in \u001b[0;36mget_iter\u001b[1;34m(path, prefix)\u001b[0m\n\u001b[0;32m      1\u001b[0m \u001b[1;32mdef\u001b[0m \u001b[0mget_iter\u001b[0m\u001b[1;33m(\u001b[0m\u001b[0mpath\u001b[0m\u001b[1;33m,\u001b[0m \u001b[0mprefix\u001b[0m\u001b[1;33m)\u001b[0m\u001b[1;33m:\u001b[0m\u001b[1;33m\u001b[0m\u001b[0m\n\u001b[1;32m----> 2\u001b[1;33m     \u001b[1;32mreturn\u001b[0m \u001b[0mint\u001b[0m\u001b[1;33m(\u001b[0m\u001b[0mpath\u001b[0m\u001b[1;33m.\u001b[0m\u001b[0mreplace\u001b[0m\u001b[1;33m(\u001b[0m\u001b[0mprefix\u001b[0m\u001b[1;33m,\u001b[0m \u001b[1;34m\"\"\u001b[0m\u001b[1;33m)\u001b[0m\u001b[1;33m.\u001b[0m\u001b[0mreplace\u001b[0m\u001b[1;33m(\u001b[0m\u001b[1;34m\".npz\"\u001b[0m\u001b[1;33m,\u001b[0m \u001b[1;34m\"\"\u001b[0m\u001b[1;33m)\u001b[0m\u001b[1;33m)\u001b[0m\u001b[1;33m\u001b[0m\u001b[0m\n\u001b[0m\u001b[0;32m      3\u001b[0m \u001b[1;33m\u001b[0m\u001b[0m\n\u001b[0;32m      4\u001b[0m \u001b[0mfiles\u001b[0m \u001b[1;33m=\u001b[0m \u001b[0mglob\u001b[0m\u001b[1;33m.\u001b[0m\u001b[0mglob\u001b[0m\u001b[1;33m(\u001b[0m\u001b[1;34m\"result/normal_model_*.npz\"\u001b[0m\u001b[1;33m)\u001b[0m\u001b[1;33m\u001b[0m\u001b[0m\n\u001b[0;32m      5\u001b[0m \u001b[0mbest\u001b[0m \u001b[1;33m=\u001b[0m \u001b[0msorted\u001b[0m\u001b[1;33m(\u001b[0m\u001b[0mfiles\u001b[0m\u001b[1;33m,\u001b[0m \u001b[0mkey\u001b[0m\u001b[1;33m=\u001b[0m\u001b[1;32mlambda\u001b[0m \u001b[0mx\u001b[0m\u001b[1;33m:\u001b[0m \u001b[0mget_iter\u001b[0m\u001b[1;33m(\u001b[0m\u001b[0mx\u001b[0m\u001b[1;33m,\u001b[0m \u001b[1;34m\"result/normal_model_\"\u001b[0m\u001b[1;33m)\u001b[0m\u001b[1;33m)\u001b[0m\u001b[1;33m[\u001b[0m\u001b[1;33m-\u001b[0m\u001b[1;36m1\u001b[0m\u001b[1;33m]\u001b[0m\u001b[1;33m\u001b[0m\u001b[0m\n",
      "\u001b[1;31mValueError\u001b[0m: invalid literal for int() with base 10: 'result\\\\normal_model_10'"
     ]
    }
   ],
   "source": [
    "def get_iter(path, prefix):\n",
    "    return int(path.replace(prefix, \"\").replace(\".npz\", \"\"))\n",
    "\n",
    "files = glob.glob(\"result/normal_model_*.npz\")\n",
    "best = sorted(files, key=lambda x: get_iter(x, \"result/normal_model_\"))[-1]\n",
    "print(\"Best Model = {}\".format(best))\n",
    "\n",
    "bestmodel = Model()\n",
    "load_npz(best, bestmodel)"
   ]
  },
  {
   "cell_type": "code",
   "execution_count": 39,
   "metadata": {},
   "outputs": [
    {
     "ename": "NameError",
     "evalue": "name 'bestmodel' is not defined",
     "output_type": "error",
     "traceback": [
      "\u001b[1;31m---------------------------------------------------------------------------\u001b[0m",
      "\u001b[1;31mNameError\u001b[0m                                 Traceback (most recent call last)",
      "\u001b[1;32m<ipython-input-39-01e6af1b40aa>\u001b[0m in \u001b[0;36m<module>\u001b[1;34m()\u001b[0m\n\u001b[0;32m      1\u001b[0m \u001b[1;32mwith\u001b[0m \u001b[0mconfiguration\u001b[0m\u001b[1;33m.\u001b[0m\u001b[0musing_config\u001b[0m\u001b[1;33m(\u001b[0m\u001b[1;34m'train'\u001b[0m\u001b[1;33m,\u001b[0m \u001b[1;32mFalse\u001b[0m\u001b[1;33m)\u001b[0m\u001b[1;33m:\u001b[0m\u001b[1;33m\u001b[0m\u001b[0m\n\u001b[1;32m----> 2\u001b[1;33m     \u001b[0mpredicts\u001b[0m \u001b[1;33m=\u001b[0m \u001b[0mbestmodel\u001b[0m\u001b[1;33m(\u001b[0m\u001b[0mtrain_x\u001b[0m\u001b[1;33m)\u001b[0m\u001b[1;33m\u001b[0m\u001b[0m\n\u001b[0m\u001b[0;32m      3\u001b[0m \u001b[0mpredicts\u001b[0m \u001b[1;33m=\u001b[0m \u001b[0mnp\u001b[0m\u001b[1;33m.\u001b[0m\u001b[0marray\u001b[0m\u001b[1;33m(\u001b[0m\u001b[1;33m[\u001b[0m\u001b[0mpredict\u001b[0m\u001b[1;33m.\u001b[0m\u001b[0mdata\u001b[0m \u001b[1;32mfor\u001b[0m \u001b[0mpredict\u001b[0m \u001b[1;32min\u001b[0m \u001b[0mpredicts\u001b[0m\u001b[1;33m]\u001b[0m\u001b[1;33m)\u001b[0m\u001b[1;33m\u001b[0m\u001b[0m\n\u001b[0;32m      4\u001b[0m \u001b[0mpredicts_y\u001b[0m \u001b[1;33m=\u001b[0m \u001b[0mnp\u001b[0m\u001b[1;33m.\u001b[0m\u001b[0margmax\u001b[0m\u001b[1;33m(\u001b[0m\u001b[0mpredicts\u001b[0m\u001b[1;33m,\u001b[0m \u001b[0maxis\u001b[0m\u001b[1;33m=\u001b[0m\u001b[1;36m1\u001b[0m\u001b[1;33m)\u001b[0m\u001b[1;33m\u001b[0m\u001b[0m\n\u001b[0;32m      5\u001b[0m \u001b[1;33m\u001b[0m\u001b[0m\n",
      "\u001b[1;31mNameError\u001b[0m: name 'bestmodel' is not defined"
     ]
    }
   ],
   "source": [
    "with configuration.using_config('train', False):\n",
    "    predicts = bestmodel(train_x)\n",
    "predicts = np.array([predict.data for predict in predicts])\n",
    "predicts_y = np.argmax(predicts, axis=1)\n",
    "\n",
    "print(\"*** Scores for Training data ***\")\n",
    "print(classification_report(train_y, predicts_y))\n",
    "\n",
    "\n",
    "with configuration.using_config('train', False):\n",
    "    predicts = bestmodel(dev_x)\n",
    "predicts = np.array([predict.data for predict in predicts])\n",
    "predicts_y = np.argmax(predicts, axis=1)\n",
    "\n",
    "print(\"*** Scores for Dev data ***\")\n",
    "print(classification_report(dev_y, predicts_y))\n",
    "\n",
    "\n",
    "with configuration.using_config('train', False):\n",
    "    predicts = bestmodel(test_x)\n",
    "predicts = np.array([predict.data for predict in predicts])\n",
    "predicts_y = np.argmax(predicts, axis=1)\n",
    "\n",
    "print(\"*** Scores for Test data ***\")\n",
    "print(classification_report(test_y, predicts_y))"
   ]
  },
  {
   "cell_type": "markdown",
   "metadata": {},
   "source": [
    "精度も低いですね。これを解決する方法について確認していきましょう。"
   ]
  },
  {
   "cell_type": "markdown",
   "metadata": {},
   "source": [
    "## Word2Vecによる初期値設定"
   ]
  },
  {
   "cell_type": "markdown",
   "metadata": {},
   "source": [
    "Deep Learning技術が発展する初期の頃、Word2Vecという単語ベクトルの学習方法が一世を風靡したことがありました。その後の研究で、Word2Vecで学習した単語ベクトルは、LSTMのEmbeddingレイヤーの初期値として設定すると学習結果を改善することが多いとされています。今回の講義からは詳細を省略しましたが、興味のある方は調べて見てください。今回は使い方だけ押さえておきましょう。"
   ]
  },
  {
   "cell_type": "markdown",
   "metadata": {},
   "source": [
    "Word2Vecをchainerで学習することは可能ですが、gensimを使うとよりお手軽に学習できます。"
   ]
  },
  {
   "cell_type": "code",
   "execution_count": 40,
   "metadata": {},
   "outputs": [
    {
     "name": "stderr",
     "output_type": "stream",
     "text": [
      "C:\\Users\\Hiroshi.Hiromax\\Anaconda3\\lib\\site-packages\\gensim\\utils.py:862: UserWarning: detected Windows; aliasing chunkize to chunkize_serial\n",
      "  warnings.warn(\"detected Windows; aliasing chunkize to chunkize_serial\")\n"
     ]
    }
   ],
   "source": [
    "from gensim.models.word2vec import Word2Vec"
   ]
  },
  {
   "cell_type": "markdown",
   "metadata": {},
   "source": [
    "1文1行の文集合を作ります。"
   ]
  },
  {
   "cell_type": "code",
   "execution_count": 41,
   "metadata": {
    "collapsed": true
   },
   "outputs": [],
   "source": [
    "sentences = []\n",
    "for doc in train:\n",
    "    for sentence in doc:\n",
    "        sentences.append(sentence.words)"
   ]
  },
  {
   "cell_type": "markdown",
   "metadata": {},
   "source": [
    "学習します。"
   ]
  },
  {
   "cell_type": "code",
   "execution_count": 42,
   "metadata": {
    "collapsed": true
   },
   "outputs": [],
   "source": [
    "word2vec = Word2Vec(sentences, size=embedding_size, seed=np.random.randint(1000), workers=1, min_count=2)\n",
    "word2vec.init_sims(replace=True)"
   ]
  },
  {
   "cell_type": "markdown",
   "metadata": {},
   "source": [
    "学習によって得られたベクトルをモデルの初期値に設定します。"
   ]
  },
  {
   "cell_type": "code",
   "execution_count": 43,
   "metadata": {
    "collapsed": true
   },
   "outputs": [],
   "source": [
    "initialW = np.random.random((len(vocab) + 1, embedding_size)).astype(np.float32)\n",
    "for w, i in vocab.items():\n",
    "    if w in word2vec.wv:\n",
    "        initialW[i, :] = word2vec.wv[w]"
   ]
  },
  {
   "cell_type": "code",
   "execution_count": 44,
   "metadata": {
    "collapsed": true
   },
   "outputs": [],
   "source": [
    "files = glob.glob(\"result/w2v_model_*\")\n",
    "for file in files:\n",
    "    os.unlink(file)"
   ]
  },
  {
   "cell_type": "code",
   "execution_count": 45,
   "metadata": {},
   "outputs": [
    {
     "name": "stdout",
     "output_type": "stream",
     "text": [
      "iteration   main/loss   dev/main/loss\n",
      "10          1.13676     1.10882        \n",
      "20          1.11282     1.1034         \n",
      "30          1.10703     1.09992        \n",
      "40          1.09882     1.09787        \n",
      "50          1.08921     1.09679        \n",
      "60          1.0867      1.09641        \n",
      "70          1.08608     1.09617        \n",
      "80          1.08382     1.0959         \n",
      "90          1.07217     1.09582        \n",
      "100         1.07122     1.09593        \n",
      "110         1.06551     1.09542        \n",
      "120         1.0645      1.09291        \n",
      "130         1.05366     1.0889         \n",
      "140         1.03821     1.0834         \n",
      "150         1.02924     1.07389        \n",
      "160         0.999384    1.05988        \n",
      "170         0.950628    1.04216        \n",
      "180         0.903705    0.914859       \n",
      "190         0.840642    0.867112       \n",
      "200         0.830752    0.890658       \n",
      "210         0.803932    0.828935       \n",
      "220         0.761476    0.961701       \n",
      "230         0.761296    0.844359       \n",
      "240         0.732796    0.821999       \n",
      "250         0.725351    0.826839       \n",
      "260         0.740828    0.825822       \n",
      "270         0.685837    0.817356       \n",
      "280         0.694466    0.823555       \n",
      "290         0.669974    0.819941       \n",
      "300         0.672461    0.817709       \n",
      "310         0.619962    0.764047       \n",
      "320         0.657254    0.78219        \n",
      "330         0.616258    0.836377       \n",
      "340         0.631922    0.786193       \n",
      "350         0.610911    0.83646        \n",
      "360         0.609567    0.832121       \n",
      "370         0.718989    0.83676        \n",
      "380         0.633374    0.844828       \n",
      "390         0.615244    0.923199       \n",
      "400         0.619321    0.844149       \n",
      "410         0.590792    0.828434       \n",
      "420         0.598383    0.829394       \n",
      "430         0.579565    0.792203       \n",
      "440         0.6065      0.784298       \n",
      "450         0.580128    0.849507       \n",
      "460         0.573915    0.856928       \n",
      "470         0.578161    0.854443       \n",
      "480         0.563032    0.842361       \n",
      "490         0.556214    0.849993       \n",
      "500         0.590356    0.855481       \n",
      "510         0.562305    0.858056       \n",
      "520         0.565517    0.860974       \n",
      "530         0.570743    0.860374       \n",
      "540         0.593592    0.869864       \n",
      "550         0.550783    0.869338       \n",
      "560         0.566653    0.871061       \n",
      "570         0.552569    0.867495       \n",
      "580         0.571844    0.800652       \n",
      "590         0.555336    0.800996       \n",
      "600         0.554438    0.872834       \n",
      "610         0.554469    0.876917       \n",
      "620         0.538903    0.83025        \n",
      "630         0.540383    0.809883       \n",
      "640         0.536251    0.812912       \n",
      "650         0.563172    0.87704        \n",
      "660         0.54889     0.873461       \n",
      "670         0.525538    0.813361       \n",
      "680         0.541357    0.814775       \n",
      "690         0.535325    0.816879       \n",
      "700         0.541236    0.818825       \n",
      "710         0.520909    0.819827       \n",
      "720         0.548368    0.823912       \n",
      "730         0.537002    0.82119        \n",
      "740         0.541044    0.912389       \n",
      "750         0.516715    0.923535       \n",
      "760         0.542799    0.925469       \n",
      "770         0.525189    0.830681       \n",
      "780         0.501897    0.838948       \n",
      "790         0.529177    0.840553       \n",
      "800         0.528455    0.841426       \n",
      "810         0.521247    0.843731       \n",
      "820         0.526404    0.842565       \n",
      "830         0.513691    0.842376       \n",
      "840         0.514675    0.844526       \n",
      "850         0.514461    0.847643       \n",
      "860         0.548077    0.850833       \n",
      "870         0.53186     0.924668       \n",
      "880         0.515763    0.928222       \n",
      "890         0.506059    0.853901       \n",
      "900         0.5065      0.926968       \n",
      "910         0.532475    0.956361       \n",
      "920         0.500702    0.921507       \n",
      "930         0.519355    0.9493         \n",
      "940         0.516953    0.951907       \n",
      "950         0.514029    0.953761       \n",
      "960         0.513295    0.901218       \n",
      "970         0.500317    0.868241       \n",
      "980         0.488142    0.954411       \n",
      "990         0.504362    0.972318       \n"
     ]
    }
   ],
   "source": [
    "model_w2v = Model(initialW=initialW)\n",
    "classifier = L.Classifier(model_w2v)\n",
    "optimizer = Adam()\n",
    "optimizer.setup(classifier)\n",
    "updater = StandardUpdater(train_iterator, optimizer)\n",
    "trainer = Trainer(updater, (1000, 'iteration'))\n",
    "trainer.extend(Evaluator(dev_iterator, classifier), trigger=(10, 'iteration'), name=\"dev\")\n",
    "trainer.extend(Evaluator(test_iterator, classifier), trigger=(10, 'iteration'), name=\"test\")\n",
    "trainer.extend(PrintReport(['iteration', \"main/loss\", \"dev/main/loss\"]))\n",
    "\n",
    "logreport = LogReport(trigger=(10, 'iteration'))\n",
    "trainer.extend(logreport)\n",
    "trainer.extend(snapshot_object(model_w2v, \"w2v_model_{.updater.iteration}.npz\"), trigger=MinValueTrigger(\"dev/main/loss\", trigger=(10, 'iteration')))\n",
    "\n",
    "trainer.run()"
   ]
  },
  {
   "cell_type": "code",
   "execution_count": 46,
   "metadata": {},
   "outputs": [
    {
     "data": {
      "text/plain": [
       "<matplotlib.axes._subplots.AxesSubplot at 0x24e7b251c18>"
      ]
     },
     "execution_count": 46,
     "metadata": {},
     "output_type": "execute_result"
    },
    {
     "data": {
      "image/png": "[encoded data removed]",
      "text/plain": [
       "<matplotlib.figure.Figure at 0x24e0d1a7278>"
      ]
     },
     "metadata": {},
     "output_type": "display_data"
    }
   ],
   "source": [
    "log_df_w2v = pd.DataFrame(logreport.log)\n",
    "pd.DataFrame(log_df_w2v[[\"main/loss\", \"dev/main/loss\"]].values, columns=[\"main/loss\", \"dev/main/loss\"], index=log_df_w2v[\"iteration\"]).plot()"
   ]
  },
  {
   "cell_type": "code",
   "execution_count": 47,
   "metadata": {},
   "outputs": [
    {
     "ename": "ValueError",
     "evalue": "invalid literal for int() with base 10: 'result\\\\w2v_model_10'",
     "output_type": "error",
     "traceback": [
      "\u001b[1;31m---------------------------------------------------------------------------\u001b[0m",
      "\u001b[1;31mValueError\u001b[0m                                Traceback (most recent call last)",
      "\u001b[1;32m<ipython-input-47-fddb5178cc44>\u001b[0m in \u001b[0;36m<module>\u001b[1;34m()\u001b[0m\n\u001b[0;32m      1\u001b[0m \u001b[0mfiles\u001b[0m \u001b[1;33m=\u001b[0m \u001b[0mglob\u001b[0m\u001b[1;33m.\u001b[0m\u001b[0mglob\u001b[0m\u001b[1;33m(\u001b[0m\u001b[1;34m\"result/w2v_model_*.npz\"\u001b[0m\u001b[1;33m)\u001b[0m\u001b[1;33m\u001b[0m\u001b[0m\n\u001b[1;32m----> 2\u001b[1;33m \u001b[0mbest\u001b[0m \u001b[1;33m=\u001b[0m \u001b[0msorted\u001b[0m\u001b[1;33m(\u001b[0m\u001b[0mfiles\u001b[0m\u001b[1;33m,\u001b[0m \u001b[0mkey\u001b[0m\u001b[1;33m=\u001b[0m\u001b[1;32mlambda\u001b[0m \u001b[0mx\u001b[0m\u001b[1;33m:\u001b[0m \u001b[0mget_iter\u001b[0m\u001b[1;33m(\u001b[0m\u001b[0mx\u001b[0m\u001b[1;33m,\u001b[0m \u001b[1;34m\"result/w2v_model_\"\u001b[0m\u001b[1;33m)\u001b[0m\u001b[1;33m)\u001b[0m\u001b[1;33m[\u001b[0m\u001b[1;33m-\u001b[0m\u001b[1;36m1\u001b[0m\u001b[1;33m]\u001b[0m\u001b[1;33m\u001b[0m\u001b[0m\n\u001b[0m\u001b[0;32m      3\u001b[0m \u001b[0mprint\u001b[0m\u001b[1;33m(\u001b[0m\u001b[1;34m\"Best Model = {}\"\u001b[0m\u001b[1;33m.\u001b[0m\u001b[0mformat\u001b[0m\u001b[1;33m(\u001b[0m\u001b[0mbest\u001b[0m\u001b[1;33m)\u001b[0m\u001b[1;33m)\u001b[0m\u001b[1;33m\u001b[0m\u001b[0m\n\u001b[0;32m      4\u001b[0m \u001b[1;33m\u001b[0m\u001b[0m\n\u001b[0;32m      5\u001b[0m \u001b[0mbestmodel_w2v\u001b[0m \u001b[1;33m=\u001b[0m \u001b[0mModel\u001b[0m\u001b[1;33m(\u001b[0m\u001b[1;33m)\u001b[0m\u001b[1;33m\u001b[0m\u001b[0m\n",
      "\u001b[1;32m<ipython-input-47-fddb5178cc44>\u001b[0m in \u001b[0;36m<lambda>\u001b[1;34m(x)\u001b[0m\n\u001b[0;32m      1\u001b[0m \u001b[0mfiles\u001b[0m \u001b[1;33m=\u001b[0m \u001b[0mglob\u001b[0m\u001b[1;33m.\u001b[0m\u001b[0mglob\u001b[0m\u001b[1;33m(\u001b[0m\u001b[1;34m\"result/w2v_model_*.npz\"\u001b[0m\u001b[1;33m)\u001b[0m\u001b[1;33m\u001b[0m\u001b[0m\n\u001b[1;32m----> 2\u001b[1;33m \u001b[0mbest\u001b[0m \u001b[1;33m=\u001b[0m \u001b[0msorted\u001b[0m\u001b[1;33m(\u001b[0m\u001b[0mfiles\u001b[0m\u001b[1;33m,\u001b[0m \u001b[0mkey\u001b[0m\u001b[1;33m=\u001b[0m\u001b[1;32mlambda\u001b[0m \u001b[0mx\u001b[0m\u001b[1;33m:\u001b[0m \u001b[0mget_iter\u001b[0m\u001b[1;33m(\u001b[0m\u001b[0mx\u001b[0m\u001b[1;33m,\u001b[0m \u001b[1;34m\"result/w2v_model_\"\u001b[0m\u001b[1;33m)\u001b[0m\u001b[1;33m)\u001b[0m\u001b[1;33m[\u001b[0m\u001b[1;33m-\u001b[0m\u001b[1;36m1\u001b[0m\u001b[1;33m]\u001b[0m\u001b[1;33m\u001b[0m\u001b[0m\n\u001b[0m\u001b[0;32m      3\u001b[0m \u001b[0mprint\u001b[0m\u001b[1;33m(\u001b[0m\u001b[1;34m\"Best Model = {}\"\u001b[0m\u001b[1;33m.\u001b[0m\u001b[0mformat\u001b[0m\u001b[1;33m(\u001b[0m\u001b[0mbest\u001b[0m\u001b[1;33m)\u001b[0m\u001b[1;33m)\u001b[0m\u001b[1;33m\u001b[0m\u001b[0m\n\u001b[0;32m      4\u001b[0m \u001b[1;33m\u001b[0m\u001b[0m\n\u001b[0;32m      5\u001b[0m \u001b[0mbestmodel_w2v\u001b[0m \u001b[1;33m=\u001b[0m \u001b[0mModel\u001b[0m\u001b[1;33m(\u001b[0m\u001b[1;33m)\u001b[0m\u001b[1;33m\u001b[0m\u001b[0m\n",
      "\u001b[1;32m<ipython-input-38-d54f3f53d36c>\u001b[0m in \u001b[0;36mget_iter\u001b[1;34m(path, prefix)\u001b[0m\n\u001b[0;32m      1\u001b[0m \u001b[1;32mdef\u001b[0m \u001b[0mget_iter\u001b[0m\u001b[1;33m(\u001b[0m\u001b[0mpath\u001b[0m\u001b[1;33m,\u001b[0m \u001b[0mprefix\u001b[0m\u001b[1;33m)\u001b[0m\u001b[1;33m:\u001b[0m\u001b[1;33m\u001b[0m\u001b[0m\n\u001b[1;32m----> 2\u001b[1;33m     \u001b[1;32mreturn\u001b[0m \u001b[0mint\u001b[0m\u001b[1;33m(\u001b[0m\u001b[0mpath\u001b[0m\u001b[1;33m.\u001b[0m\u001b[0mreplace\u001b[0m\u001b[1;33m(\u001b[0m\u001b[0mprefix\u001b[0m\u001b[1;33m,\u001b[0m \u001b[1;34m\"\"\u001b[0m\u001b[1;33m)\u001b[0m\u001b[1;33m.\u001b[0m\u001b[0mreplace\u001b[0m\u001b[1;33m(\u001b[0m\u001b[1;34m\".npz\"\u001b[0m\u001b[1;33m,\u001b[0m \u001b[1;34m\"\"\u001b[0m\u001b[1;33m)\u001b[0m\u001b[1;33m)\u001b[0m\u001b[1;33m\u001b[0m\u001b[0m\n\u001b[0m\u001b[0;32m      3\u001b[0m \u001b[1;33m\u001b[0m\u001b[0m\n\u001b[0;32m      4\u001b[0m \u001b[0mfiles\u001b[0m \u001b[1;33m=\u001b[0m \u001b[0mglob\u001b[0m\u001b[1;33m.\u001b[0m\u001b[0mglob\u001b[0m\u001b[1;33m(\u001b[0m\u001b[1;34m\"result/normal_model_*.npz\"\u001b[0m\u001b[1;33m)\u001b[0m\u001b[1;33m\u001b[0m\u001b[0m\n\u001b[0;32m      5\u001b[0m \u001b[0mbest\u001b[0m \u001b[1;33m=\u001b[0m \u001b[0msorted\u001b[0m\u001b[1;33m(\u001b[0m\u001b[0mfiles\u001b[0m\u001b[1;33m,\u001b[0m \u001b[0mkey\u001b[0m\u001b[1;33m=\u001b[0m\u001b[1;32mlambda\u001b[0m \u001b[0mx\u001b[0m\u001b[1;33m:\u001b[0m \u001b[0mget_iter\u001b[0m\u001b[1;33m(\u001b[0m\u001b[0mx\u001b[0m\u001b[1;33m,\u001b[0m \u001b[1;34m\"result/normal_model_\"\u001b[0m\u001b[1;33m)\u001b[0m\u001b[1;33m)\u001b[0m\u001b[1;33m[\u001b[0m\u001b[1;33m-\u001b[0m\u001b[1;36m1\u001b[0m\u001b[1;33m]\u001b[0m\u001b[1;33m\u001b[0m\u001b[0m\n",
      "\u001b[1;31mValueError\u001b[0m: invalid literal for int() with base 10: 'result\\\\w2v_model_10'"
     ]
    }
   ],
   "source": [
    "files = glob.glob(\"result/w2v_model_*.npz\")\n",
    "best = sorted(files, key=lambda x: get_iter(x, \"result/w2v_model_\"))[-1]\n",
    "print(\"Best Model = {}\".format(best))\n",
    "\n",
    "bestmodel_w2v = Model()\n",
    "load_npz(best, bestmodel_w2v)"
   ]
  },
  {
   "cell_type": "code",
   "execution_count": 48,
   "metadata": {},
   "outputs": [
    {
     "ename": "NameError",
     "evalue": "name 'bestmodel_w2v' is not defined",
     "output_type": "error",
     "traceback": [
      "\u001b[1;31m---------------------------------------------------------------------------\u001b[0m",
      "\u001b[1;31mNameError\u001b[0m                                 Traceback (most recent call last)",
      "\u001b[1;32m<ipython-input-48-65ec5efa55e1>\u001b[0m in \u001b[0;36m<module>\u001b[1;34m()\u001b[0m\n\u001b[0;32m      1\u001b[0m \u001b[1;32mwith\u001b[0m \u001b[0mconfiguration\u001b[0m\u001b[1;33m.\u001b[0m\u001b[0musing_config\u001b[0m\u001b[1;33m(\u001b[0m\u001b[1;34m'train'\u001b[0m\u001b[1;33m,\u001b[0m \u001b[1;32mFalse\u001b[0m\u001b[1;33m)\u001b[0m\u001b[1;33m:\u001b[0m\u001b[1;33m\u001b[0m\u001b[0m\n\u001b[1;32m----> 2\u001b[1;33m     \u001b[0mpredicts\u001b[0m \u001b[1;33m=\u001b[0m \u001b[0mbestmodel_w2v\u001b[0m\u001b[1;33m(\u001b[0m\u001b[0mtrain_x\u001b[0m\u001b[1;33m)\u001b[0m\u001b[1;33m\u001b[0m\u001b[0m\n\u001b[0m\u001b[0;32m      3\u001b[0m \u001b[0mpredicts\u001b[0m \u001b[1;33m=\u001b[0m \u001b[0mnp\u001b[0m\u001b[1;33m.\u001b[0m\u001b[0marray\u001b[0m\u001b[1;33m(\u001b[0m\u001b[1;33m[\u001b[0m\u001b[0mpredict\u001b[0m\u001b[1;33m.\u001b[0m\u001b[0mdata\u001b[0m \u001b[1;32mfor\u001b[0m \u001b[0mpredict\u001b[0m \u001b[1;32min\u001b[0m \u001b[0mpredicts\u001b[0m\u001b[1;33m]\u001b[0m\u001b[1;33m)\u001b[0m\u001b[1;33m\u001b[0m\u001b[0m\n\u001b[0;32m      4\u001b[0m \u001b[0mpredicts_y\u001b[0m \u001b[1;33m=\u001b[0m \u001b[0mnp\u001b[0m\u001b[1;33m.\u001b[0m\u001b[0margmax\u001b[0m\u001b[1;33m(\u001b[0m\u001b[0mpredicts\u001b[0m\u001b[1;33m,\u001b[0m \u001b[0maxis\u001b[0m\u001b[1;33m=\u001b[0m\u001b[1;36m1\u001b[0m\u001b[1;33m)\u001b[0m\u001b[1;33m\u001b[0m\u001b[0m\n\u001b[0;32m      5\u001b[0m \u001b[1;33m\u001b[0m\u001b[0m\n",
      "\u001b[1;31mNameError\u001b[0m: name 'bestmodel_w2v' is not defined"
     ]
    }
   ],
   "source": [
    "with configuration.using_config('train', False):\n",
    "    predicts = bestmodel_w2v(train_x)\n",
    "predicts = np.array([predict.data for predict in predicts])\n",
    "predicts_y = np.argmax(predicts, axis=1)\n",
    "\n",
    "print(\"*** Scores for Training data ***\")\n",
    "print(classification_report(train_y, predicts_y))\n",
    "\n",
    "\n",
    "with configuration.using_config('train', False):\n",
    "    predicts = bestmodel_w2v(dev_x)\n",
    "predicts = np.array([predict.data for predict in predicts])\n",
    "predicts_y = np.argmax(predicts, axis=1)\n",
    "\n",
    "print(\"*** Scores for Dev data ***\")\n",
    "print(classification_report(dev_y, predicts_y))\n",
    "\n",
    "with configuration.using_config('train', False):\n",
    "    predicts = bestmodel_w2v(test_x)\n",
    "predicts = np.array([predict.data for predict in predicts])\n",
    "predicts_y = np.argmax(predicts, axis=1)\n",
    "\n",
    "print(\"*** Scores for Test data ***\")\n",
    "print(classification_report(test_y, predicts_y))"
   ]
  },
  {
   "cell_type": "markdown",
   "metadata": {},
   "source": [
    "通常のランダム値からスタートした場合に比べて、学習データに対するlossがより低いところまで学習できていることがわかります。"
   ]
  },
  {
   "cell_type": "markdown",
   "metadata": {},
   "source": [
    "## 参考資料"
   ]
  },
  {
   "cell_type": "markdown",
   "metadata": {},
   "source": [
    "http://deeplearning.net/tutorial/lstm.html"
   ]
  },
  {
   "cell_type": "code",
   "execution_count": null,
   "metadata": {
    "collapsed": true
   },
   "outputs": [],
   "source": []
  }
 ],
 "metadata": {
  "kernelspec": {
   "display_name": "Python 3",
   "language": "python",
   "name": "python3"
  },
  "language_info": {
   "codemirror_mode": {
    "name": "ipython",
    "version": 3
   },
   "file_extension": ".py",
   "mimetype": "text/x-python",
   "name": "python",
   "nbconvert_exporter": "python",
   "pygments_lexer": "ipython3",
   "version": "3.6.1"
  }
 },
 "nbformat": 4,
 "nbformat_minor": 2
}
