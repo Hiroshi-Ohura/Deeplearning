{
 "cells": [
  {
   "cell_type": "code",
   "execution_count": 21,
   "metadata": {},
   "outputs": [
    {
     "name": "stdout",
     "output_type": "stream",
     "text": [
      "The autoreload extension is already loaded. To reload it, use:\n",
      "  %reload_ext autoreload\n"
     ]
    }
   ],
   "source": [
    "%matplotlib inline\n",
    "%load_ext autoreload\n",
    "%autoreload 2"
   ]
  },
  {
   "cell_type": "markdown",
   "metadata": {},
   "source": [
    "# Deep Learningドリル - 基礎編 -"
   ]
  },
  {
   "cell_type": "markdown",
   "metadata": {},
   "source": [
    "それでは早速Deep Learningについて学びましょう。\n",
    "\n",
    "この基礎編では、例題を通してoptimizerやactivationについて理解を深めます。\n",
    "これらはDeep Learningを使う場合には必須とも言えるものですのでしっかり頑張りましょう。"
   ]
  },
  {
   "cell_type": "markdown",
   "metadata": {},
   "source": [
    "## 例題"
   ]
  },
  {
   "cell_type": "markdown",
   "metadata": {},
   "source": [
    "あなたの務める会社では、スマートフォンを使った高齢者見守りアプリの開発を進めています。\n",
    "\n",
    "スマートフォンには様々なセンサーが付いているため、これらの情報を使って、高齢者のより詳細な行動を取得するプロジェクトが開始されました。\n",
    "\n",
    "センサーの情報から、「寝ている」「座った」「立ち上がった」「歩いた」「登った」「降った」の6カテゴリに分類するモデルを学習してください。"
   ]
  },
  {
   "cell_type": "markdown",
   "metadata": {},
   "source": [
    "## 事前準備: データの読み込み"
   ]
  },
  {
   "cell_type": "markdown",
   "metadata": {},
   "source": [
    "まずは実験に使うデータを読み込みましょう。このデータは https://www.kaggle.com/uciml/human-activity-recognition-with-smartphones から取得したものです。\n",
    "\n",
    "取得時のライセンスはCC0: Public Domainです。"
   ]
  },
  {
   "cell_type": "code",
   "execution_count": 22,
   "metadata": {
    "collapsed": true
   },
   "outputs": [],
   "source": [
    "import numpy as np\n",
    "import pandas as pd"
   ]
  },
  {
   "cell_type": "code",
   "execution_count": 23,
   "metadata": {
    "collapsed": true
   },
   "outputs": [],
   "source": [
    "np.random.seed(151)"
   ]
  },
  {
   "cell_type": "code",
   "execution_count": 24,
   "metadata": {
    "collapsed": true
   },
   "outputs": [],
   "source": [
    "train = pd.read_csv(\"data/train.csv\")\n",
    "dev = pd.read_csv(\"data/dev.csv\")\n",
    "test = pd.read_csv(\"data/test.csv\")"
   ]
  },
  {
   "cell_type": "markdown",
   "metadata": {},
   "source": [
    "## 事前準備: データの確認"
   ]
  },
  {
   "cell_type": "markdown",
   "metadata": {},
   "source": [
    "このデータがどのようなものか、実際に見てみましょう。"
   ]
  },
  {
   "cell_type": "code",
   "execution_count": 25,
   "metadata": {},
   "outputs": [
    {
     "data": {
      "text/html": [
       "<div>\n",
       "<style>\n",
       "    .dataframe thead tr:only-child th {\n",
       "        text-align: right;\n",
       "    }\n",
       "\n",
       "    .dataframe thead th {\n",
       "        text-align: left;\n",
       "    }\n",
       "\n",
       "    .dataframe tbody tr th {\n",
       "        vertical-align: top;\n",
       "    }\n",
       "</style>\n",
       "<table border=\"1\" class=\"dataframe\">\n",
       "  <thead>\n",
       "    <tr style=\"text-align: right;\">\n",
       "      <th></th>\n",
       "      <th>tBodyAcc-mean()-X</th>\n",
       "      <th>tBodyAcc-mean()-Y</th>\n",
       "      <th>tBodyAcc-mean()-Z</th>\n",
       "      <th>tBodyAcc-std()-X</th>\n",
       "      <th>tBodyAcc-std()-Y</th>\n",
       "      <th>tBodyAcc-std()-Z</th>\n",
       "      <th>tBodyAcc-mad()-X</th>\n",
       "      <th>tBodyAcc-mad()-Y</th>\n",
       "      <th>tBodyAcc-mad()-Z</th>\n",
       "      <th>tBodyAcc-max()-X</th>\n",
       "      <th>...</th>\n",
       "      <th>fBodyBodyGyroJerkMag-kurtosis()</th>\n",
       "      <th>angle(tBodyAccMean,gravity)</th>\n",
       "      <th>angle(tBodyAccJerkMean),gravityMean)</th>\n",
       "      <th>angle(tBodyGyroMean,gravityMean)</th>\n",
       "      <th>angle(tBodyGyroJerkMean,gravityMean)</th>\n",
       "      <th>angle(X,gravityMean)</th>\n",
       "      <th>angle(Y,gravityMean)</th>\n",
       "      <th>angle(Z,gravityMean)</th>\n",
       "      <th>subject</th>\n",
       "      <th>Activity</th>\n",
       "    </tr>\n",
       "  </thead>\n",
       "  <tbody>\n",
       "    <tr>\n",
       "      <th>0</th>\n",
       "      <td>0.255258</td>\n",
       "      <td>-0.051533</td>\n",
       "      <td>-0.083768</td>\n",
       "      <td>-0.199902</td>\n",
       "      <td>0.394740</td>\n",
       "      <td>-0.374884</td>\n",
       "      <td>-0.225247</td>\n",
       "      <td>0.289441</td>\n",
       "      <td>-0.356663</td>\n",
       "      <td>-0.118184</td>\n",
       "      <td>...</td>\n",
       "      <td>-0.869127</td>\n",
       "      <td>0.014290</td>\n",
       "      <td>-0.338333</td>\n",
       "      <td>-0.996121</td>\n",
       "      <td>-0.666106</td>\n",
       "      <td>-0.760867</td>\n",
       "      <td>0.263355</td>\n",
       "      <td>0.021626</td>\n",
       "      <td>8</td>\n",
       "      <td>WALKING</td>\n",
       "    </tr>\n",
       "    <tr>\n",
       "      <th>1</th>\n",
       "      <td>0.275877</td>\n",
       "      <td>-0.019070</td>\n",
       "      <td>-0.134976</td>\n",
       "      <td>-0.996415</td>\n",
       "      <td>-0.974626</td>\n",
       "      <td>-0.962391</td>\n",
       "      <td>-0.996702</td>\n",
       "      <td>-0.973630</td>\n",
       "      <td>-0.958838</td>\n",
       "      <td>-0.942446</td>\n",
       "      <td>...</td>\n",
       "      <td>-0.916135</td>\n",
       "      <td>-0.013890</td>\n",
       "      <td>-0.218391</td>\n",
       "      <td>0.012162</td>\n",
       "      <td>0.490032</td>\n",
       "      <td>-0.803546</td>\n",
       "      <td>0.229476</td>\n",
       "      <td>0.053515</td>\n",
       "      <td>28</td>\n",
       "      <td>SITTING</td>\n",
       "    </tr>\n",
       "    <tr>\n",
       "      <th>2</th>\n",
       "      <td>0.275889</td>\n",
       "      <td>-0.019306</td>\n",
       "      <td>-0.109075</td>\n",
       "      <td>-0.995904</td>\n",
       "      <td>-0.986940</td>\n",
       "      <td>-0.984073</td>\n",
       "      <td>-0.996516</td>\n",
       "      <td>-0.986130</td>\n",
       "      <td>-0.984043</td>\n",
       "      <td>-0.940218</td>\n",
       "      <td>...</td>\n",
       "      <td>-0.823916</td>\n",
       "      <td>0.093677</td>\n",
       "      <td>-0.295563</td>\n",
       "      <td>0.383444</td>\n",
       "      <td>-0.851732</td>\n",
       "      <td>-0.737762</td>\n",
       "      <td>0.164248</td>\n",
       "      <td>0.193946</td>\n",
       "      <td>23</td>\n",
       "      <td>STANDING</td>\n",
       "    </tr>\n",
       "    <tr>\n",
       "      <th>3</th>\n",
       "      <td>0.244993</td>\n",
       "      <td>-0.016488</td>\n",
       "      <td>-0.104796</td>\n",
       "      <td>-0.284967</td>\n",
       "      <td>0.322228</td>\n",
       "      <td>-0.436234</td>\n",
       "      <td>-0.334029</td>\n",
       "      <td>0.226527</td>\n",
       "      <td>-0.429581</td>\n",
       "      <td>-0.130974</td>\n",
       "      <td>...</td>\n",
       "      <td>-0.672261</td>\n",
       "      <td>0.839361</td>\n",
       "      <td>0.376752</td>\n",
       "      <td>-0.107365</td>\n",
       "      <td>0.214366</td>\n",
       "      <td>-0.782859</td>\n",
       "      <td>0.244063</td>\n",
       "      <td>-0.018298</td>\n",
       "      <td>6</td>\n",
       "      <td>WALKING</td>\n",
       "    </tr>\n",
       "    <tr>\n",
       "      <th>4</th>\n",
       "      <td>0.285473</td>\n",
       "      <td>-0.024408</td>\n",
       "      <td>-0.086753</td>\n",
       "      <td>-0.978880</td>\n",
       "      <td>-0.866417</td>\n",
       "      <td>-0.910604</td>\n",
       "      <td>-0.984322</td>\n",
       "      <td>-0.882104</td>\n",
       "      <td>-0.912848</td>\n",
       "      <td>-0.903619</td>\n",
       "      <td>...</td>\n",
       "      <td>0.020834</td>\n",
       "      <td>-0.099957</td>\n",
       "      <td>-0.017790</td>\n",
       "      <td>-0.241290</td>\n",
       "      <td>0.819461</td>\n",
       "      <td>-0.643430</td>\n",
       "      <td>0.306376</td>\n",
       "      <td>0.150995</td>\n",
       "      <td>21</td>\n",
       "      <td>STANDING</td>\n",
       "    </tr>\n",
       "  </tbody>\n",
       "</table>\n",
       "<p>5 rows × 563 columns</p>\n",
       "</div>"
      ],
      "text/plain": [
       "   tBodyAcc-mean()-X  tBodyAcc-mean()-Y  tBodyAcc-mean()-Z  tBodyAcc-std()-X  \\\n",
       "0           0.255258          -0.051533          -0.083768         -0.199902   \n",
       "1           0.275877          -0.019070          -0.134976         -0.996415   \n",
       "2           0.275889          -0.019306          -0.109075         -0.995904   \n",
       "3           0.244993          -0.016488          -0.104796         -0.284967   \n",
       "4           0.285473          -0.024408          -0.086753         -0.978880   \n",
       "\n",
       "   tBodyAcc-std()-Y  tBodyAcc-std()-Z  tBodyAcc-mad()-X  tBodyAcc-mad()-Y  \\\n",
       "0          0.394740         -0.374884         -0.225247          0.289441   \n",
       "1         -0.974626         -0.962391         -0.996702         -0.973630   \n",
       "2         -0.986940         -0.984073         -0.996516         -0.986130   \n",
       "3          0.322228         -0.436234         -0.334029          0.226527   \n",
       "4         -0.866417         -0.910604         -0.984322         -0.882104   \n",
       "\n",
       "   tBodyAcc-mad()-Z  tBodyAcc-max()-X    ...     \\\n",
       "0         -0.356663         -0.118184    ...      \n",
       "1         -0.958838         -0.942446    ...      \n",
       "2         -0.984043         -0.940218    ...      \n",
       "3         -0.429581         -0.130974    ...      \n",
       "4         -0.912848         -0.903619    ...      \n",
       "\n",
       "   fBodyBodyGyroJerkMag-kurtosis()  angle(tBodyAccMean,gravity)  \\\n",
       "0                        -0.869127                     0.014290   \n",
       "1                        -0.916135                    -0.013890   \n",
       "2                        -0.823916                     0.093677   \n",
       "3                        -0.672261                     0.839361   \n",
       "4                         0.020834                    -0.099957   \n",
       "\n",
       "   angle(tBodyAccJerkMean),gravityMean)  angle(tBodyGyroMean,gravityMean)  \\\n",
       "0                             -0.338333                         -0.996121   \n",
       "1                             -0.218391                          0.012162   \n",
       "2                             -0.295563                          0.383444   \n",
       "3                              0.376752                         -0.107365   \n",
       "4                             -0.017790                         -0.241290   \n",
       "\n",
       "   angle(tBodyGyroJerkMean,gravityMean)  angle(X,gravityMean)  \\\n",
       "0                             -0.666106             -0.760867   \n",
       "1                              0.490032             -0.803546   \n",
       "2                             -0.851732             -0.737762   \n",
       "3                              0.214366             -0.782859   \n",
       "4                              0.819461             -0.643430   \n",
       "\n",
       "   angle(Y,gravityMean)  angle(Z,gravityMean)  subject  Activity  \n",
       "0              0.263355              0.021626        8   WALKING  \n",
       "1              0.229476              0.053515       28   SITTING  \n",
       "2              0.164248              0.193946       23  STANDING  \n",
       "3              0.244063             -0.018298        6   WALKING  \n",
       "4              0.306376              0.150995       21  STANDING  \n",
       "\n",
       "[5 rows x 563 columns]"
      ]
     },
     "execution_count": 25,
     "metadata": {},
     "output_type": "execute_result"
    }
   ],
   "source": [
    "train.head()"
   ]
  },
  {
   "cell_type": "markdown",
   "metadata": {},
   "source": [
    "横軸にセンサーの名前がたくさん書かれていますね。Activityがそのデータが発生したときの行動(今回の例題における分類対象=教師データ)の様です。"
   ]
  },
  {
   "cell_type": "markdown",
   "metadata": {},
   "source": [
    "## モデルの実装"
   ]
  },
  {
   "cell_type": "markdown",
   "metadata": {},
   "source": [
    "それではモデルを実装していきましょう。chainerではレイヤーのことを Link と呼びます。また、Link内で使われている関数のことをFunctionと言います。まず、LinkとFunctionをインポートします。"
   ]
  },
  {
   "cell_type": "code",
   "execution_count": 26,
   "metadata": {
    "collapsed": true
   },
   "outputs": [],
   "source": [
    "import chainer.links as L\n",
    "import chainer.functions as F"
   ]
  },
  {
   "cell_type": "markdown",
   "metadata": {},
   "source": [
    "chainerには様々なLinkが用意されています。\n",
    "たとえば、\n",
    "\n",
    "* Linear: 全結合層\n",
    "* Convolution2D: コンボリューション層\n",
    "* LSTM: LSTM層\n",
    "\n",
    "などがあります。\n",
    "\n",
    "Functionも豊富です。たとえば\n",
    "\n",
    "* sigmoid: シグモイド関数\n",
    "* softmax: ソフトマックス関数\n",
    "* relu: ReLu関数\n",
    "\n",
    "などがあります。"
   ]
  },
  {
   "cell_type": "markdown",
   "metadata": {},
   "source": [
    "chainerに用意されているLinkとFunctionを組み合わせて、モデル(ネットワーク)を実装しましょう。chainerではこのモデルのことをchainと呼びます。"
   ]
  },
  {
   "cell_type": "code",
   "execution_count": 27,
   "metadata": {
    "collapsed": true
   },
   "outputs": [],
   "source": [
    "from chainer import Chain"
   ]
  },
  {
   "cell_type": "markdown",
   "metadata": {},
   "source": [
    "モデルの実装例を以下に示します。"
   ]
  },
  {
   "cell_type": "code",
   "execution_count": 28,
   "metadata": {
    "collapsed": true
   },
   "outputs": [],
   "source": [
    "class Model(Chain): #classの定義\n",
    "    def __init__(self):\n",
    "        super(Model, self).__init__()\n",
    "        with self.init_scope():\n",
    "            self.l1 = L.Linear(561, 10)\n",
    "            self.l2 = L.Linear(10, 8)\n",
    "            self.l3 = L.Linear(8, 6)\n",
    "    \n",
    "    def __call__(self, x):\n",
    "        h = self.l1(x)\n",
    "        h = F.sigmoid(h)\n",
    "        h = self.l2(h)\n",
    "        h = F.sigmoid(h)\n",
    "        return self.l3(h)"
   ]
  },
  {
   "cell_type": "markdown",
   "metadata": {},
   "source": [
    "initの中で使うLinkを列挙しています。ここでは3層のニューラルネットワークを作るので、L.Linearが3つ作られています。\n",
    "\n",
    "L.Linearの引数には入出力の次元数を書いています。\n",
    "561というのは学習データの次元数ですね。(今回の例ではsubjectは使いません。)\n",
    "\n",
    "層を重ねるごとに、 561→10→6と減らしています。6というのは最終的に当てたいと思っているカテゴリの数です。\n",
    "\n",
    "このモデルでは当てたいカテゴリにそれぞれIDが振られることを想定しています。たとえば「歩いている」ならID=0といった調子です。私たちがモデルを使ってデータのカテゴリを予測するとき、出力のID番目(「歩いている」なら出力の先頭）の数値が他の5つに比べて最も大きくなることを期待しています。たとえばモデルの出力が$[1.0, 0.5, 0.2, 0.6, 0.8, 0.3]$なら、先頭が一番大きいので入力されたデータは「歩いている」だろうと、分類します。"
   ]
  },
  {
   "cell_type": "markdown",
   "metadata": {},
   "source": [
    "一応数式でも書いておきましょう。initでは以下の3つの関数を定義しています。\n",
    "\n",
    "\\begin{eqnarray}\n",
    "l_1(x) &=& W_1 x + b_1 \\\\\n",
    "l_2(x) &=& W_2 x + b_3 \\\\\n",
    "l_3(x) &=& W_3 x + b_3\n",
    "\\end{eqnarray}\n",
    "\n",
    "ここで、 $W_1$ は10行561列の行列、b_1は10次元の縦ベクトルです。$W_2, b_2, W_3, b_3$も同様です。\n",
    "\n",
    "callの中ではこの3つの関数を使って、以下のような計算を行っています。\n",
    "\n",
    "\\begin{eqnarray}\n",
    "h &\\leftarrow& \\mathrm{sigmoid}(l_1(x)) \\\\\n",
    "h &\\leftarrow& \\mathrm{sigmoid}(l_2(h)) \\\\\n",
    "戻り値 &:& l_3(h)\n",
    "\\end{eqnarray}\n",
    "\n",
    "最後の戻り値で$\\mathrm{sigmoid}$をかけていない理由は後述します。"
   ]
  },
  {
   "cell_type": "markdown",
   "metadata": {},
   "source": [
    "なお、間に10次元を挟んでいますがこの数字に根拠はありません。通常はいろいろ実験して最適な次元数を決める必要がありますので注意してください。"
   ]
  },
  {
   "cell_type": "markdown",
   "metadata": {},
   "source": [
    "後で使うために、作成したモデルのインスタンスを用意しておきましょう。"
   ]
  },
  {
   "cell_type": "code",
   "execution_count": 29,
   "metadata": {
    "collapsed": true
   },
   "outputs": [],
   "source": [
    "model = Model()"
   ]
  },
  {
   "cell_type": "markdown",
   "metadata": {},
   "source": [
    "モデルはまだ何も学習されていません。モデルパラメータ$W_i$は初期状態では乱数が振られています。ちょっと覗いてみましょう。以下は$W_3$です。"
   ]
  },
  {
   "cell_type": "code",
   "execution_count": 30,
   "metadata": {},
   "outputs": [
    {
     "data": {
      "text/plain": [
       "variable W([[ 0.14827433,  0.79893965, -0.28074011,  0.17805515,\n",
       "             -0.0379422 , -0.48498207, -0.25339636,  0.21260631],\n",
       "            [-0.00725852, -0.45650449,  0.40505102,  0.02478453,\n",
       "              0.08961729,  0.05651047,  0.45668423, -0.11103398],\n",
       "            [-0.39716744,  0.04489462, -0.84938478,  0.84618896,\n",
       "             -0.11712282,  0.47008371, -0.10546783, -0.25015491],\n",
       "            [-0.45477781,  0.14019229, -0.22186008, -0.24394965,\n",
       "              0.09891256,  0.23789625,  0.04227386,  0.1608851 ],\n",
       "            [ 0.31328049,  0.20134929,  0.2837961 ,  0.42689085,\n",
       "              0.10716694,  0.30445611, -0.22905846,  0.35156998],\n",
       "            [ 0.21768749, -0.03887195,  0.16356894,  0.41479653,\n",
       "             -0.00290659, -0.57910615,  0.14278245,  0.02115194]])"
      ]
     },
     "execution_count": 30,
     "metadata": {},
     "output_type": "execute_result"
    }
   ],
   "source": [
    "model.l3.W"
   ]
  },
  {
   "cell_type": "markdown",
   "metadata": {},
   "source": [
    "バイアス項 $b_i$ は初期状態で$0$にセットされています。こちらも覗いてみましょう。"
   ]
  },
  {
   "cell_type": "code",
   "execution_count": 31,
   "metadata": {},
   "outputs": [
    {
     "data": {
      "text/plain": [
       "variable b([ 0.,  0.,  0.,  0.,  0.,  0.])"
      ]
     },
     "execution_count": 31,
     "metadata": {},
     "output_type": "execute_result"
    }
   ],
   "source": [
    "model.l3.b"
   ]
  },
  {
   "cell_type": "markdown",
   "metadata": {},
   "source": [
    "## データの整形"
   ]
  },
  {
   "cell_type": "markdown",
   "metadata": {},
   "source": [
    "モデルができたらデータをchainerに入力することで学習できる訳ですが、もちろんその前にデータを機械学習しやすい形に整形しておかなければいけません。たとえDeep Learningといえども、データの前処理は重要です。"
   ]
  },
  {
   "cell_type": "markdown",
   "metadata": {},
   "source": [
    "以下では一般的な前処理を行います。すでに他のクラスで学習していると思いますので、特に解説はしません。"
   ]
  },
  {
   "cell_type": "code",
   "execution_count": 32,
   "metadata": {
    "collapsed": true
   },
   "outputs": [],
   "source": [
    "activity_type = train[\"Activity\"].unique() #重複を除去"
   ]
  },
  {
   "cell_type": "code",
   "execution_count": 33,
   "metadata": {
    "collapsed": true
   },
   "outputs": [],
   "source": [
    "activity_to_id = dict(zip(activity_type, np.arange(activity_type.shape[0]))) #activityとIDの辞書作成"
   ]
  },
  {
   "cell_type": "code",
   "execution_count": 34,
   "metadata": {},
   "outputs": [
    {
     "data": {
      "text/plain": [
       "array([0, 1, 2, 3, 4, 5])"
      ]
     },
     "execution_count": 34,
     "metadata": {},
     "output_type": "execute_result"
    }
   ],
   "source": [
    "np.arange(activity_type.shape[0])"
   ]
  },
  {
   "cell_type": "code",
   "execution_count": 35,
   "metadata": {},
   "outputs": [
    {
     "data": {
      "text/plain": [
       "{'LAYING': 4,\n",
       " 'SITTING': 1,\n",
       " 'STANDING': 2,\n",
       " 'WALKING': 0,\n",
       " 'WALKING_DOWNSTAIRS': 5,\n",
       " 'WALKING_UPSTAIRS': 3}"
      ]
     },
     "execution_count": 35,
     "metadata": {},
     "output_type": "execute_result"
    }
   ],
   "source": [
    "activity_to_id"
   ]
  },
  {
   "cell_type": "code",
   "execution_count": 36,
   "metadata": {
    "collapsed": true,
    "scrolled": false
   },
   "outputs": [],
   "source": [
    "train_X = train.drop([\"subject\", \"Activity\"], axis=1)\n",
    "train_Y = train[\"Activity\"].map(lambda x: activity_to_id[x])\n",
    "\n",
    "dev_X = dev.drop([\"subject\", \"Activity\"], axis=1)\n",
    "dev_Y = dev[\"Activity\"].map(lambda x: activity_to_id[x])\n",
    "\n",
    "test_X = test.drop([\"subject\", \"Activity\"], axis=1)\n",
    "test_Y = test[\"Activity\"].map(lambda x: activity_to_id[x])"
   ]
  },
  {
   "cell_type": "code",
   "execution_count": 38,
   "metadata": {},
   "outputs": [
    {
     "data": {
      "text/plain": [
       "0    0\n",
       "1    1\n",
       "2    2\n",
       "3    0\n",
       "4    2\n",
       "Name: Activity, dtype: int64"
      ]
     },
     "execution_count": 38,
     "metadata": {},
     "output_type": "execute_result"
    }
   ],
   "source": [
    "train_Y.head()"
   ]
  },
  {
   "cell_type": "code",
   "execution_count": 39,
   "metadata": {
    "collapsed": true
   },
   "outputs": [],
   "source": [
    "from sklearn.preprocessing import StandardScaler"
   ]
  },
  {
   "cell_type": "code",
   "execution_count": 40,
   "metadata": {
    "collapsed": true
   },
   "outputs": [],
   "source": [
    "scaler = StandardScaler()"
   ]
  },
  {
   "cell_type": "code",
   "execution_count": 41,
   "metadata": {
    "collapsed": true
   },
   "outputs": [],
   "source": [
    "train_X_scale = scaler.fit_transform(train_X)\n",
    "dev_X_scale = scaler.transform(dev_X)\n",
    "test_X_scale = scaler.transform(test_X)"
   ]
  },
  {
   "cell_type": "markdown",
   "metadata": {},
   "source": [
    "これでXの方はnumpy.ndarray型になりましたが、Yの方がpandas.Seriesのままなので、numpy.ndarrayに変換しておきます。"
   ]
  },
  {
   "cell_type": "code",
   "execution_count": 42,
   "metadata": {
    "collapsed": true
   },
   "outputs": [],
   "source": [
    "train_Y = train_Y.values\n",
    "dev_Y = dev_Y.values\n",
    "test_Y = test_Y.values"
   ]
  },
  {
   "cell_type": "code",
   "execution_count": 44,
   "metadata": {},
   "outputs": [
    {
     "data": {
      "text/plain": [
       "array([0, 1, 2, ..., 4, 1, 0], dtype=int64)"
      ]
     },
     "execution_count": 44,
     "metadata": {},
     "output_type": "execute_result"
    }
   ],
   "source": [
    "train_Y"
   ]
  },
  {
   "cell_type": "markdown",
   "metadata": {},
   "source": [
    "chainerは基本的に単精度浮動小数点数を取り扱いますので変換しておきます。(最近は倍精度にも対応しつつあるようです)"
   ]
  },
  {
   "cell_type": "code",
   "execution_count": 45,
   "metadata": {
    "collapsed": true
   },
   "outputs": [],
   "source": [
    "train_X_scale = train_X_scale.astype(np.float32)\n",
    "dev_X_scale = dev_X_scale.astype(np.float32)\n",
    "test_X_scale = test_X_scale.astype(np.float32)\n",
    "train_Y = train_Y.astype(np.int32)\n",
    "dev_Y = dev_Y.astype(np.int32)\n",
    "test_Y = test_Y.astype(np.int32)"
   ]
  },
  {
   "cell_type": "markdown",
   "metadata": {},
   "source": [
    "## データをモデルに入力する"
   ]
  },
  {
   "cell_type": "markdown",
   "metadata": {},
   "source": [
    "いよいよ、データをモデルに入力する準備ができました！\n",
    "\n",
    "chainerにデータを入力するには、Variableという型にデータを変換する必要があります。"
   ]
  },
  {
   "cell_type": "markdown",
   "metadata": {},
   "source": [
    "学習データの一つ目の値をVariable型に変換してみましょう。"
   ]
  },
  {
   "cell_type": "code",
   "execution_count": 46,
   "metadata": {
    "collapsed": true
   },
   "outputs": [],
   "source": [
    "from chainer import Variable"
   ]
  },
  {
   "cell_type": "markdown",
   "metadata": {},
   "source": [
    "学習データの一つ目を取り出します。"
   ]
  },
  {
   "cell_type": "code",
   "execution_count": 47,
   "metadata": {
    "collapsed": true
   },
   "outputs": [],
   "source": [
    "data1 = train_X_scale[:1, :]"
   ]
  },
  {
   "cell_type": "markdown",
   "metadata": {},
   "source": [
    "取り出し方に注目してください。あくまでデータは2次元です。"
   ]
  },
  {
   "cell_type": "code",
   "execution_count": 48,
   "metadata": {},
   "outputs": [
    {
     "data": {
      "text/plain": [
       "(1, 561)"
      ]
     },
     "execution_count": 48,
     "metadata": {},
     "output_type": "execute_result"
    }
   ],
   "source": [
    "data1.shape"
   ]
  },
  {
   "cell_type": "markdown",
   "metadata": {},
   "source": [
    "これで、561次元のデータが1つあるという形を表します。"
   ]
  },
  {
   "cell_type": "markdown",
   "metadata": {},
   "source": [
    "今はnumpy.ndarray型ですが、これをVariableに変換するのは簡単です。"
   ]
  },
  {
   "cell_type": "code",
   "execution_count": 49,
   "metadata": {
    "collapsed": true
   },
   "outputs": [],
   "source": [
    "data1_val = Variable(data1)"
   ]
  },
  {
   "cell_type": "markdown",
   "metadata": {},
   "source": [
    "データができました。モデルにデータを入力してみます。"
   ]
  },
  {
   "cell_type": "code",
   "execution_count": 50,
   "metadata": {
    "collapsed": true
   },
   "outputs": [],
   "source": [
    "y = model(data1_val)"
   ]
  },
  {
   "cell_type": "code",
   "execution_count": 51,
   "metadata": {},
   "outputs": [
    {
     "data": {
      "text/plain": [
       "variable([[ 0.22579227,  0.16810097, -0.19530877, -0.1585173 ,  0.8841446 ,\n",
       "            0.21156041]])"
      ]
     },
     "execution_count": 51,
     "metadata": {},
     "output_type": "execute_result"
    }
   ],
   "source": [
    "y"
   ]
  },
  {
   "cell_type": "markdown",
   "metadata": {},
   "source": [
    "計算結果が帰ってきましたね！！繰り返しますが、これは学習前の乱数が振られたモデルによる計算結果ですので、値には特に信憑性はありません。"
   ]
  },
  {
   "cell_type": "markdown",
   "metadata": {},
   "source": [
    "## 誤差を計算する"
   ]
  },
  {
   "cell_type": "markdown",
   "metadata": {},
   "source": [
    "一つ目のデータの正解は何だったでしょうか？"
   ]
  },
  {
   "cell_type": "code",
   "execution_count": 52,
   "metadata": {},
   "outputs": [
    {
     "data": {
      "text/plain": [
       "('WALKING', 0)"
      ]
     },
     "execution_count": 52,
     "metadata": {},
     "output_type": "execute_result"
    }
   ],
   "source": [
    "train[\"Activity\"][0], train_Y[0]"
   ]
  },
  {
   "cell_type": "markdown",
   "metadata": {},
   "source": [
    "状態は「歩いている」で、状態に割り振られたIDは0ですね。ということは、上で計算したyというのは、先頭(前から0番目)の値が最大であれば正解です。ところが、今回は前から4番目(0からスタートしています)が最大になってしまいました。"
   ]
  },
  {
   "cell_type": "markdown",
   "metadata": {},
   "source": [
    "Deep Learningでは、正解データと計算結果の間でズレを計算し、そのずれが小さくなる方にパラメータを動かしていきます。Gradient Discent法ですね。（忘れた方はここで復習してください！）"
   ]
  },
  {
   "cell_type": "markdown",
   "metadata": {},
   "source": [
    "では今回のズレはどれくらい大きいのでしょうか？\n",
    "\n",
    "正解データは$0$、出力は、$[0.22579233, 0.16810092, -0.19530883, -0.1585173, 0.8841446, 0.21156041]$です。そもそも正解データはカテゴリカルデータ、出力は多次元ベクトルです。\n",
    "\n",
    "このズレがどれくらい大きいのか計算する方法があります。それがクロスエントロピーです！！"
   ]
  },
  {
   "cell_type": "markdown",
   "metadata": {},
   "source": [
    "まず、モデル出力のうち、出力が一番大きい次元だと推定するというのはどういう意味でしょうか？その答えは出力にsoftmax関数をかけるとわかります。"
   ]
  },
  {
   "cell_type": "code",
   "execution_count": 53,
   "metadata": {},
   "outputs": [
    {
     "data": {
      "text/plain": [
       "variable([[ 0.16132514,  0.15228146,  0.10588153,  0.10984962,  0.31161678,\n",
       "            0.15904546]])"
      ]
     },
     "execution_count": 53,
     "metadata": {},
     "output_type": "execute_result"
    }
   ],
   "source": [
    "F.softmax(y)"
   ]
  },
  {
   "cell_type": "markdown",
   "metadata": {},
   "source": [
    "softmaxをかけても最大値は前から4次元目の値ですね！softmaxをかけても値の大小関係は変わりません。そしてsoftmaxにはとても良い性質があります。それは全ての値を足すと1になるというものです。実際に計算してみましょう。"
   ]
  },
  {
   "cell_type": "code",
   "execution_count": 54,
   "metadata": {},
   "outputs": [
    {
     "data": {
      "text/plain": [
       "variable(1.0)"
      ]
     },
     "execution_count": 54,
     "metadata": {},
     "output_type": "execute_result"
    }
   ],
   "source": [
    "F.sum(F.softmax(y))"
   ]
  },
  {
   "cell_type": "markdown",
   "metadata": {},
   "source": [
    "ほぼ1ですね。(コンピューターには計算誤差がありますので、ぴったりにはなりません)"
   ]
  },
  {
   "cell_type": "markdown",
   "metadata": {},
   "source": [
    "あらゆるパターンを足して1ということは、この出力は確率分布であると解釈することができます。つまり、モデルによって、入力データが各カテゴリに属する確率を計算し、その確率が最大となるカテゴリに推定していると解釈することができます。"
   ]
  },
  {
   "cell_type": "markdown",
   "metadata": {},
   "source": [
    "モデル出力は確率分布ですので、クロスエントロピーを使うことでズレを計算することができます。それではそのズレを計算してみましょう。chainerにはsoftmax_cross_entropyというFunctionが用意されています。この関数は、\n",
    "\n",
    "* 入力データにsoftmaxをかける\n",
    "* 正解データと照らし合わせてクロスエントロピーを計算する\n",
    "\n",
    "という処理を行ってくれます。関数内でsoftmaxが計算されますので、モデル側でsoftmaxを計算する必要はありません。"
   ]
  },
  {
   "cell_type": "code",
   "execution_count": 55,
   "metadata": {
    "collapsed": true
   },
   "outputs": [],
   "source": [
    "t = Variable(train_Y[:1])"
   ]
  },
  {
   "cell_type": "code",
   "execution_count": 56,
   "metadata": {
    "collapsed": true
   },
   "outputs": [],
   "source": [
    "diff = F.softmax_cross_entropy(y, t)"
   ]
  },
  {
   "cell_type": "code",
   "execution_count": 57,
   "metadata": {},
   "outputs": [
    {
     "data": {
      "text/plain": [
       "variable(1.8243333101272583)"
      ]
     },
     "execution_count": 57,
     "metadata": {},
     "output_type": "execute_result"
    }
   ],
   "source": [
    "diff"
   ]
  },
  {
   "cell_type": "markdown",
   "metadata": {},
   "source": [
    "おめでとうございます！ズレの値が計算できました！！"
   ]
  },
  {
   "cell_type": "markdown",
   "metadata": {},
   "source": [
    "## ズレを小さくする方向を計算する"
   ]
  },
  {
   "cell_type": "markdown",
   "metadata": {},
   "source": [
    "ではこのズレが小さくなるように少しだけモデルパラメータを動かしてみましょう。パラメータを動かすために、SGDを使います。"
   ]
  },
  {
   "cell_type": "code",
   "execution_count": 58,
   "metadata": {
    "collapsed": true
   },
   "outputs": [],
   "source": [
    "from chainer.optimizers import SGD"
   ]
  },
  {
   "cell_type": "markdown",
   "metadata": {},
   "source": [
    "SGDのインスタンスを作成し、それにモデルを登録します。これで、SGDが更新すべきパラメータが登録されます。"
   ]
  },
  {
   "cell_type": "code",
   "execution_count": 59,
   "metadata": {
    "collapsed": true
   },
   "outputs": [],
   "source": [
    "optimizer=SGD()\n",
    "optimizer.setup(model)"
   ]
  },
  {
   "cell_type": "markdown",
   "metadata": {},
   "source": [
    "モデルには、各パラメータを直近のデータで偏微分した結果を格納する変数が用意されています。初期状態では何も学習されていませんのでNaNが格納されています。覗いてみましょう。"
   ]
  },
  {
   "cell_type": "code",
   "execution_count": 62,
   "metadata": {},
   "outputs": [],
   "source": [
    "model.l3.W.grad"
   ]
  },
  {
   "cell_type": "markdown",
   "metadata": {},
   "source": [
    "NaNではこの後の計算結果がおかしくなってしまうので、値をクリアしましょう。"
   ]
  },
  {
   "cell_type": "code",
   "execution_count": 61,
   "metadata": {
    "collapsed": true
   },
   "outputs": [],
   "source": [
    "model.cleargrads()"
   ]
  },
  {
   "cell_type": "markdown",
   "metadata": {},
   "source": [
    "backward計算を行います。変数diffにはズレの情報が入っていますので、誤差逆伝搬法で偏微分計算が行われます。"
   ]
  },
  {
   "cell_type": "code",
   "execution_count": 63,
   "metadata": {
    "collapsed": true
   },
   "outputs": [],
   "source": [
    "diff.backward(retain_grad=True)"
   ]
  },
  {
   "cell_type": "markdown",
   "metadata": {},
   "source": [
    "さあ、偏微分の結果を覗いてみましょう。"
   ]
  },
  {
   "cell_type": "code",
   "execution_count": 64,
   "metadata": {},
   "outputs": [
    {
     "data": {
      "text/plain": [
       "array([[-0.42887557, -0.43979278, -0.42612571, -0.43175763, -0.38149482,\n",
       "        -0.35015795, -0.33403429, -0.40497017],\n",
       "       [ 0.07787262,  0.0798549 ,  0.07737332,  0.07839593,  0.06926951,\n",
       "         0.06357955,  0.06065191,  0.07353202],\n",
       "       [ 0.05414495,  0.05552324,  0.05379779,  0.05450881,  0.0481632 ,\n",
       "         0.04420696,  0.04217137,  0.05112693],\n",
       "       [ 0.05617411,  0.05760405,  0.05581394,  0.05655161,  0.04996818,\n",
       "         0.04586368,  0.04375181,  0.05304299],\n",
       "       [ 0.15935238,  0.16340877,  0.15833065,  0.16042323,  0.14174765,\n",
       "         0.13010417,  0.12411329,  0.15047012],\n",
       "       [ 0.08133153,  0.08340187,  0.08081006,  0.08187808,  0.07234629,\n",
       "         0.0664036 ,  0.06334592,  0.07679813]], dtype=float32)"
      ]
     },
     "execution_count": 64,
     "metadata": {},
     "output_type": "execute_result"
    }
   ],
   "source": [
    "model.l3.W.grad"
   ]
  },
  {
   "cell_type": "markdown",
   "metadata": {},
   "source": [
    "値が格納されていますね！！この結果を使ってパラメータを更新します。具体的にはズレが少し小さくなる方向に各パラメータの値を少し動かします。"
   ]
  },
  {
   "cell_type": "code",
   "execution_count": 65,
   "metadata": {
    "collapsed": true
   },
   "outputs": [],
   "source": [
    "optimizer.update()"
   ]
  },
  {
   "cell_type": "markdown",
   "metadata": {},
   "source": [
    "これで各パラメータの値がすこしだけ動きました。覗いてみましょう。"
   ]
  },
  {
   "cell_type": "code",
   "execution_count": 66,
   "metadata": {},
   "outputs": [
    {
     "data": {
      "text/plain": [
       "variable W([[ 0.1525631 ,  0.80333757, -0.27647886,  0.18237273,\n",
       "             -0.03412725, -0.48148048, -0.25005603,  0.21665601],\n",
       "            [-0.00803724, -0.45730305,  0.40427729,  0.02400057,\n",
       "              0.08892459,  0.05587468,  0.45607772, -0.1117693 ],\n",
       "            [-0.39770889,  0.04433939, -0.84992278,  0.84564388,\n",
       "             -0.11760446,  0.46964166, -0.10588954, -0.25066617],\n",
       "            [-0.45533955,  0.13961625, -0.22241822, -0.24451517,\n",
       "              0.09841288,  0.23743761,  0.04183635,  0.16035466],\n",
       "            [ 0.31168696,  0.1997152 ,  0.28221279,  0.42528662,\n",
       "              0.10574947,  0.30315506, -0.23029959,  0.35006529],\n",
       "            [ 0.21687417, -0.03970597,  0.16276084,  0.41397774,\n",
       "             -0.00363005, -0.57977021,  0.14214899,  0.02038396]])"
      ]
     },
     "execution_count": 66,
     "metadata": {},
     "output_type": "execute_result"
    }
   ],
   "source": [
    "model.l3.W"
   ]
  },
  {
   "cell_type": "markdown",
   "metadata": {},
   "source": [
    "本当にズレが小さくなったか値を計算してみましょう。"
   ]
  },
  {
   "cell_type": "code",
   "execution_count": 67,
   "metadata": {},
   "outputs": [
    {
     "data": {
      "text/plain": [
       "variable(1.7800530195236206)"
      ]
     },
     "execution_count": 67,
     "metadata": {},
     "output_type": "execute_result"
    }
   ],
   "source": [
    "F.softmax_cross_entropy(model(data1_val), t)"
   ]
  },
  {
   "cell_type": "markdown",
   "metadata": {},
   "source": [
    "上と見比べてみてください。確かにズレが小さくなっていますね！！"
   ]
  },
  {
   "cell_type": "markdown",
   "metadata": {},
   "source": [
    "## モデル学習"
   ]
  },
  {
   "cell_type": "markdown",
   "metadata": {},
   "source": [
    "今まで実験した内容で、Deep Learningがどのように正解データとのズレを小さくするか、イメージがつかめたと思います。\n",
    "上記の手順を、もっとたくさんのデータで、何度も繰り返すことで学習を進めていきます。\n",
    "それでは実際に学習を行っていきましょう。"
   ]
  },
  {
   "cell_type": "markdown",
   "metadata": {},
   "source": [
    "初めに学習の途中で使う関数をいくつか作成しておきます。"
   ]
  },
  {
   "cell_type": "code",
   "execution_count": 68,
   "metadata": {
    "collapsed": true
   },
   "outputs": [],
   "source": [
    "def get_training_data(batch_size=100):\n",
    "    \"\"\"\n",
    "    学習データの中からランダムにデータを選ぶ\n",
    "    \"\"\"\n",
    "    sample_points = np.random.choice(train_X_scale.shape[0], size=batch_size)\n",
    "    x = train_X_scale[sample_points]\n",
    "    y = train_Y[sample_points]\n",
    "    return Variable(x), Variable(y)"
   ]
  },
  {
   "cell_type": "code",
   "execution_count": 69,
   "metadata": {
    "collapsed": true
   },
   "outputs": [],
   "source": [
    "def iter_one(m, o):\n",
    "    \"\"\"\n",
    "    学習を1反復します\n",
    "    \"\"\"\n",
    "    x, t = get_training_data()\n",
    "    y = model(x)\n",
    "    diff = F.softmax_cross_entropy(y, t) #正解とのズレ\n",
    "    m.cleargrads()\n",
    "    diff.backward(retain_grad=True)#偏微分\n",
    "    o.update() #パラメータアップデータ\n",
    "    return diff.data"
   ]
  },
  {
   "cell_type": "code",
   "execution_count": 70,
   "metadata": {
    "collapsed": true
   },
   "outputs": [],
   "source": [
    "from chainer import configuration\n",
    "def eval_one(m, data_X, data_Y):\n",
    "    \"\"\"\n",
    "    モデルに開発データを与えて性能を測定します。\n",
    "    \"\"\"\n",
    "    with configuration.using_config('train', False):\n",
    "        return F.softmax_cross_entropy(m(data_X), data_Y).data"
   ]
  },
  {
   "cell_type": "markdown",
   "metadata": {},
   "source": [
    "いよいよ学習開始です。"
   ]
  },
  {
   "cell_type": "code",
   "execution_count": 46,
   "metadata": {
    "scrolled": false
   },
   "outputs": [
    {
     "name": "stdout",
     "output_type": "stream",
     "text": [
      "Iter 100: Train=1.7178966999053955 Dev=1.6969784498214722\n",
      "Iter 200: Train=1.6295781135559082 Dev=1.628489375114441\n",
      "Iter 300: Train=1.5924500226974487 Dev=1.5861972570419312\n",
      "Iter 400: Train=1.551940679550171 Dev=1.5509167909622192\n",
      "Iter 500: Train=1.5294175148010254 Dev=1.5159471035003662\n",
      "Iter 600: Train=1.4806835651397705 Dev=1.483188509941101\n",
      "Iter 700: Train=1.454429030418396 Dev=1.4519414901733398\n",
      "Iter 800: Train=1.4280266761779785 Dev=1.4213749170303345\n",
      "Iter 900: Train=1.3867108821868896 Dev=1.392443299293518\n",
      "Iter 1000: Train=1.3645378351211548 Dev=1.3649446964263916\n",
      "Iter 1100: Train=1.3405007123947144 Dev=1.3395376205444336\n",
      "Iter 1200: Train=1.3266280889511108 Dev=1.3159692287445068\n",
      "Iter 1300: Train=1.2903234958648682 Dev=1.2948445081710815\n",
      "Iter 1400: Train=1.2821829319000244 Dev=1.275648832321167\n",
      "Iter 1500: Train=1.270040512084961 Dev=1.2576889991760254\n",
      "Iter 1600: Train=1.239648461341858 Dev=1.240993618965149\n",
      "Iter 1700: Train=1.214117169380188 Dev=1.225070834159851\n",
      "Iter 1800: Train=1.2157150506973267 Dev=1.2108732461929321\n",
      "Iter 1900: Train=1.2035735845565796 Dev=1.1974323987960815\n",
      "Iter 2000: Train=1.1878384351730347 Dev=1.1845576763153076\n",
      "Iter 2100: Train=1.178285002708435 Dev=1.171675443649292\n",
      "Iter 2200: Train=1.167105793952942 Dev=1.159608006477356\n",
      "Iter 2300: Train=1.1481255292892456 Dev=1.1484934091567993\n",
      "Iter 2400: Train=1.1350430250167847 Dev=1.1378443241119385\n",
      "Iter 2500: Train=1.1064155101776123 Dev=1.1268879175186157\n",
      "Iter 2600: Train=1.1044148206710815 Dev=1.115664005279541\n",
      "Iter 2700: Train=1.1046448945999146 Dev=1.1039234399795532\n",
      "Iter 2800: Train=1.094704031944275 Dev=1.0918017625808716\n",
      "Iter 2900: Train=1.0866202116012573 Dev=1.0778989791870117\n",
      "Iter 3000: Train=1.0548053979873657 Dev=1.0642590522766113\n",
      "Iter 3100: Train=1.045771837234497 Dev=1.0514453649520874\n",
      "Iter 3200: Train=1.058264136314392 Dev=1.0378628969192505\n",
      "Iter 3300: Train=1.007519245147705 Dev=1.0241601467132568\n",
      "Iter 3400: Train=0.9944414496421814 Dev=1.009685754776001\n",
      "Iter 3500: Train=1.0002620220184326 Dev=0.9961428642272949\n",
      "Iter 3600: Train=0.9772279262542725 Dev=0.9814425706863403\n",
      "Iter 3700: Train=0.9619497656822205 Dev=0.9669790267944336\n",
      "Iter 3800: Train=0.9672819375991821 Dev=0.9526100158691406\n",
      "Iter 3900: Train=0.9233628511428833 Dev=0.9371296763420105\n",
      "Iter 4000: Train=0.9018688797950745 Dev=0.9222232103347778\n",
      "Iter 4100: Train=0.8772944211959839 Dev=0.90778648853302\n",
      "Iter 4200: Train=0.8726446628570557 Dev=0.893799364566803\n",
      "Iter 4300: Train=0.9053385853767395 Dev=0.8796486258506775\n",
      "Iter 4400: Train=0.8699153661727905 Dev=0.8657316565513611\n",
      "Iter 4500: Train=0.8372949957847595 Dev=0.8524465560913086\n",
      "Iter 4600: Train=0.8327572345733643 Dev=0.8386806845664978\n",
      "Iter 4700: Train=0.8332405686378479 Dev=0.8254018425941467\n",
      "Iter 4800: Train=0.8611021041870117 Dev=0.8124701380729675\n",
      "Iter 4900: Train=0.8220236897468567 Dev=0.8003441691398621\n",
      "Iter 5000: Train=0.8162365555763245 Dev=0.7890791296958923\n",
      "Iter 5100: Train=0.7895824909210205 Dev=0.7779198884963989\n",
      "Iter 5200: Train=0.7921326160430908 Dev=0.7669098973274231\n",
      "Iter 5300: Train=0.7591533660888672 Dev=0.7569071650505066\n",
      "Iter 5400: Train=0.7845838069915771 Dev=0.7468205690383911\n",
      "Iter 5500: Train=0.7150233387947083 Dev=0.7369003295898438\n",
      "Iter 5600: Train=0.7863781452178955 Dev=0.7274703979492188\n",
      "Iter 5700: Train=0.7487326860427856 Dev=0.7192765474319458\n",
      "Iter 5800: Train=0.724687933921814 Dev=0.7110141515731812\n",
      "Iter 5900: Train=0.7109588980674744 Dev=0.7033743858337402\n",
      "Iter 6000: Train=0.754737377166748 Dev=0.6954368352890015\n",
      "Iter 6100: Train=0.6762003302574158 Dev=0.6884198784828186\n",
      "Iter 6200: Train=0.6969326734542847 Dev=0.6816783547401428\n",
      "Iter 6300: Train=0.6923272609710693 Dev=0.6751907467842102\n",
      "Iter 6400: Train=0.6804593801498413 Dev=0.6687549948692322\n",
      "Iter 6500: Train=0.7147058844566345 Dev=0.6628212332725525\n",
      "Iter 6600: Train=0.6504219174385071 Dev=0.6570254564285278\n",
      "Iter 6700: Train=0.6626855134963989 Dev=0.6520023345947266\n",
      "Iter 6800: Train=0.6332848072052002 Dev=0.6466051340103149\n",
      "Iter 6900: Train=0.7302796840667725 Dev=0.6418876647949219\n",
      "Iter 7000: Train=0.6250587105751038 Dev=0.6371402740478516\n",
      "Iter 7100: Train=0.65830397605896 Dev=0.6321052312850952\n",
      "Iter 7200: Train=0.6905280947685242 Dev=0.6279690861701965\n",
      "Iter 7300: Train=0.6498348712921143 Dev=0.6240068674087524\n",
      "Iter 7400: Train=0.583992063999176 Dev=0.6203046441078186\n",
      "Iter 7500: Train=0.5993255376815796 Dev=0.6166121363639832\n",
      "Iter 7600: Train=0.5921651124954224 Dev=0.6118600964546204\n",
      "Iter 7700: Train=0.5507900714874268 Dev=0.6083388924598694\n",
      "Iter 7800: Train=0.6197175979614258 Dev=0.6054564714431763\n",
      "Iter 7900: Train=0.6358108520507812 Dev=0.6032458543777466\n",
      "Iter 8000: Train=0.5904605388641357 Dev=0.6000443696975708\n",
      "Iter 8100: Train=0.6108196377754211 Dev=0.5968564748764038\n",
      "Iter 8200: Train=0.5977025032043457 Dev=0.5933681130409241\n",
      "Iter 8300: Train=0.5983688235282898 Dev=0.5901815295219421\n",
      "Iter 8400: Train=0.5912935137748718 Dev=0.587094783782959\n",
      "Iter 8500: Train=0.5992774367332458 Dev=0.5838708281517029\n",
      "Iter 8600: Train=0.5488876700401306 Dev=0.5813642740249634\n",
      "Iter 8700: Train=0.6032312512397766 Dev=0.5793859958648682\n",
      "Iter 8800: Train=0.606094241142273 Dev=0.5767444968223572\n",
      "Iter 8900: Train=0.6077404022216797 Dev=0.5737561583518982\n",
      "Iter 9000: Train=0.5862224698066711 Dev=0.5715927481651306\n",
      "Iter 9100: Train=0.6015833616256714 Dev=0.5689101815223694\n",
      "Iter 9200: Train=0.595128059387207 Dev=0.5660495162010193\n",
      "Iter 9300: Train=0.5776562690734863 Dev=0.5640565156936646\n",
      "Iter 9400: Train=0.5565475821495056 Dev=0.5619150996208191\n",
      "Iter 9500: Train=0.5151218771934509 Dev=0.5592479705810547\n",
      "Iter 9600: Train=0.5894159078598022 Dev=0.5564915537834167\n",
      "Iter 9700: Train=0.600590705871582 Dev=0.5549141764640808\n",
      "Iter 9800: Train=0.5319713950157166 Dev=0.5526649951934814\n",
      "Iter 9900: Train=0.5738842487335205 Dev=0.5502248406410217\n",
      "Iter 10000: Train=0.5336291790008545 Dev=0.5476976037025452\n"
     ]
    }
   ],
   "source": [
    "n_iter=10000\n",
    "show_step = 100\n",
    "\n",
    "# 結果格納用変数\n",
    "iters = []\n",
    "train_loss = []\n",
    "dev_loss = []\n",
    "\n",
    "# モデルとoptimizerを作り直しておきましょう。\n",
    "model = Model()\n",
    "optimizer=SGD()\n",
    "optimizer.setup(model)\n",
    "\n",
    "# 初期状態での性能を測定しましょう。\n",
    "iters.append(0)\n",
    "train_loss.append(eval_one(model, train_X_scale, train_Y))\n",
    "dev_loss.append(eval_one(model, dev_X_scale, dev_Y))\n",
    "\n",
    "# 学習の反復\n",
    "for i in range(n_iter):\n",
    "    diff = iter_one(model, optimizer)\n",
    "    \n",
    "    if (i + 1) % show_step == 0:\n",
    "        # 中間性能測定\n",
    "        diff_dev = eval_one(model, dev_X_scale, dev_Y)\n",
    "        print(\"Iter {}: Train={} Dev={}\".format(i + 1, diff, diff_dev))\n",
    "        iters.append(i + 1)\n",
    "        train_loss.append(diff)\n",
    "        dev_loss.append(diff_dev)"
   ]
  },
  {
   "cell_type": "markdown",
   "metadata": {},
   "source": [
    "結果をグラフで確認しましょう。"
   ]
  },
  {
   "cell_type": "code",
   "execution_count": 47,
   "metadata": {},
   "outputs": [
    {
     "data": {
      "image/png": "[encoded data removed]",
      "text/plain": [
       "<matplotlib.figure.Figure at 0x1ece3f66358>"
      ]
     },
     "metadata": {},
     "output_type": "display_data"
    }
   ],
   "source": [
    "df = pd.DataFrame(dict(train=np.array(train_loss), dev=np.array(dev_loss)), index=iters).plot()"
   ]
  },
  {
   "cell_type": "markdown",
   "metadata": {},
   "source": [
    "反復のたびにlossの値が少しずつ下がっていっているのがわかりますね。学習データと、開発データが同時に同じように下がっていますので、学習は成功したようです。"
   ]
  },
  {
   "cell_type": "markdown",
   "metadata": {},
   "source": [
    "## 精度を計算する"
   ]
  },
  {
   "cell_type": "markdown",
   "metadata": {},
   "source": [
    "それでは学習したモデルを使って実際に精度を計算してみましょう。"
   ]
  },
  {
   "cell_type": "markdown",
   "metadata": {},
   "source": [
    "テストデータをモデルに与えます。"
   ]
  },
  {
   "cell_type": "code",
   "execution_count": 48,
   "metadata": {
    "collapsed": true
   },
   "outputs": [],
   "source": [
    "with configuration.using_config('train', False):\n",
    "    y = model(test_X_scale)"
   ]
  },
  {
   "cell_type": "markdown",
   "metadata": {},
   "source": [
    "各データに対して6次元の結果が帰ってきていますので、そのうち値が最大となった次元を求めます。"
   ]
  },
  {
   "cell_type": "code",
   "execution_count": 49,
   "metadata": {
    "collapsed": true
   },
   "outputs": [],
   "source": [
    "pred = np.argmax(y.data, axis=1)"
   ]
  },
  {
   "cell_type": "code",
   "execution_count": 50,
   "metadata": {
    "collapsed": true
   },
   "outputs": [],
   "source": [
    "from sklearn.metrics import classification_report"
   ]
  },
  {
   "cell_type": "markdown",
   "metadata": {},
   "source": [
    "RecallとPrecisionを見てみましょう。"
   ]
  },
  {
   "cell_type": "code",
   "execution_count": 51,
   "metadata": {},
   "outputs": [
    {
     "name": "stdout",
     "output_type": "stream",
     "text": [
      "             precision    recall  f1-score   support\n",
      "\n",
      "          0       0.55      0.99      0.71       496\n",
      "          1       0.62      0.04      0.08       491\n",
      "          2       0.53      0.98      0.69       532\n",
      "          3       0.93      0.93      0.93       471\n",
      "          4       0.99      0.99      0.99       537\n",
      "          5       0.69      0.03      0.05       420\n",
      "\n",
      "avg / total       0.72      0.69      0.59      2947\n",
      "\n"
     ]
    }
   ],
   "source": [
    "print(classification_report(test_Y, pred))"
   ]
  },
  {
   "cell_type": "markdown",
   "metadata": {},
   "source": [
    "かなり偏りがありますね。実際にどう間違えたのかconfusion matrixで見てみましょう。"
   ]
  },
  {
   "cell_type": "code",
   "execution_count": 52,
   "metadata": {},
   "outputs": [
    {
     "data": {
      "text/html": [
       "<div>\n",
       "<style>\n",
       "    .dataframe thead tr:only-child th {\n",
       "        text-align: right;\n",
       "    }\n",
       "\n",
       "    .dataframe thead th {\n",
       "        text-align: left;\n",
       "    }\n",
       "\n",
       "    .dataframe tbody tr th {\n",
       "        vertical-align: top;\n",
       "    }\n",
       "</style>\n",
       "<table border=\"1\" class=\"dataframe\">\n",
       "  <thead>\n",
       "    <tr style=\"text-align: right;\">\n",
       "      <th>col_0</th>\n",
       "      <th>0</th>\n",
       "      <th>1</th>\n",
       "      <th>2</th>\n",
       "      <th>3</th>\n",
       "      <th>4</th>\n",
       "      <th>5</th>\n",
       "    </tr>\n",
       "    <tr>\n",
       "      <th>row_0</th>\n",
       "      <th></th>\n",
       "      <th></th>\n",
       "      <th></th>\n",
       "      <th></th>\n",
       "      <th></th>\n",
       "      <th></th>\n",
       "    </tr>\n",
       "  </thead>\n",
       "  <tbody>\n",
       "    <tr>\n",
       "      <th>0</th>\n",
       "      <td>493</td>\n",
       "      <td>0</td>\n",
       "      <td>0</td>\n",
       "      <td>2</td>\n",
       "      <td>0</td>\n",
       "      <td>1</td>\n",
       "    </tr>\n",
       "    <tr>\n",
       "      <th>1</th>\n",
       "      <td>0</td>\n",
       "      <td>20</td>\n",
       "      <td>467</td>\n",
       "      <td>1</td>\n",
       "      <td>3</td>\n",
       "      <td>0</td>\n",
       "    </tr>\n",
       "    <tr>\n",
       "      <th>2</th>\n",
       "      <td>0</td>\n",
       "      <td>9</td>\n",
       "      <td>523</td>\n",
       "      <td>0</td>\n",
       "      <td>0</td>\n",
       "      <td>0</td>\n",
       "    </tr>\n",
       "    <tr>\n",
       "      <th>3</th>\n",
       "      <td>27</td>\n",
       "      <td>0</td>\n",
       "      <td>0</td>\n",
       "      <td>440</td>\n",
       "      <td>0</td>\n",
       "      <td>4</td>\n",
       "    </tr>\n",
       "    <tr>\n",
       "      <th>4</th>\n",
       "      <td>0</td>\n",
       "      <td>3</td>\n",
       "      <td>0</td>\n",
       "      <td>0</td>\n",
       "      <td>534</td>\n",
       "      <td>0</td>\n",
       "    </tr>\n",
       "    <tr>\n",
       "      <th>5</th>\n",
       "      <td>380</td>\n",
       "      <td>0</td>\n",
       "      <td>0</td>\n",
       "      <td>29</td>\n",
       "      <td>0</td>\n",
       "      <td>11</td>\n",
       "    </tr>\n",
       "  </tbody>\n",
       "</table>\n",
       "</div>"
      ],
      "text/plain": [
       "col_0    0   1    2    3    4   5\n",
       "row_0                            \n",
       "0      493   0    0    2    0   1\n",
       "1        0  20  467    1    3   0\n",
       "2        0   9  523    0    0   0\n",
       "3       27   0    0  440    0   4\n",
       "4        0   3    0    0  534   0\n",
       "5      380   0    0   29    0  11"
      ]
     },
     "execution_count": 52,
     "metadata": {},
     "output_type": "execute_result"
    }
   ],
   "source": [
    "pd.crosstab(test_Y, pred)"
   ]
  },
  {
   "cell_type": "markdown",
   "metadata": {},
   "source": [
    "# 演習"
   ]
  },
  {
   "cell_type": "markdown",
   "metadata": {},
   "source": [
    "レイヤーの数やアクティベーション関数などを変えてみて、性能がどのように変わるか検証してみましょう。"
   ]
  },
  {
   "cell_type": "markdown",
   "metadata": {},
   "source": [
    "## 参考資料"
   ]
  },
  {
   "cell_type": "markdown",
   "metadata": {},
   "source": [
    "https://docs.chainer.org/en/stable/tutorial/basic.html"
   ]
  }
 ],
 "metadata": {
  "kernelspec": {
   "display_name": "Python 3",
   "language": "python",
   "name": "python3"
  },
  "language_info": {
   "codemirror_mode": {
    "name": "ipython",
    "version": 3
   },
   "file_extension": ".py",
   "mimetype": "text/x-python",
   "name": "python",
   "nbconvert_exporter": "python",
   "pygments_lexer": "ipython3",
   "version": "3.6.1"
  }
 },
 "nbformat": 4,
 "nbformat_minor": 2
}
