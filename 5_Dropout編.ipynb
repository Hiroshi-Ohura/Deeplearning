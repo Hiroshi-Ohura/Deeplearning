{
 "cells": [
  {
   "cell_type": "code",
   "execution_count": 1,
   "metadata": {
    "collapsed": true
   },
   "outputs": [],
   "source": [
    "%matplotlib inline\n",
    "%load_ext autoreload\n",
    "%autoreload 2"
   ]
  },
  {
   "cell_type": "code",
   "execution_count": 2,
   "metadata": {
    "collapsed": true
   },
   "outputs": [],
   "source": [
    "import numpy as np\n",
    "import pandas as pd\n",
    "np.random.seed(151)"
   ]
  },
  {
   "cell_type": "code",
   "execution_count": 3,
   "metadata": {
    "collapsed": true
   },
   "outputs": [],
   "source": [
    "from sklearn.preprocessing import StandardScaler"
   ]
  },
  {
   "cell_type": "code",
   "execution_count": 4,
   "metadata": {
    "collapsed": true
   },
   "outputs": [],
   "source": [
    "from chainer import Chain, Variable\n",
    "import chainer.links as L\n",
    "import chainer.functions as F\n",
    "from chainer.optimizers import SGD\n",
    "from chainer.datasets import TupleDataset\n",
    "from chainer.iterators import SerialIterator\n",
    "from chainer.training import StandardUpdater, Trainer\n",
    "from chainer.training.extensions import PrintReport, LogReport, Evaluator"
   ]
  },
  {
   "cell_type": "markdown",
   "metadata": {},
   "source": [
    "# Deep Learningドリル - Dropout編 -"
   ]
  },
  {
   "cell_type": "markdown",
   "metadata": {},
   "source": [
    "この章では、Dropoutについて学びます。\n",
    "\n",
    "まず、従来の深いニューラルネットワークの学習が難しいものであると言うことを体感して頂き、それを解決するための方法(Dropout)について学びます。"
   ]
  },
  {
   "cell_type": "markdown",
   "metadata": {},
   "source": [
    "例題は今までと同じものです。さあ、始めましょう！！"
   ]
  },
  {
   "cell_type": "markdown",
   "metadata": {},
   "source": [
    "## 例題（再掲）"
   ]
  },
  {
   "cell_type": "markdown",
   "metadata": {},
   "source": [
    "あなたの務める会社では、スマートフォンを使った高齢者見守りアプリの開発を進めています。\n",
    "\n",
    "スマートフォンには様々なセンサーが付いているため、これらの情報を使って、高齢者のより詳細な行動を取得するプロジェクトが開始されました。\n",
    "\n",
    "センサーの情報から、「寝ている」「座った」「立ち上がった」「歩いた」「登った」「降った」の6カテゴリに分類するモデルを学習してください。"
   ]
  },
  {
   "cell_type": "markdown",
   "metadata": {},
   "source": [
    "## 方針"
   ]
  },
  {
   "cell_type": "markdown",
   "metadata": {},
   "source": [
    "今までは簡単なネットワークでしたが、今回はもっと深いネットワークに挑戦してみましょう。"
   ]
  },
  {
   "cell_type": "code",
   "execution_count": 5,
   "metadata": {
    "collapsed": true
   },
   "outputs": [],
   "source": [
    "class Model(Chain):\n",
    "    def __init__(self):\n",
    "        super(Model, self).__init__()\n",
    "        with self.init_scope():\n",
    "            self.l1 = L.Linear(561, 200)\n",
    "            self.l2 = L.Linear(200, 100)\n",
    "            self.l3 = L.Linear(100, 70)\n",
    "            self.l4 = L.Linear(70, 50)\n",
    "            self.l5 = L.Linear(50, 30)\n",
    "            self.l6 = L.Linear(30, 20)\n",
    "            self.l7 = L.Linear(20, 10)\n",
    "            self.l8 = L.Linear(10, 6)\n",
    "    \n",
    "    def __call__(self, x):\n",
    "        h = F.sigmoid(self.l1(x))\n",
    "        h = F.sigmoid(self.l2(h))\n",
    "        h = F.sigmoid(self.l3(h))\n",
    "        h = F.sigmoid(self.l4(h))\n",
    "        h = F.sigmoid(self.l5(h))\n",
    "        h = F.sigmoid(self.l6(h))\n",
    "        h = F.sigmoid(self.l7(h))\n",
    "        return self.l8(h)"
   ]
  },
  {
   "cell_type": "markdown",
   "metadata": {},
   "source": [
    "層の数が変わっただけでそのほかは今までと変わりません。一気に学習までやってしまいましょう。"
   ]
  },
  {
   "cell_type": "code",
   "execution_count": 6,
   "metadata": {
    "collapsed": true
   },
   "outputs": [],
   "source": [
    "# データ読み込み\n",
    "train = pd.read_csv(\"data/train.csv\")\n",
    "dev = pd.read_csv(\"data/dev.csv\")\n",
    "test = pd.read_csv(\"data/test.csv\")\n",
    "\n",
    "# 前処理\n",
    "activity_type = train[\"Activity\"].unique()\n",
    "activity_to_id = dict(zip(activity_type, np.arange(activity_type.shape[0])))\n",
    "\n",
    "train_X = train.drop([\"subject\", \"Activity\"], axis=1)\n",
    "train_Y = train[\"Activity\"].map(lambda x: activity_to_id[x])\n",
    "\n",
    "dev_X = dev.drop([\"subject\", \"Activity\"], axis=1)\n",
    "dev_Y = dev[\"Activity\"].map(lambda x: activity_to_id[x])\n",
    "\n",
    "test_X = test.drop([\"subject\", \"Activity\"], axis=1)\n",
    "test_Y = test[\"Activity\"].map(lambda x: activity_to_id[x])\n",
    "\n",
    "scaler = StandardScaler()\n",
    "\n",
    "train_X_scale = scaler.fit_transform(train_X).astype(np.float32)\n",
    "dev_X_scale = scaler.transform(dev_X).astype(np.float32)\n",
    "test_X_scale = scaler.transform(test_X).astype(np.float32)\n",
    "train_Y = train_Y.values.astype(np.int32)\n",
    "dev_Y = dev_Y.values.astype(np.int32)\n",
    "test_Y = test_Y.values.astype(np.int32)"
   ]
  },
  {
   "cell_type": "code",
   "execution_count": 7,
   "metadata": {
    "collapsed": true
   },
   "outputs": [],
   "source": [
    "train_dataset = TupleDataset(train_X_scale, train_Y)\n",
    "dev_dataset = TupleDataset(dev_X_scale, dev_Y)\n",
    "test_dataset = TupleDataset(test_X_scale, test_Y)\n",
    "train_iterator = SerialIterator(train_dataset, batch_size=100, repeat=True)\n",
    "dev_iterator = SerialIterator(dev_dataset, batch_size=100, shuffle=False, repeat=False)\n",
    "test_iterator = SerialIterator(test_dataset, batch_size=100, shuffle=False, repeat=False)"
   ]
  },
  {
   "cell_type": "code",
   "execution_count": 8,
   "metadata": {},
   "outputs": [
    {
     "name": "stdout",
     "output_type": "stream",
     "text": [
      "iteration   main/loss   validation/main/loss\n",
      "100         1.82805     1.78766               \n",
      "200         1.79794     1.78093               \n",
      "300         1.78692     1.78088               \n",
      "400         1.78512     1.78221               \n",
      "500         1.7843      1.78232               \n",
      "600         1.78444     1.78292               \n",
      "700         1.78321     1.78319               \n",
      "800         1.78519     1.78387               \n",
      "900         1.78343     1.78357               \n",
      "1000        1.78406     1.78372               \n",
      "1100        1.78475     1.78382               \n",
      "1200        1.78312     1.78365               \n",
      "1300        1.78556     1.78381               \n",
      "1400        1.78379     1.7836                \n",
      "1500        1.7831      1.78356               \n",
      "1600        1.78423     1.78388               \n",
      "1700        1.78376     1.7831                \n",
      "1800        1.78381     1.78346               \n",
      "1900        1.78462     1.78349               \n",
      "2000        1.78273     1.78336               \n",
      "2100        1.78418     1.78366               \n",
      "2200        1.78434     1.7834                \n",
      "2300        1.78425     1.78313               \n",
      "2400        1.78259     1.78347               \n",
      "2500        1.78556     1.78356               \n",
      "2600        1.78456     1.78369               \n",
      "2700        1.78268     1.78407               \n",
      "2800        1.78394     1.78442               \n",
      "2900        1.78442     1.78334               \n",
      "3000        1.78373     1.78408               \n",
      "3100        1.78434     1.78394               \n",
      "3200        1.78428     1.78386               \n",
      "3300        1.78412     1.78369               \n",
      "3400        1.78424     1.7835                \n",
      "3500        1.78332     1.78352               \n",
      "3600        1.78427     1.78454               \n",
      "3700        1.78402     1.78321               \n",
      "3800        1.78292     1.7838                \n",
      "3900        1.78475     1.78352               \n",
      "4000        1.78522     1.78344               \n",
      "4100        1.78285     1.7833                \n",
      "4200        1.78393     1.78345               \n",
      "4300        1.78393     1.78362               \n",
      "4400        1.78378     1.78315               \n",
      "4500        1.78429     1.78354               \n",
      "4600        1.78384     1.78365               \n",
      "4700        1.78395     1.78354               \n",
      "4800        1.78338     1.78318               \n",
      "4900        1.78427     1.7832                \n",
      "5000        1.7841      1.78384               \n",
      "5100        1.78475     1.78307               \n",
      "5200        1.78408     1.78327               \n",
      "5300        1.78414     1.78387               \n",
      "5400        1.7831      1.78348               \n",
      "5500        1.78434     1.78345               \n",
      "5600        1.78394     1.78363               \n",
      "5700        1.78457     1.78377               \n",
      "5800        1.7831      1.7831                \n",
      "5900        1.78424     1.78341               \n",
      "6000        1.78416     1.78378               \n",
      "6100        1.78373     1.78296               \n",
      "6200        1.78423     1.78391               \n",
      "6300        1.78368     1.78386               \n",
      "6400        1.7843      1.78374               \n",
      "6500        1.78353     1.78336               \n",
      "6600        1.78432     1.78331               \n",
      "6700        1.78355     1.78325               \n",
      "6800        1.78351     1.78319               \n",
      "6900        1.7845      1.78266               \n",
      "7000        1.7847      1.78405               \n",
      "7100        1.78354     1.78384               \n",
      "7200        1.78439     1.78367               \n",
      "7300        1.78374     1.78384               \n",
      "7400        1.78382     1.78359               \n",
      "7500        1.78371     1.78326               \n",
      "7600        1.78447     1.7833                \n",
      "7700        1.78474     1.7845                \n",
      "7800        1.78336     1.78328               \n",
      "7900        1.78466     1.78333               \n",
      "8000        1.7833      1.78341               \n",
      "8100        1.78487     1.78409               \n",
      "8200        1.78323     1.78345               \n",
      "8300        1.78381     1.78303               \n",
      "8400        1.78421     1.7836                \n",
      "8500        1.78395     1.78378               \n",
      "8600        1.78396     1.78345               \n",
      "8700        1.78361     1.78297               \n",
      "8800        1.78434     1.78375               \n",
      "8900        1.78347     1.78385               \n",
      "9000        1.78461     1.78333               \n",
      "9100        1.78411     1.78348               \n",
      "9200        1.78396     1.78379               \n",
      "9300        1.78426     1.7834                \n",
      "9400        1.78394     1.78361               \n",
      "9500        1.78399     1.78296               \n",
      "9600        1.7837      1.78321               \n",
      "9700        1.7846      1.78373               \n",
      "9800        1.78354     1.78323               \n",
      "9900        1.78372     1.78334               \n"
     ]
    }
   ],
   "source": [
    "model = Model()\n",
    "classifier = L.Classifier(model)\n",
    "optimizer = SGD()\n",
    "optimizer.setup(classifier)\n",
    "updater = StandardUpdater(train_iterator, optimizer, loss_func=classifier)\n",
    "trainer = Trainer(updater, (10000, 'iteration'))\n",
    "trainer.extend(Evaluator(dev_iterator, classifier), trigger=(100, 'iteration'))\n",
    "trainer.extend(PrintReport(['iteration', \"main/loss\", \"validation/main/loss\"]))\n",
    "logreport = LogReport(trigger=(100, 'iteration'))\n",
    "trainer.extend(logreport)\n",
    "trainer.run()"
   ]
  },
  {
   "cell_type": "code",
   "execution_count": 9,
   "metadata": {},
   "outputs": [
    {
     "data": {
      "text/plain": [
       "<matplotlib.axes._subplots.AxesSubplot at 0x2132fe638d0>"
      ]
     },
     "execution_count": 9,
     "metadata": {},
     "output_type": "execute_result"
    },
    {
     "data": {
      "image/png": "[encoded data removed]",
      "text/plain": [
       "<matplotlib.figure.Figure at 0x2132fe69f98>"
      ]
     },
     "metadata": {},
     "output_type": "display_data"
    }
   ],
   "source": [
    "log_df = pd.DataFrame(logreport.log)\n",
    "pd.DataFrame(log_df[[\"main/loss\", \"validation/main/loss\"]].values, columns=[\"main/loss\", \"validation/main/loss\"], index=log_df[\"iteration\"]).plot()"
   ]
  },
  {
   "cell_type": "markdown",
   "metadata": {},
   "source": [
    "なんと学習が一歩も進みませんでしたね。これでは使い物になりません。（そしてこういったことは大変よくあることです。）\n",
    "\n",
    "学習の初期段階で少しlossが下がりましたが、その後は横ばいになってしまいましたね。もし、lossが変わらないのがパラメータの変化が止まってしまった空であると仮定すると、その理由は勾配が消失したと考えるのが妥当でしょう。従って、アクティベーション関数を、勾配が消失しないreluに切り替えてみましょう。"
   ]
  },
  {
   "cell_type": "code",
   "execution_count": 10,
   "metadata": {
    "collapsed": true
   },
   "outputs": [],
   "source": [
    "class ModelReLu(Chain):\n",
    "    def __init__(self):\n",
    "        super(ModelReLu, self).__init__()\n",
    "        with self.init_scope():\n",
    "            self.l1 = L.Linear(561, 200)\n",
    "            self.l2 = L.Linear(200, 100)\n",
    "            self.l3 = L.Linear(100, 70)\n",
    "            self.l4 = L.Linear(70, 50)\n",
    "            self.l5 = L.Linear(50, 30)\n",
    "            self.l6 = L.Linear(30, 20)\n",
    "            self.l7 = L.Linear(20, 10)\n",
    "            self.l8 = L.Linear(10, 6)\n",
    "    \n",
    "    def __call__(self, x):\n",
    "        h = F.relu(self.l1(x))\n",
    "        h = F.relu(self.l2(h))\n",
    "        h = F.relu(self.l3(h))\n",
    "        h = F.relu(self.l4(h))\n",
    "        h = F.relu(self.l5(h))\n",
    "        h = F.relu(self.l6(h))\n",
    "        h = F.relu(self.l7(h))\n",
    "        return self.l8(h)"
   ]
  },
  {
   "cell_type": "code",
   "execution_count": 11,
   "metadata": {},
   "outputs": [
    {
     "name": "stdout",
     "output_type": "stream",
     "text": [
      "iteration   main/loss   validation/main/loss\n",
      "100         1.76932     1.72069               \n",
      "200         1.60971     1.37849               \n",
      "300         1.18694     0.949245              \n",
      "400         0.842584    0.697973              \n",
      "500         0.574195    0.441145              \n",
      "600         0.375721    0.280488              \n",
      "700         0.245133    0.236545              \n",
      "800         0.181014    0.138029              \n",
      "900         0.143047    0.130265              \n",
      "1000        0.11306     0.0996587             \n",
      "1100        0.0882865   0.19565               \n",
      "1200        0.0943835   0.120573              \n",
      "1300        0.0699356   0.0785371             \n",
      "1400        0.0656718   0.0765875             \n",
      "1500        0.0679164   0.0806214             \n",
      "1600        0.0569625   0.0754222             \n",
      "1700        0.058968    0.0690418             \n",
      "1800        0.0405857   0.0902837             \n",
      "1900        0.0363052   0.0692604             \n",
      "2000        0.0432907   0.0714142             \n",
      "2100        0.0334415   0.0657417             \n",
      "2200        0.0292829   0.0652123             \n",
      "2300        0.0517808   0.0656798             \n",
      "2400        0.0284302   0.0694071             \n",
      "2500        0.0281564   0.0600961             \n",
      "2600        0.0296573   0.0656083             \n",
      "2700        0.0217897   0.0640284             \n",
      "2800        0.0216043   0.0652296             \n",
      "2900        0.0281338   0.0619929             \n",
      "3000        0.018485    0.0780383             \n",
      "3100        0.0168126   0.0710244             \n",
      "3200        0.0213018   0.061467              \n",
      "3300        0.0164862   0.0654821             \n",
      "3400        0.0408058   0.0665978             \n",
      "3500        0.0135067   0.0560884             \n",
      "3600        0.0118433   0.0928117             \n",
      "3700        0.0144203   0.0590014             \n",
      "3800        0.0231414   0.0564722             \n",
      "3900        0.0154522   0.0565543             \n",
      "4000        0.0358719   0.0601734             \n",
      "4100        0.0106868   0.0625138             \n",
      "4200        0.00875999  0.0654366             \n",
      "4300        0.00850587  0.0551708             \n",
      "4400        0.0134155   0.0558727             \n",
      "4500        0.00730281  0.0641638             \n",
      "4600        0.00623845  0.0617644             \n",
      "4700        0.00527291  0.0692136             \n",
      "4800        0.00452709  0.0670929             \n",
      "4900        0.0049318   0.0827302             \n",
      "5000        0.0190558   0.0690117             \n",
      "5100        0.00341018  0.0640524             \n",
      "5200        0.00776512  0.0688282             \n",
      "5300        0.00265265  0.0656447             \n",
      "5400        0.00221756  0.0734114             \n",
      "5500        0.00226085  0.0740921             \n",
      "5600        0.00195676  0.0693189             \n",
      "5700        0.00173335  0.0669032             \n",
      "5800        0.0016653   0.0719508             \n",
      "5900        0.00143881  0.0694197             \n",
      "6000        0.00122829  0.0727796             \n",
      "6100        0.0013747   0.0715535             \n",
      "6200        0.00112104  0.0706152             \n",
      "6300        0.00106668  0.0701019             \n",
      "6400        0.00106225  0.0730117             \n",
      "6500        0.000983001  0.074085              \n",
      "6600        0.000930397  0.0728342             \n",
      "6700        0.000909208  0.0766259             \n",
      "6800        0.000900902  0.0741956             \n",
      "6900        0.000792755  0.0736784             \n",
      "7000        0.000828513  0.076151              \n",
      "7100        0.000732272  0.0791736             \n",
      "7200        0.000767334  0.0775344             \n",
      "7300        0.000686715  0.0774023             \n",
      "7400        0.000684713  0.080233              \n",
      "7500        0.000652387  0.0793579             \n",
      "7600        0.000613295  0.0802251             \n",
      "7700        0.000613916  0.0782145             \n",
      "7800        0.000569679  0.0773344             \n",
      "7900        0.000569288  0.0805853             \n",
      "8000        0.000546964  0.0815139             \n",
      "8100        0.000522802  0.0798676             \n",
      "8200        0.000507348  0.0798981             \n",
      "8300        0.000496035  0.081237              \n",
      "8400        0.000478635  0.0826335             \n",
      "8500        0.000489909  0.0828962             \n",
      "8600        0.000447259  0.0826927             \n",
      "8700        0.00043081  0.0820326             \n",
      "8800        0.000443101  0.0824271             \n",
      "8900        0.000431027  0.0845125             \n",
      "9000        0.000398659  0.0832594             \n",
      "9100        0.000393863  0.0823784             \n",
      "9200        0.000400018  0.0831229             \n",
      "9300        0.000368528  0.085363              \n",
      "9400        0.000391011  0.0860625             \n",
      "9500        0.000362212  0.083682              \n",
      "9600        0.000351961  0.0847606             \n",
      "9700        0.00033978  0.0855121             \n",
      "9800        0.000344152  0.0855715             \n",
      "9900        0.000327896  0.0858515             \n"
     ]
    }
   ],
   "source": [
    "model = ModelReLu()\n",
    "classifier = L.Classifier(model)\n",
    "optimizer = SGD()\n",
    "optimizer.setup(classifier)\n",
    "updater = StandardUpdater(train_iterator, optimizer, loss_func=classifier)\n",
    "trainer = Trainer(updater, (10000, 'iteration'))\n",
    "trainer.extend(Evaluator(dev_iterator, classifier), trigger=(100, 'iteration'))\n",
    "trainer.extend(PrintReport(['iteration', \"main/loss\", \"validation/main/loss\"]))\n",
    "\n",
    "logreport = LogReport(trigger=(100, 'iteration'))\n",
    "trainer.extend(logreport)\n",
    "trainer.run()"
   ]
  },
  {
   "cell_type": "code",
   "execution_count": 12,
   "metadata": {},
   "outputs": [
    {
     "data": {
      "text/plain": [
       "<matplotlib.axes._subplots.AxesSubplot at 0x21330eac898>"
      ]
     },
     "execution_count": 12,
     "metadata": {},
     "output_type": "execute_result"
    },
    {
     "data": {
      "image/png": "[encoded data removed]",
      "text/plain": [
       "<matplotlib.figure.Figure at 0x213314965f8>"
      ]
     },
     "metadata": {},
     "output_type": "display_data"
    }
   ],
   "source": [
    "log_df = pd.DataFrame(logreport.log)\n",
    "pd.DataFrame(log_df[[\"main/loss\", \"validation/main/loss\"]].values, columns=[\"main/loss\", \"validation/main/loss\"], index=log_df[\"iteration\"]).plot()"
   ]
  },
  {
   "cell_type": "markdown",
   "metadata": {},
   "source": [
    "無事、うまく学習できましたが、よく見ると開発データに対するlossの値が反復のたびに悪化してしまっています。これでは未知のデータに対応できません。"
   ]
  },
  {
   "cell_type": "markdown",
   "metadata": {},
   "source": [
    "この現象をなんと言ったか覚えていますか？\n",
    "\n",
    "そう、過学習(overfitting)ですね。モデルが学習データに対して過度にチューニングされてしまうことにより、未知のデータに対しておかしな結果を返してしまう現象です。"
   ]
  },
  {
   "cell_type": "markdown",
   "metadata": {},
   "source": [
    "## Dropout"
   ]
  },
  {
   "cell_type": "markdown",
   "metadata": {},
   "source": [
    "さあ、いよいよこの章の本題です。学習データに対するlossの値は順調に下がりましたが、開発データに対するlossが悪化してしまいました。こういった過学習に抗う手段はいくつか提案されていますが、その中で最もシンプル・簡単かつ強力な方法がDropoutです。"
   ]
  },
  {
   "cell_type": "markdown",
   "metadata": {},
   "source": [
    "chainerではこのDropoutもFunctionとして用意されています。手法の詳細は後で解説しますのでとりあえず使ってみましょう。"
   ]
  },
  {
   "cell_type": "code",
   "execution_count": 13,
   "metadata": {
    "collapsed": true
   },
   "outputs": [],
   "source": [
    "class ModelDropout(Chain):\n",
    "    def __init__(self):\n",
    "        super(ModelDropout, self).__init__()\n",
    "        with self.init_scope():\n",
    "            self.l1 = L.Linear(561, 200)\n",
    "            self.l2 = L.Linear(200, 100)\n",
    "            self.l3 = L.Linear(100, 70)\n",
    "            self.l4 = L.Linear(70, 50)\n",
    "            self.l5 = L.Linear(50, 30)\n",
    "            self.l6 = L.Linear(30, 20)\n",
    "            self.l7 = L.Linear(20, 10)\n",
    "            self.l8 = L.Linear(10, 6)\n",
    "    \n",
    "    def __call__(self, x):\n",
    "        h = F.relu(self.l1(x))\n",
    "        h = F.dropout(h, ratio=0.3)\n",
    "        h = F.relu(self.l2(h))\n",
    "        h = F.dropout(h, ratio=0.3)\n",
    "        h = F.relu(self.l3(h))\n",
    "        h = F.dropout(h, ratio=0.3)\n",
    "        h = F.relu(self.l4(h))\n",
    "        h = F.dropout(h, ratio=0.3)\n",
    "        h = F.relu(self.l5(h))\n",
    "        h = F.dropout(h, ratio=0.3)\n",
    "        h = F.relu(self.l6(h))\n",
    "        h = F.dropout(h, ratio=0.3)\n",
    "        h = F.relu(self.l7(h))\n",
    "        h = F.dropout(h, ratio=0.3)\n",
    "        return self.l8(h)"
   ]
  },
  {
   "cell_type": "markdown",
   "metadata": {},
   "source": [
    "使い方は簡単で、層の間にdropoutを挟み込むだけです。"
   ]
  },
  {
   "cell_type": "code",
   "execution_count": 14,
   "metadata": {},
   "outputs": [
    {
     "name": "stdout",
     "output_type": "stream",
     "text": [
      "iteration   main/loss   validation/main/loss\n",
      "100         1.80135     1.77291               \n",
      "200         1.78137     1.75421               \n",
      "300         1.75579     1.70157               \n",
      "400         1.7096      1.60149               \n",
      "500         1.63546     1.48791               \n",
      "600         1.57356     1.42183               \n",
      "700         1.52078     1.37633               \n",
      "800         1.46498     1.33846               \n",
      "900         1.41779     1.31382               \n",
      "1000        1.37773     1.29191               \n",
      "1100        1.34059     1.26728               \n",
      "1200        1.31606     1.24686               \n",
      "1300        1.28751     1.22207               \n",
      "1400        1.25609     1.19122               \n",
      "1500        1.22993     1.15619               \n",
      "1600        1.20707     1.08632               \n",
      "1700        1.17099     1.03609               \n",
      "1800        1.14674     0.997496              \n",
      "1900        1.12733     0.962699              \n",
      "2000        1.09613     0.936839              \n",
      "2100        1.06976     0.892765              \n",
      "2200        1.05764     0.860603              \n",
      "2300        1.02902     0.838186              \n",
      "2400        1.01682     0.808432              \n",
      "2500        0.99743     0.78783               \n",
      "2600        0.97437     0.772673              \n",
      "2700        0.967215    0.754814              \n",
      "2800        0.942121    0.750162              \n",
      "2900        0.919959    0.764605              \n",
      "3000        0.920346    0.714512              \n",
      "3100        0.895877    0.700821              \n",
      "3200        0.884733    0.754442              \n",
      "3300        0.870988    0.697312              \n",
      "3400        0.855341    0.674141              \n",
      "3500        0.837441    0.661116              \n",
      "3600        0.82373     0.644544              \n",
      "3700        0.827792    0.659968              \n",
      "3800        0.807731    0.640507              \n",
      "3900        0.787785    0.608662              \n",
      "4000        0.782175    0.597942              \n",
      "4100        0.770845    0.589778              \n",
      "4200        0.7642      0.581818              \n",
      "4300        0.754495    0.57843               \n",
      "4400        0.745419    0.563807              \n",
      "4500        0.725038    0.559956              \n",
      "4600        0.726623    0.563169              \n",
      "4700        0.716127    0.547858              \n",
      "4800        0.711895    0.538721              \n",
      "4900        0.680371    0.557026              \n",
      "5000        0.687203    0.539313              \n",
      "5100        0.682545    0.532887              \n",
      "5200        0.6673      0.535531              \n",
      "5300        0.673421    0.519637              \n",
      "5400        0.654091    0.518482              \n",
      "5500        0.644897    0.510687              \n",
      "5600        0.643959    0.514994              \n",
      "5700        0.647399    0.505949              \n",
      "5800        0.63337     0.512163              \n",
      "5900        0.633224    0.508242              \n",
      "6000        0.623945    0.501378              \n",
      "6100        0.624663    0.500658              \n",
      "6200        0.622712    0.524187              \n",
      "6300        0.612124    0.495163              \n",
      "6400        0.602105    0.493113              \n",
      "6500        0.609591    0.491605              \n",
      "6600        0.597047    0.486773              \n",
      "6700        0.590188    0.48699               \n",
      "6800        0.601808    0.507314              \n",
      "6900        0.594023    0.491994              \n",
      "7000        0.587758    0.481046              \n",
      "7100        0.59407     0.495928              \n",
      "7200        0.584576    0.476102              \n",
      "7300        0.581773    0.477031              \n",
      "7400        0.580434    0.51325               \n",
      "7500        0.5806      0.474089              \n",
      "7600        0.571791    0.470039              \n",
      "7700        0.572822    0.46594               \n",
      "7800        0.580689    0.487717              \n",
      "7900        0.568537    0.478133              \n",
      "8000        0.565575    0.483878              \n",
      "8100        0.560814    0.461574              \n",
      "8200        0.561854    0.49018               \n",
      "8300        0.554567    0.462739              \n",
      "8400        0.553005    0.460068              \n",
      "8500        0.549496    0.457876              \n",
      "8600        0.555759    0.464907              \n",
      "8700        0.551483    0.477541              \n",
      "8800        0.54644     0.449473              \n",
      "8900        0.543629    0.453819              \n",
      "9000        0.538398    0.461736              \n",
      "9100        0.5447      0.44295               \n",
      "9200        0.536127    0.448371              \n",
      "9300        0.54045     0.438609              \n",
      "9400        0.5344      0.443552              \n",
      "9500        0.535118    0.43598               \n",
      "9600        0.533101    0.432485              \n",
      "9700        0.529818    0.433419              \n",
      "9800        0.531425    0.452482              \n",
      "9900        0.538894    0.441378              \n"
     ]
    }
   ],
   "source": [
    "model = ModelDropout()\n",
    "classifier = L.Classifier(model)\n",
    "optimizer = SGD()\n",
    "optimizer.setup(classifier)\n",
    "updater = StandardUpdater(train_iterator, optimizer, loss_func=classifier)\n",
    "trainer = Trainer(updater, (10000, 'iteration'))\n",
    "trainer.extend(Evaluator(dev_iterator, classifier), trigger=(100, 'iteration'))\n",
    "trainer.extend(PrintReport(['iteration', \"main/loss\", \"validation/main/loss\"]))\n",
    "\n",
    "logreport = LogReport(trigger=(100, 'iteration'))\n",
    "trainer.extend(logreport)\n",
    "trainer.run()"
   ]
  },
  {
   "cell_type": "code",
   "execution_count": 15,
   "metadata": {},
   "outputs": [
    {
     "data": {
      "text/plain": [
       "<matplotlib.axes._subplots.AxesSubplot at 0x21330eac9e8>"
      ]
     },
     "execution_count": 15,
     "metadata": {},
     "output_type": "execute_result"
    },
    {
     "data": {
      "image/png": "[encoded data removed]",
      "text/plain": [
       "<matplotlib.figure.Figure at 0x21331735710>"
      ]
     },
     "metadata": {},
     "output_type": "display_data"
    }
   ],
   "source": [
    "log_df = pd.DataFrame(logreport.log)\n",
    "pd.DataFrame(log_df[[\"main/loss\", \"validation/main/loss\"]].values, columns=[\"main/loss\", \"validation/main/loss\"], index=log_df[\"iteration\"]).plot()"
   ]
  },
  {
   "cell_type": "markdown",
   "metadata": {},
   "source": [
    "相当収束が遅くなってしまいましたね。これではDropoutの効果がよくわかりません。\n",
    "\n",
    "今はSGDを使っていますが、安定して早く収束すると言われているAdamに切り替えてみましょう。"
   ]
  },
  {
   "cell_type": "code",
   "execution_count": 16,
   "metadata": {
    "collapsed": true
   },
   "outputs": [],
   "source": [
    "from chainer.optimizers import Adam"
   ]
  },
  {
   "cell_type": "code",
   "execution_count": 17,
   "metadata": {},
   "outputs": [
    {
     "name": "stdout",
     "output_type": "stream",
     "text": [
      "iteration   main/loss   validation/main/loss\n",
      "100         1.60295     0.993365              \n",
      "200         1.10038     0.491401              \n",
      "300         0.815218    0.255879              \n",
      "400         0.63101     0.205319              \n",
      "500         0.52827     0.162381              \n",
      "600         0.443264    0.136715              \n",
      "700         0.401806    0.121699              \n",
      "800         0.385269    0.106774              \n",
      "900         0.358603    0.109477              \n",
      "1000        0.326567    0.189539              \n",
      "1100        0.307725    0.0855848             \n",
      "1200        0.293865    0.085624              \n",
      "1300        0.271067    0.0918318             \n",
      "1400        0.243285    0.0974879             \n",
      "1500        0.254879    0.0923003             \n",
      "1600        0.225764    0.0720237             \n",
      "1700        0.207589    0.0735655             \n",
      "1800        0.206147    0.0855495             \n",
      "1900        0.233777    0.145712              \n",
      "2000        0.25205     0.265792              \n",
      "2100        0.239375    0.0944478             \n",
      "2200        0.207601    0.0699305             \n",
      "2300        0.174152    0.0805232             \n",
      "2400        0.183827    0.0727369             \n",
      "2500        0.190345    0.0695133             \n",
      "2600        0.196697    0.0768418             \n",
      "2700        0.171374    0.0722675             \n",
      "2800        0.177834    0.092987              \n",
      "2900        0.173669    0.0752572             \n",
      "3000        0.167447    0.0718277             \n",
      "3100        0.141202    0.0629937             \n",
      "3200        0.17105     0.0719686             \n",
      "3300        0.153604    0.0732702             \n",
      "3400        0.155125    0.0698704             \n",
      "3500        0.172752    0.0849177             \n",
      "3600        0.215195    0.0762718             \n",
      "3700        0.163293    0.0691891             \n",
      "3800        0.1525      0.0752044             \n",
      "3900        0.144533    0.0700273             \n",
      "4000        0.151142    0.1481                \n",
      "4100        0.22886     0.0703666             \n",
      "4200        0.204985    0.0773741             \n",
      "4300        0.157789    0.0721986             \n",
      "4400        0.134505    0.0661571             \n",
      "4500        0.130813    0.0680215             \n",
      "4600        0.122667    0.0673727             \n",
      "4700        0.131158    0.0746723             \n",
      "4800        0.19259     0.19139               \n",
      "4900        0.195171    0.0993081             \n",
      "5000        0.156857    0.0759508             \n",
      "5100        0.165494    0.101667              \n",
      "5200        0.153717    0.0761311             \n",
      "5300        0.142526    0.0723762             \n",
      "5400        0.135286    0.0879125             \n",
      "5500        0.125815    0.0943133             \n",
      "5600        0.118361    0.0676027             \n",
      "5700        0.114165    0.0660091             \n",
      "5800        0.141427    0.119065              \n",
      "5900        0.131362    0.0672524             \n",
      "6000        0.124623    0.0631973             \n",
      "6100        0.107383    0.0838189             \n",
      "6200        0.118625    0.08525               \n",
      "6300        0.137154    0.0555256             \n",
      "6400        0.122283    0.0582178             \n",
      "6500        0.126599    0.0657341             \n",
      "6600        0.122825    0.128071              \n",
      "6700        0.165092    0.0689976             \n",
      "6800        0.13809     0.0823268             \n",
      "6900        0.156525    0.0639507             \n",
      "7000        0.111564    0.0614573             \n",
      "7100        0.18332     0.0617911             \n",
      "7200        0.136826    0.0533387             \n",
      "7300        0.125856    0.0604446             \n",
      "7400        0.112446    0.0613224             \n",
      "7500        0.112388    0.069671              \n",
      "7600        0.121315    0.0766904             \n",
      "7700        0.108454    0.0665057             \n",
      "7800        0.11422     0.07582               \n",
      "7900        0.116426    0.0796737             \n",
      "8000        0.107329    0.0760274             \n",
      "8100        0.10406     0.0773782             \n",
      "8200        0.106638    0.0675754             \n",
      "8300        0.163436    0.0811988             \n",
      "8400        0.152852    0.101828              \n",
      "8500        0.150926    0.0683554             \n",
      "8600        0.113397    0.071334              \n",
      "8700        0.122217    0.0641491             \n",
      "8800        0.101393    0.0732501             \n",
      "8900        0.10654     0.0601724             \n",
      "9000        0.136831    0.0840941             \n",
      "9100        0.12442     0.079751              \n",
      "9200        0.137338    0.121314              \n",
      "9300        0.108143    0.0706786             \n",
      "9400        0.102642    0.0584092             \n",
      "9500        0.124073    0.0629007             \n",
      "9600        0.0992376   0.0738455             \n",
      "9700        0.0998332   0.0659642             \n",
      "9800        0.116589    0.0559717             \n",
      "9900        0.122158    0.0819864             \n"
     ]
    }
   ],
   "source": [
    "model = ModelDropout()\n",
    "classifier = L.Classifier(model)\n",
    "optimizer = Adam() # <- ここをAdamに変えた\n",
    "optimizer.setup(classifier)\n",
    "updater = StandardUpdater(train_iterator, optimizer, loss_func=classifier)\n",
    "trainer = Trainer(updater, (10000, 'iteration'))\n",
    "trainer.extend(Evaluator(dev_iterator, classifier), trigger=(100, 'iteration'))\n",
    "trainer.extend(PrintReport(['iteration', \"main/loss\", \"validation/main/loss\"]))\n",
    "\n",
    "logreport = LogReport(trigger=(100, 'iteration'))\n",
    "trainer.extend(logreport)\n",
    "trainer.run()"
   ]
  },
  {
   "cell_type": "code",
   "execution_count": 18,
   "metadata": {},
   "outputs": [
    {
     "data": {
      "text/plain": [
       "<matplotlib.axes._subplots.AxesSubplot at 0x2132fe63240>"
      ]
     },
     "execution_count": 18,
     "metadata": {},
     "output_type": "execute_result"
    },
    {
     "data": {
      "image/png": "[encoded data removed]",
      "text/plain": [
       "<matplotlib.figure.Figure at 0x2133376f828>"
      ]
     },
     "metadata": {},
     "output_type": "display_data"
    }
   ],
   "source": [
    "log_df = pd.DataFrame(logreport.log)\n",
    "pd.DataFrame(log_df[[\"main/loss\", \"validation/main/loss\"]].values, columns=[\"main/loss\", \"validation/main/loss\"], index=log_df[\"iteration\"]).plot()"
   ]
  },
  {
   "cell_type": "markdown",
   "metadata": {},
   "source": [
    "学習データのlossが収束しても、開発データのlossが悪化していません。これがDropoutの効果です。"
   ]
  },
  {
   "cell_type": "markdown",
   "metadata": {},
   "source": [
    "## Dropoutは何をしているのか"
   ]
  },
  {
   "cell_type": "markdown",
   "metadata": {},
   "source": [
    "Dropoutの威力についてはご理解頂けたかと思います。それではDropoutとは何をしているのでしょうか？実際に動かして見てみましょう。"
   ]
  },
  {
   "cell_type": "code",
   "execution_count": 19,
   "metadata": {
    "collapsed": true
   },
   "outputs": [],
   "source": [
    "x = np.random.random(10).reshape((1,10)).astype(np.float32)"
   ]
  },
  {
   "cell_type": "code",
   "execution_count": 20,
   "metadata": {},
   "outputs": [
    {
     "data": {
      "text/plain": [
       "array([[  9.11708176e-01,   9.63724032e-02,   6.12630160e-04,\n",
       "          6.68169975e-01,   8.09404731e-01,   1.88800380e-01,\n",
       "          3.11954021e-02,   3.40308934e-01,   3.80505174e-01,\n",
       "          2.84421183e-02]], dtype=float32)"
      ]
     },
     "execution_count": 20,
     "metadata": {},
     "output_type": "execute_result"
    }
   ],
   "source": [
    "x"
   ]
  },
  {
   "cell_type": "code",
   "execution_count": 21,
   "metadata": {},
   "outputs": [
    {
     "data": {
      "text/plain": [
       "variable([[  1.82341635e+00,   1.92744806e-01,   1.22526032e-03,\n",
       "             1.33633995e+00,   1.61880946e+00,   0.00000000e+00,\n",
       "             6.23908043e-02,   6.80617869e-01,   7.61010349e-01,\n",
       "             5.68842366e-02]])"
      ]
     },
     "execution_count": 21,
     "metadata": {},
     "output_type": "execute_result"
    }
   ],
   "source": [
    "F.dropout(x, ratio=0.5)"
   ]
  },
  {
   "cell_type": "markdown",
   "metadata": {},
   "source": [
    "10個の入力のうち、5個が0になっていますね！これがDropoutのアイディアです。ratioとは何でしょうか。試しに0をセットしてみましょう。"
   ]
  },
  {
   "cell_type": "code",
   "execution_count": 22,
   "metadata": {},
   "outputs": [
    {
     "data": {
      "text/plain": [
       "variable([[  9.11708176e-01,   9.63724032e-02,   6.12630160e-04,\n",
       "             6.68169975e-01,   8.09404731e-01,   1.88800380e-01,\n",
       "             3.11954021e-02,   3.40308934e-01,   3.80505174e-01,\n",
       "             2.84421183e-02]])"
      ]
     },
     "execution_count": 22,
     "metadata": {},
     "output_type": "execute_result"
    }
   ],
   "source": [
    "F.dropout(x, ratio=0)"
   ]
  },
  {
   "cell_type": "markdown",
   "metadata": {},
   "source": [
    "何も変わりません。\n",
    "\n",
    "実はDropoutとは、入力値の一部を強制的に0に置き換える処理のことを言います。ratioとは置き換える数の割合です。\n",
    "\n",
    "0にならなかった部分の値が変わってしまっているのが気になるかもしれませんが、これは値の総量ができるだけ変わらないように全体に$1 / (1-\\mathrm{ratio})$だけ補正がかけられた結果です。"
   ]
  },
  {
   "cell_type": "markdown",
   "metadata": {},
   "source": [
    "驚くほどシンプルですよね。"
   ]
  },
  {
   "cell_type": "markdown",
   "metadata": {},
   "source": [
    "## Dropoutの性質"
   ]
  },
  {
   "cell_type": "markdown",
   "metadata": {},
   "source": [
    "Dropoutの性質として、3つ知っておいて頂きたいことがあります。\n",
    "\n",
    "* 上記の実験でも出てきたように、Dropoutを使うと学習の収束が遅くなるという問題があります。今回はその問題を解決するため、optimizerとしてAdamを使いました。\n",
    "* ratioの値を小さくすると収束が早くなり、大きくすると収束が遅くなります。\n",
    "* ほとんどの場合、ratio=0.5のとき、ほぼ最高性能となります。"
   ]
  },
  {
   "cell_type": "markdown",
   "metadata": {},
   "source": [
    "3つ目の、ratio=0.5のとき最高性能となる理由については様々な研究があります。その中でもわかりやすいのは、「Dropoutは、ratio=0.5のときRidge正則化が行われていると解釈できる」というものです。詳細については https://arxiv.org/pdf/1307.1493.pdf をご覧ください。(この論文は難しいです)"
   ]
  },
  {
   "cell_type": "markdown",
   "metadata": {},
   "source": [
    "# 演習"
   ]
  },
  {
   "cell_type": "markdown",
   "metadata": {},
   "source": [
    "「ratioの値を小さくすると収束が早くなり、大きくすると収束が遅くな」ることを実験で確認してください。"
   ]
  },
  {
   "cell_type": "markdown",
   "metadata": {},
   "source": [
    "# 参考資料"
   ]
  },
  {
   "cell_type": "markdown",
   "metadata": {},
   "source": [
    "https://arxiv.org/pdf/1307.1493.pdf"
   ]
  },
  {
   "cell_type": "code",
   "execution_count": null,
   "metadata": {
    "collapsed": true
   },
   "outputs": [],
   "source": []
  }
 ],
 "metadata": {
  "kernelspec": {
   "display_name": "Python 3",
   "language": "python",
   "name": "python3"
  },
  "language_info": {
   "codemirror_mode": {
    "name": "ipython",
    "version": 3
   },
   "file_extension": ".py",
   "mimetype": "text/x-python",
   "name": "python",
   "nbconvert_exporter": "python",
   "pygments_lexer": "ipython3",
   "version": "3.6.1"
  }
 },
 "nbformat": 4,
 "nbformat_minor": 2
}
